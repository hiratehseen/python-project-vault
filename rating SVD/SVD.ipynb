{
  "nbformat": 4,
  "nbformat_minor": 0,
  "metadata": {
    "colab": {
      "provenance": [],
      "gpuType": "T4"
    },
    "kernelspec": {
      "name": "python3",
      "display_name": "Python 3"
    },
    "language_info": {
      "name": "python"
    },
    "gpuClass": "standard"
  },
  "cells": [
    {
      "cell_type": "code",
      "source": [
        "from google.colab import drive\n",
        "drive.mount('/content/drive')"
      ],
      "metadata": {
        "colab": {
          "base_uri": "https://localhost:8080/"
        },
        "id": "gQoHVhUSjbRY",
        "outputId": "303677f4-9fbd-4300-ee5b-357f56b15bed"
      },
      "execution_count": 1,
      "outputs": [
        {
          "output_type": "stream",
          "name": "stdout",
          "text": [
            "Mounted at /content/drive\n"
          ]
        }
      ]
    },
    {
      "cell_type": "code",
      "source": [
        "!pip install surprise"
      ],
      "metadata": {
        "colab": {
          "base_uri": "https://localhost:8080/"
        },
        "id": "f7MViYtBjtRh",
        "outputId": "8b47f2d7-0e43-4326-f040-16a3382cd841"
      },
      "execution_count": 2,
      "outputs": [
        {
          "output_type": "stream",
          "name": "stdout",
          "text": [
            "Looking in indexes: https://pypi.org/simple, https://us-python.pkg.dev/colab-wheels/public/simple/\n",
            "Collecting surprise\n",
            "  Downloading surprise-0.1-py2.py3-none-any.whl (1.8 kB)\n",
            "Collecting scikit-surprise (from surprise)\n",
            "  Downloading scikit-surprise-1.1.3.tar.gz (771 kB)\n",
            "\u001b[2K     \u001b[90m━━━━━━━━━━━━━━━━━━━━━━━━━━━━━━━━━━━━━━\u001b[0m \u001b[32m772.0/772.0 kB\u001b[0m \u001b[31m17.9 MB/s\u001b[0m eta \u001b[36m0:00:00\u001b[0m\n",
            "\u001b[?25h  Preparing metadata (setup.py) ... \u001b[?25l\u001b[?25hdone\n",
            "Requirement already satisfied: joblib>=1.0.0 in /usr/local/lib/python3.10/dist-packages (from scikit-surprise->surprise) (1.2.0)\n",
            "Requirement already satisfied: numpy>=1.17.3 in /usr/local/lib/python3.10/dist-packages (from scikit-surprise->surprise) (1.22.4)\n",
            "Requirement already satisfied: scipy>=1.3.2 in /usr/local/lib/python3.10/dist-packages (from scikit-surprise->surprise) (1.10.1)\n",
            "Building wheels for collected packages: scikit-surprise\n",
            "  Building wheel for scikit-surprise (setup.py) ... \u001b[?25l\u001b[?25hdone\n",
            "  Created wheel for scikit-surprise: filename=scikit_surprise-1.1.3-cp310-cp310-linux_x86_64.whl size=3095446 sha256=82432e3172df08b2ab2da5d8ae96f02f5d9cc4b9f2e76be3aeb3e15a416426be\n",
            "  Stored in directory: /root/.cache/pip/wheels/a5/ca/a8/4e28def53797fdc4363ca4af740db15a9c2f1595ebc51fb445\n",
            "Successfully built scikit-surprise\n",
            "Installing collected packages: scikit-surprise, surprise\n",
            "Successfully installed scikit-surprise-1.1.3 surprise-0.1\n"
          ]
        }
      ]
    },
    {
      "cell_type": "markdown",
      "source": [
        "### Import Libraries"
      ],
      "metadata": {
        "id": "Ag-OtcV1siBa"
      }
    },
    {
      "cell_type": "code",
      "source": [
        "# Import necessary libraries\n",
        "import pandas as pd\n",
        "import numpy as np\n",
        "from collections import defaultdict\n",
        "from surprise import Dataset, Reader, SVD, accuracy\n",
        "from sklearn.svm import SVC\n",
        "from sklearn.model_selection import train_test_split\n",
        "from sklearn.metrics import precision_score, recall_score, f1_score, accuracy_score"
      ],
      "metadata": {
        "id": "w8oQo81bsqtc"
      },
      "execution_count": 3,
      "outputs": []
    },
    {
      "cell_type": "markdown",
      "source": [
        "### Load Dataset"
      ],
      "metadata": {
        "id": "nOE670qlssRy"
      }
    },
    {
      "cell_type": "code",
      "source": [
        "# Load the dataset from csv file\n",
        "df1 = pd.read_csv('/content/drive/MyDrive/Notebooks/Rating/rats.csv')\n",
        "df2 = pd.read_csv('/content/drive/MyDrive/Notebooks/Rating/icat.csv')\n",
        "merged_df = pd.merge(df1, df2, on='itemId')\n",
        "\n",
        "# create new dataframe\n",
        "df3 = pd.DataFrame(merged_df)\n",
        "df3.head()"
      ],
      "metadata": {
        "id": "PjKiSszxsw5H",
        "colab": {
          "base_uri": "https://localhost:8080/",
          "height": 206
        },
        "outputId": "e363895e-28ac-4854-b219-d440de53345c"
      },
      "execution_count": 4,
      "outputs": [
        {
          "output_type": "execute_result",
          "data": {
            "text/plain": [
              "   userId  itemId    rating         ItemName    Category   Quality\n",
              "0      13       0  1.533462  Restaurant Fake  ['Gastro']  1.647351\n",
              "1      15       0  1.283205  Restaurant Fake  ['Gastro']  1.647351\n",
              "2      17       0  1.506836  Restaurant Fake  ['Gastro']  1.647351\n",
              "3      19       0  1.260289  Restaurant Fake  ['Gastro']  1.647351\n",
              "4      23       0  3.203168  Restaurant Fake  ['Gastro']  1.647351"
            ],
            "text/html": [
              "\n",
              "  <div id=\"df-e4543a99-a816-42cc-9096-267dd1dbc885\">\n",
              "    <div class=\"colab-df-container\">\n",
              "      <div>\n",
              "<style scoped>\n",
              "    .dataframe tbody tr th:only-of-type {\n",
              "        vertical-align: middle;\n",
              "    }\n",
              "\n",
              "    .dataframe tbody tr th {\n",
              "        vertical-align: top;\n",
              "    }\n",
              "\n",
              "    .dataframe thead th {\n",
              "        text-align: right;\n",
              "    }\n",
              "</style>\n",
              "<table border=\"1\" class=\"dataframe\">\n",
              "  <thead>\n",
              "    <tr style=\"text-align: right;\">\n",
              "      <th></th>\n",
              "      <th>userId</th>\n",
              "      <th>itemId</th>\n",
              "      <th>rating</th>\n",
              "      <th>ItemName</th>\n",
              "      <th>Category</th>\n",
              "      <th>Quality</th>\n",
              "    </tr>\n",
              "  </thead>\n",
              "  <tbody>\n",
              "    <tr>\n",
              "      <th>0</th>\n",
              "      <td>13</td>\n",
              "      <td>0</td>\n",
              "      <td>1.533462</td>\n",
              "      <td>Restaurant Fake</td>\n",
              "      <td>['Gastro']</td>\n",
              "      <td>1.647351</td>\n",
              "    </tr>\n",
              "    <tr>\n",
              "      <th>1</th>\n",
              "      <td>15</td>\n",
              "      <td>0</td>\n",
              "      <td>1.283205</td>\n",
              "      <td>Restaurant Fake</td>\n",
              "      <td>['Gastro']</td>\n",
              "      <td>1.647351</td>\n",
              "    </tr>\n",
              "    <tr>\n",
              "      <th>2</th>\n",
              "      <td>17</td>\n",
              "      <td>0</td>\n",
              "      <td>1.506836</td>\n",
              "      <td>Restaurant Fake</td>\n",
              "      <td>['Gastro']</td>\n",
              "      <td>1.647351</td>\n",
              "    </tr>\n",
              "    <tr>\n",
              "      <th>3</th>\n",
              "      <td>19</td>\n",
              "      <td>0</td>\n",
              "      <td>1.260289</td>\n",
              "      <td>Restaurant Fake</td>\n",
              "      <td>['Gastro']</td>\n",
              "      <td>1.647351</td>\n",
              "    </tr>\n",
              "    <tr>\n",
              "      <th>4</th>\n",
              "      <td>23</td>\n",
              "      <td>0</td>\n",
              "      <td>3.203168</td>\n",
              "      <td>Restaurant Fake</td>\n",
              "      <td>['Gastro']</td>\n",
              "      <td>1.647351</td>\n",
              "    </tr>\n",
              "  </tbody>\n",
              "</table>\n",
              "</div>\n",
              "      <button class=\"colab-df-convert\" onclick=\"convertToInteractive('df-e4543a99-a816-42cc-9096-267dd1dbc885')\"\n",
              "              title=\"Convert this dataframe to an interactive table.\"\n",
              "              style=\"display:none;\">\n",
              "        \n",
              "  <svg xmlns=\"http://www.w3.org/2000/svg\" height=\"24px\"viewBox=\"0 0 24 24\"\n",
              "       width=\"24px\">\n",
              "    <path d=\"M0 0h24v24H0V0z\" fill=\"none\"/>\n",
              "    <path d=\"M18.56 5.44l.94 2.06.94-2.06 2.06-.94-2.06-.94-.94-2.06-.94 2.06-2.06.94zm-11 1L8.5 8.5l.94-2.06 2.06-.94-2.06-.94L8.5 2.5l-.94 2.06-2.06.94zm10 10l.94 2.06.94-2.06 2.06-.94-2.06-.94-.94-2.06-.94 2.06-2.06.94z\"/><path d=\"M17.41 7.96l-1.37-1.37c-.4-.4-.92-.59-1.43-.59-.52 0-1.04.2-1.43.59L10.3 9.45l-7.72 7.72c-.78.78-.78 2.05 0 2.83L4 21.41c.39.39.9.59 1.41.59.51 0 1.02-.2 1.41-.59l7.78-7.78 2.81-2.81c.8-.78.8-2.07 0-2.86zM5.41 20L4 18.59l7.72-7.72 1.47 1.35L5.41 20z\"/>\n",
              "  </svg>\n",
              "      </button>\n",
              "      \n",
              "  <style>\n",
              "    .colab-df-container {\n",
              "      display:flex;\n",
              "      flex-wrap:wrap;\n",
              "      gap: 12px;\n",
              "    }\n",
              "\n",
              "    .colab-df-convert {\n",
              "      background-color: #E8F0FE;\n",
              "      border: none;\n",
              "      border-radius: 50%;\n",
              "      cursor: pointer;\n",
              "      display: none;\n",
              "      fill: #1967D2;\n",
              "      height: 32px;\n",
              "      padding: 0 0 0 0;\n",
              "      width: 32px;\n",
              "    }\n",
              "\n",
              "    .colab-df-convert:hover {\n",
              "      background-color: #E2EBFA;\n",
              "      box-shadow: 0px 1px 2px rgba(60, 64, 67, 0.3), 0px 1px 3px 1px rgba(60, 64, 67, 0.15);\n",
              "      fill: #174EA6;\n",
              "    }\n",
              "\n",
              "    [theme=dark] .colab-df-convert {\n",
              "      background-color: #3B4455;\n",
              "      fill: #D2E3FC;\n",
              "    }\n",
              "\n",
              "    [theme=dark] .colab-df-convert:hover {\n",
              "      background-color: #434B5C;\n",
              "      box-shadow: 0px 1px 3px 1px rgba(0, 0, 0, 0.15);\n",
              "      filter: drop-shadow(0px 1px 2px rgba(0, 0, 0, 0.3));\n",
              "      fill: #FFFFFF;\n",
              "    }\n",
              "  </style>\n",
              "\n",
              "      <script>\n",
              "        const buttonEl =\n",
              "          document.querySelector('#df-e4543a99-a816-42cc-9096-267dd1dbc885 button.colab-df-convert');\n",
              "        buttonEl.style.display =\n",
              "          google.colab.kernel.accessAllowed ? 'block' : 'none';\n",
              "\n",
              "        async function convertToInteractive(key) {\n",
              "          const element = document.querySelector('#df-e4543a99-a816-42cc-9096-267dd1dbc885');\n",
              "          const dataTable =\n",
              "            await google.colab.kernel.invokeFunction('convertToInteractive',\n",
              "                                                     [key], {});\n",
              "          if (!dataTable) return;\n",
              "\n",
              "          const docLinkHtml = 'Like what you see? Visit the ' +\n",
              "            '<a target=\"_blank\" href=https://colab.research.google.com/notebooks/data_table.ipynb>data table notebook</a>'\n",
              "            + ' to learn more about interactive tables.';\n",
              "          element.innerHTML = '';\n",
              "          dataTable['output_type'] = 'display_data';\n",
              "          await google.colab.output.renderOutput(dataTable, element);\n",
              "          const docLink = document.createElement('div');\n",
              "          docLink.innerHTML = docLinkHtml;\n",
              "          element.appendChild(docLink);\n",
              "        }\n",
              "      </script>\n",
              "    </div>\n",
              "  </div>\n",
              "  "
            ]
          },
          "metadata": {},
          "execution_count": 4
        }
      ]
    },
    {
      "cell_type": "code",
      "source": [
        "# Round the rating values to the nearest integer\n",
        "df3['rating'] = df3['rating'].round()\n",
        "\n",
        "# Convert the rating values to integer type\n",
        "df3['rating'] = df3['rating'].astype(int)"
      ],
      "metadata": {
        "id": "jfBvSFQT0WYl"
      },
      "execution_count": 5,
      "outputs": []
    },
    {
      "cell_type": "markdown",
      "source": [
        "# Collaborative Filtering"
      ],
      "metadata": {
        "id": "V0SdMzi1EvZK"
      }
    },
    {
      "cell_type": "code",
      "execution_count": 6,
      "metadata": {
        "colab": {
          "base_uri": "https://localhost:8080/"
        },
        "id": "lfBc1ekujSHp",
        "outputId": "58c005d9-78c4-4380-80ac-c0d82f04283b"
      },
      "outputs": [
        {
          "output_type": "stream",
          "name": "stdout",
          "text": [
            "RMSE: 0.6601\n",
            "CF RMSE: 0.6600582475462539\n",
            "MAE:  0.5705\n",
            "CF MAE: 0.5704795894758707\n"
          ]
        }
      ],
      "source": [
        "# Define the reader for the Surprise library\n",
        "reader = Reader(rating_scale=(1, 5))\n",
        "# Split the dataset into training and testing sets\n",
        "train_set, test_set = train_test_split(df3, test_size=0.2, random_state=42)\n",
        "\n",
        "# Load the training dataset into the Surprise format\n",
        "data = Dataset.load_from_df(train_set[['userId', 'itemId', 'rating']], reader)\n",
        "\n",
        "# Split the dataset into training and testing sets\n",
        "trainset = data.build_full_trainset()\n",
        "testset = trainset.build_anti_testset()\n",
        "\n",
        "# Train the SVD model\n",
        "svd = SVD(random_state=42)\n",
        "svd.fit(trainset)\n",
        "\n",
        "# Test the model on the testing set\n",
        "predictions = svd.test(testset)\n",
        "\n",
        "# Calculate metrics\n",
        "print('CF RMSE:', accuracy.rmse(predictions))\n",
        "print('CF MAE:', accuracy.mae(predictions))"
      ]
    },
    {
      "cell_type": "markdown",
      "source": [
        "# Content Based Filtering"
      ],
      "metadata": {
        "id": "GpLRjvbZkGlW"
      }
    },
    {
      "cell_type": "code",
      "source": [
        "# Load the training dataset into the Surprise format\n",
        "data = Dataset.load_from_df(train_set[['userId', 'Category', 'rating']], reader)\n",
        "\n",
        "# Split the dataset into training and testing sets\n",
        "trainset = data.build_full_trainset()\n",
        "testset = trainset.build_anti_testset()\n",
        "\n",
        "# Train the SVD model\n",
        "svd = SVD(random_state=42)\n",
        "svd.fit(trainset)\n",
        "\n",
        "# Test the model on the testing set\n",
        "predictions = svd.test(testset)\n",
        "\n",
        "# Calculate metrics\n",
        "print('Content Based RMSE:', accuracy.rmse(predictions))\n",
        "print('Content Based MAE:', accuracy.mae(predictions))"
      ],
      "metadata": {
        "id": "w_t2dQIDYWWV",
        "colab": {
          "base_uri": "https://localhost:8080/"
        },
        "outputId": "40a34f5f-8ff6-43d1-db69-3294420822b8"
      },
      "execution_count": 7,
      "outputs": [
        {
          "output_type": "stream",
          "name": "stdout",
          "text": [
            "RMSE: 0.5981\n",
            "Content Based RMSE: 0.5981440474571738\n",
            "MAE:  0.4891\n",
            "Content Based MAE: 0.48913407895147143\n"
          ]
        }
      ]
    },
    {
      "cell_type": "code",
      "source": [
        "# Extract the predicted ratings and the original ratings\n",
        "y_pred = [round(pred.est) for pred in predictions]\n",
        "y_true = [int(pred.r_ui) for pred in predictions]\n",
        "\n",
        "# Evaluate the performance of the model using classification metrics\n",
        "# Precision\n",
        "precision = precision_score(y_true, y_pred, average='macro')\n",
        "\n",
        "# Recall\n",
        "recall = recall_score(y_true, y_pred, average='macro')\n",
        "\n",
        "# F1 score micro\n",
        "f1_micro = f1_score(y_true, y_pred, average='micro')\n",
        "\n",
        "# F1 score macro\n",
        "f1_macro = f1_score(y_true, y_pred, average='macro')\n",
        "\n",
        "# Print the classification metrics\n",
        "print(f\"CF Precision: {precision}\")\n",
        "print(f\"CF Recall: {recall}\")\n",
        "print(f\"CF Micro F1 score: {f1_micro}\")\n",
        "print(f\"CF Macro F1 score: {f1_macro}\")"
      ],
      "metadata": {
        "colab": {
          "base_uri": "https://localhost:8080/"
        },
        "id": "lp2HWkmQaHlY",
        "outputId": "2277b7f5-e7f3-434e-8b99-5ee83d5a668b"
      },
      "execution_count": 8,
      "outputs": [
        {
          "output_type": "stream",
          "name": "stderr",
          "text": [
            "/usr/local/lib/python3.10/dist-packages/sklearn/metrics/_classification.py:1344: UndefinedMetricWarning: Recall is ill-defined and being set to 0.0 in labels with no true samples. Use `zero_division` parameter to control this behavior.\n",
            "  _warn_prf(average, modifier, msg_start, len(result))\n"
          ]
        },
        {
          "output_type": "stream",
          "name": "stdout",
          "text": [
            "CF Precision: 0.2\n",
            "CF Recall: 0.09338787595449587\n",
            "CF Micro F1 score: 0.46693937977247935\n",
            "CF Macro F1 score: 0.12732342895993456\n"
          ]
        }
      ]
    },
    {
      "cell_type": "markdown",
      "source": [
        "### Top 5 & 10"
      ],
      "metadata": {
        "id": "8gnD7gYm0EUx"
      }
    },
    {
      "cell_type": "code",
      "source": [
        "# Evaluate the model using RMSE and MAE metrics on top 5 & 10\n",
        "rmse_5 = accuracy.rmse(predictions[:5])\n",
        "rmse_10 = accuracy.rmse(predictions[:10])\n",
        "mae_5 = accuracy.mae(predictions[:5])\n",
        "mae_10 = accuracy.mae(predictions[:10])\n",
        "print('RMSE@5:', rmse_5)\n",
        "print('RMSE@10:', rmse_10)\n",
        "print('MAE@5:', mae_5)\n",
        "print('MAE@10:', mae_10)"
      ],
      "metadata": {
        "colab": {
          "base_uri": "https://localhost:8080/"
        },
        "id": "2Lt0u78rw2eP",
        "outputId": "9feaea0a-970b-4e50-9fb0-85ba30b4e3bf"
      },
      "execution_count": 9,
      "outputs": [
        {
          "output_type": "stream",
          "name": "stdout",
          "text": [
            "RMSE: 0.3357\n",
            "RMSE: 0.4044\n",
            "MAE:  0.2661\n",
            "MAE:  0.3079\n",
            "RMSE@5: 0.3356734644783255\n",
            "RMSE@10: 0.4044118416572703\n",
            "MAE@5: 0.26607430391129144\n",
            "MAE@10: 0.3079062641698405\n"
          ]
        }
      ]
    },
    {
      "cell_type": "markdown",
      "source": [
        "### Top 5 Fold"
      ],
      "metadata": {
        "id": "ldLtc2nKSJlk"
      }
    },
    {
      "cell_type": "code",
      "source": [
        "from surprise.model_selection import cross_validate\n",
        "\n",
        "# Train and evaluate the SVD model using 5-fold cross-validation\n",
        "cv_results = cross_validate(svd, data, measures=['RMSE', 'MAE'], cv=5, verbose=True)\n",
        "\n",
        "# Print the average RMSE and MAE across all folds\n",
        "print('Average RMSE:', np.mean(cv_results['test_rmse']))\n",
        "print('Average MAE:', np.mean(cv_results['test_mae']))"
      ],
      "metadata": {
        "colab": {
          "base_uri": "https://localhost:8080/"
        },
        "id": "RNS82wKASG9P",
        "outputId": "b14e3964-19b9-4d22-dadf-7f79bf861f3e"
      },
      "execution_count": 10,
      "outputs": [
        {
          "output_type": "stream",
          "name": "stdout",
          "text": [
            "Evaluating RMSE, MAE of algorithm SVD on 5 split(s).\n",
            "\n",
            "                  Fold 1  Fold 2  Fold 3  Fold 4  Fold 5  Mean    Std     \n",
            "RMSE (testset)    0.9651  0.9658  0.9648  0.9716  0.9678  0.9670  0.0025  \n",
            "MAE (testset)     0.7775  0.7789  0.7787  0.7868  0.7823  0.7808  0.0034  \n",
            "Fit time          7.25    5.75    6.39    4.08    5.50    5.79    1.05    \n",
            "Test time         0.72    0.65    1.03    0.40    0.40    0.64    0.23    \n",
            "Average RMSE: 0.9670208734696576\n",
            "Average MAE: 0.7808307392821937\n"
          ]
        }
      ]
    },
    {
      "cell_type": "markdown",
      "source": [
        "### Top 5 Item Id/Name"
      ],
      "metadata": {
        "id": "nBqkpjqMRX0x"
      }
    },
    {
      "cell_type": "code",
      "source": [
        "# make dictionary of users and their catogries\n",
        "user_categories = defaultdict(list)\n",
        "for row in trainset.all_ratings():\n",
        "    user = trainset.to_raw_uid(row[0])\n",
        "    category = trainset.to_raw_iid(row[1])\n",
        "    user_categories[user].append(category)\n",
        "\n",
        "# Slice the dictionary\n",
        "user_categories = {key: user_categories[key] for key in list(user_categories.keys())[:1000]}\n",
        "# Print the subset\n",
        "print(user_categories)"
      ],
      "metadata": {
        "colab": {
          "base_uri": "https://localhost:8080/"
        },
        "id": "G8wH1qdJRdYK",
        "outputId": "4c9ec58a-74bb-4664-9e15-66baa1c05ce1"
      },
      "execution_count": 11,
      "outputs": [
        {
          "output_type": "stream",
          "name": "stdout",
          "text": [
            "{2721: [\"['Beach']\", \"['Themeprk']\", \"['Gastro']\", \"['Shop', 'Relax']\", \"['Shop']\"], 22619: [\"['Nature', 'Relax']\", \"['Nightlf']\", \"['Sports', 'Events']\"], 73150: [\"['Nightlf']\", \"['Gastro']\", \"['Sports']\", \"['Shop']\", \"['Culture']\", \"['Culture']\"], 90550: [\"['Sports']\", \"['Nature', 'Relax']\", \"['Gastro']\", \"['Relax']\"], 9589: [\"['Events', 'Culture']\", \"['Shop', 'Relax']\", \"['Sports', 'Nature']\", \"['Nightlf']\"], 23324: [\"['Events', 'Culture']\", \"['Sports', 'Nature']\", \"['Nightlf']\"], 27397: [\"['Themeprk']\", \"['Gastro']\", \"['Events', 'Culture']\", \"['Gastro', 'Nightlf']\"], 54996: [\"['Gastro']\", \"['Sports', 'Nature']\", \"['Culture']\", \"['Sports']\"], 70677: [\"['Sports', 'Events']\", \"['Themeprk']\"], 60220: [\"['Gastro', 'Nightlf']\", \"['Sports', 'Nature']\", \"['Shop']\", \"['Sports']\", \"['Themeprk']\"], 18210: [\"['Beach']\"], 18163: [\"['Gastro', 'Nightlf']\", \"['Sports', 'Events']\", \"['Nightlf']\", \"['Relax']\", \"['Beach']\"], 93113: [\"['Sports', 'Nature']\", \"['Themeprk']\"], 29222: [\"['Nature', 'Relax']\", \"['Gastro', 'Culture']\", \"['Gastro']\", \"['Beach']\", \"['Shop', 'Relax']\"], 85306: [\"['Events', 'Culture']\", \"['Gastro']\", \"['Gastro', 'Culture']\", \"['Sports', 'Events']\"], 72570: [\"['Nightlf']\", \"['Shop', 'Relax']\", \"['Sports']\"], 60367: [\"['Themeprk']\", \"['Nightlf']\", \"['Sports', 'Events']\", \"['Beach']\", \"['Gastro']\", \"['Gastro', 'Culture']\"], 29480: [\"['Gastro', 'Nightlf']\", \"['Shop']\"], 23915: [\"['Sports']\", \"['Culture']\", \"['Events', 'Culture']\"], 68127: [\"['Sports', 'Nature']\", \"['Sports', 'Events']\"], 9660: [\"['Beach']\", \"['Relax']\", \"['Sports', 'Nature']\", \"['Gastro', 'Culture']\", \"['Nightlf']\", \"['Sports']\", \"['Culture']\"], 35617: [\"['Shop', 'Relax']\", \"['Events', 'Culture']\", \"['Nature', 'Relax']\", \"['Nightlf']\", \"['Gastro', 'Nightlf']\"], 13406: [\"['Relax']\", \"['Events', 'Culture']\", \"['Nightlf']\"], 90730: [\"['Shop', 'Relax']\", \"['Beach']\", \"['Themeprk']\", \"['Sports', 'Events']\"], 99928: [\"['Sports']\", \"['Gastro']\", \"['Sports', 'Events']\"], 37100: [\"['Beach']\", \"['Culture']\", \"['Culture']\"], 18502: [\"['Sports']\", \"['Culture']\", \"['Sports', 'Events']\", \"['Nature', 'Relax']\", \"['Sports', 'Nature']\"], 12515: [\"['Sports', 'Events']\", \"['Gastro']\", \"['Sports', 'Nature']\"], 42655: [\"['Sports', 'Events']\", \"['Gastro', 'Culture']\", \"['Themeprk']\"], 57632: [\"['Sports', 'Nature']\", \"['Culture']\", \"['Gastro', 'Culture']\", \"['Shop', 'Relax']\", \"['Events', 'Culture']\"], 35867: [\"['Gastro', 'Culture']\", \"['Gastro']\", \"['Gastro', 'Nightlf']\", \"['Shop', 'Relax']\", \"['Sports', 'Nature']\"], 74600: [\"['Events', 'Culture']\", \"['Beach']\", \"['Beach']\", \"['Nightlf']\", \"['Culture']\"], 56815: [\"['Sports']\", \"['Sports', 'Events']\", \"['Shop']\", \"['Nightlf']\", \"['Sports', 'Events']\"], 75564: [\"['Relax']\", \"['Nightlf']\"], 27828: [\"['Gastro']\", \"['Events', 'Culture']\", \"['Sports']\"], 47966: [\"['Sports']\", \"['Sports', 'Nature']\", \"['Events', 'Culture']\", \"['Nature', 'Relax']\", \"['Sports']\", \"['Gastro', 'Culture']\", \"['Beach']\"], 26754: [\"['Gastro', 'Culture']\", \"['Shop']\", \"['Relax']\"], 53404: [\"['Shop', 'Relax']\", \"['Beach']\", \"['Events', 'Culture']\"], 55639: [\"['Themeprk']\", \"['Nature', 'Relax']\", \"['Gastro']\", \"['Events', 'Culture']\", \"['Culture']\", \"['Shop']\"], 1666: [\"['Themeprk']\", \"['Culture']\", \"['Beach']\"], 97326: [\"['Events', 'Culture']\", \"['Sports', 'Nature']\", \"['Themeprk']\"], 34819: [\"['Beach']\", \"['Gastro']\", \"['Culture']\", \"['Sports', 'Nature']\"], 38367: [\"['Sports', 'Events']\", \"['Events', 'Culture']\", \"['Gastro']\", \"['Themeprk']\"], 9193: [\"['Sports', 'Nature']\", \"['Gastro', 'Nightlf']\"], 59353: [\"['Relax']\", \"['Gastro', 'Nightlf']\", \"['Shop', 'Relax']\", \"['Sports']\"], 27832: [\"['Themeprk']\", \"['Culture']\", \"['Gastro']\", \"['Events', 'Culture']\", \"['Gastro', 'Nightlf']\", \"['Sports', 'Events']\", \"['Beach']\", \"['Sports', 'Events']\", \"['Relax']\"], 23636: [\"['Sports']\", \"['Culture']\", \"['Beach']\"], 62700: [\"['Gastro']\", \"['Nightlf']\", \"['Gastro', 'Nightlf']\", \"['Beach']\", \"['Nature', 'Relax']\"], 23723: [\"['Events', 'Culture']\", \"['Beach']\", \"['Events', 'Culture']\"], 13825: [\"['Nature', 'Relax']\", \"['Culture']\", \"['Gastro']\", \"['Beach']\"], 94861: [\"['Relax']\", \"['Gastro']\", \"['Gastro']\", \"['Nightlf']\"], 21783: [\"['Sports', 'Nature']\", \"['Gastro', 'Culture']\", \"['Shop', 'Relax']\"], 92889: [\"['Culture']\", \"['Gastro']\"], 4130: [\"['Nightlf']\", \"['Shop', 'Relax']\"], 62952: [\"['Relax']\", \"['Gastro', 'Culture']\", \"['Nightlf']\"], 8726: [\"['Events', 'Culture']\", \"['Shop']\"], 60149: [\"['Events', 'Culture']\", \"['Gastro']\", \"['Sports', 'Events']\", \"['Events', 'Culture']\", \"['Shop']\"], 17772: [\"['Nature', 'Relax']\", \"['Events', 'Culture']\", \"['Sports', 'Events']\"], 56056: [\"['Sports']\", \"['Nature', 'Relax']\", \"['Beach']\", \"['Shop']\", \"['Relax']\"], 10612: [\"['Sports', 'Nature']\"], 67814: [\"['Sports', 'Events']\", \"['Gastro']\", \"['Gastro']\", \"['Gastro', 'Culture']\", \"['Sports', 'Nature']\"], 65573: [\"['Events', 'Culture']\", \"['Sports', 'Nature']\", \"['Events', 'Culture']\"], 70691: [\"['Sports']\", \"['Sports', 'Events']\", \"['Sports', 'Events']\"], 61543: [\"['Sports']\", \"['Nightlf']\", \"['Sports', 'Events']\"], 38107: [\"['Relax']\", \"['Events', 'Culture']\", \"['Sports', 'Events']\"], 48880: [\"['Nightlf']\", \"['Beach']\"], 32136: [\"['Gastro', 'Nightlf']\", \"['Events', 'Culture']\", \"['Nightlf']\"], 84: [\"['Relax']\", \"['Sports', 'Nature']\"], 38400: [\"['Sports', 'Nature']\", \"['Sports', 'Events']\", \"['Gastro']\", \"['Sports']\", \"['Shop']\"], 52078: [\"['Nightlf']\", \"['Culture']\", \"['Nightlf']\", \"['Gastro']\", \"['Events', 'Culture']\", \"['Beach']\", \"['Relax']\", \"['Shop']\"], 29212: [\"['Sports']\", \"['Gastro', 'Nightlf']\", \"['Nightlf']\", \"['Sports']\"], 34484: [\"['Events', 'Culture']\", \"['Shop', 'Relax']\"], 59559: [\"['Nightlf']\", \"['Sports', 'Nature']\", \"['Events', 'Culture']\", \"['Sports', 'Events']\", \"['Nature', 'Relax']\", \"['Sports', 'Events']\"], 32789: [\"['Nightlf']\", \"['Themeprk']\", \"['Gastro', 'Culture']\", \"['Sports', 'Nature']\"], 28595: [\"['Relax']\", \"['Sports', 'Nature']\", \"['Nightlf']\"], 89604: [\"['Shop', 'Relax']\", \"['Sports', 'Nature']\", \"['Nightlf']\"], 65401: [\"['Sports', 'Events']\", \"['Beach']\"], 92077: [\"['Themeprk']\", \"['Sports']\", \"['Shop']\"], 39154: [\"['Events', 'Culture']\", \"['Sports', 'Nature']\", \"['Events', 'Culture']\", \"['Themeprk']\"], 74601: [\"['Culture']\", \"['Sports', 'Events']\", \"['Shop', 'Relax']\", \"['Sports', 'Events']\"], 34417: [\"['Events', 'Culture']\", \"['Events', 'Culture']\", \"['Nature', 'Relax']\", \"['Sports']\"], 47612: [\"['Sports']\", \"['Events', 'Culture']\"], 948: [\"['Sports', 'Events']\", \"['Gastro', 'Nightlf']\", \"['Sports']\", \"['Sports', 'Nature']\", \"['Shop', 'Relax']\"], 61433: [\"['Beach']\", \"['Gastro']\", \"['Beach']\", \"['Nature', 'Relax']\", \"['Culture']\", \"['Gastro', 'Nightlf']\"], 51289: [\"['Gastro']\", \"['Sports']\"], 53215: [\"['Events', 'Culture']\", \"['Shop']\", \"['Gastro']\", \"['Sports']\"], 94963: [\"['Sports']\", \"['Sports', 'Events']\"], 2645: [\"['Gastro', 'Culture']\", \"['Sports', 'Events']\"], 86983: [\"['Shop']\"], 86557: [\"['Sports', 'Nature']\", \"['Gastro', 'Culture']\", \"['Nightlf']\", \"['Beach']\"], 29147: [\"['Gastro']\", \"['Gastro']\", \"['Nature', 'Relax']\", \"['Events', 'Culture']\", \"['Culture']\"], 94809: [\"['Sports']\", \"['Shop', 'Relax']\"], 94403: [\"['Sports', 'Nature']\"], 36483: [\"['Sports']\"], 97346: [\"['Themeprk']\", \"['Shop', 'Relax']\", \"['Beach']\", \"['Sports']\"], 41296: [\"['Nightlf']\", \"['Gastro']\", \"['Culture']\", \"['Sports', 'Nature']\"], 15191: [\"['Gastro', 'Nightlf']\", \"['Shop', 'Relax']\", \"['Gastro']\", \"['Sports', 'Nature']\"], 41235: [\"['Gastro', 'Culture']\", \"['Shop']\", \"['Sports', 'Nature']\", \"['Sports', 'Events']\"], 42883: [\"['Beach']\", \"['Sports', 'Events']\", \"['Sports', 'Events']\", \"['Relax']\"], 18437: [\"['Relax']\", \"['Gastro', 'Culture']\", \"['Nightlf']\"], 29596: [\"['Sports']\", \"['Shop']\", \"['Nightlf']\", \"['Sports', 'Nature']\"], 35807: [\"['Events', 'Culture']\", \"['Gastro', 'Nightlf']\", \"['Sports', 'Nature']\", \"['Shop', 'Relax']\", \"['Culture']\"], 57199: [\"['Nature', 'Relax']\", \"['Sports', 'Events']\", \"['Sports']\", \"['Gastro']\"], 98033: [\"['Shop']\", \"['Sports']\", \"['Beach']\", \"['Events', 'Culture']\"], 64572: [\"['Culture']\", \"['Nightlf']\", \"['Gastro', 'Culture']\"], 41705: [\"['Gastro']\", \"['Culture']\", \"['Themeprk']\", \"['Shop', 'Relax']\", \"['Events', 'Culture']\"], 5183: [\"['Events', 'Culture']\", \"['Sports', 'Events']\", \"['Gastro']\", \"['Gastro', 'Culture']\", \"['Shop', 'Relax']\"], 26828: [\"['Gastro', 'Nightlf']\", \"['Gastro']\", \"['Sports', 'Nature']\", \"['Nature', 'Relax']\", \"['Nightlf']\", \"['Gastro']\", \"['Beach']\"], 74384: [\"['Sports', 'Events']\", \"['Beach']\"], 2277: [\"['Gastro', 'Nightlf']\", \"['Beach']\"], 63672: [\"['Shop', 'Relax']\", \"['Sports', 'Events']\", \"['Sports', 'Nature']\"], 80680: [\"['Gastro']\", \"['Gastro', 'Culture']\", \"['Sports', 'Events']\", \"['Sports']\", \"['Shop']\", \"['Culture']\", \"['Events', 'Culture']\", \"['Nature', 'Relax']\", \"['Sports', 'Nature']\"], 9098: [\"['Shop', 'Relax']\", \"['Sports', 'Events']\", \"['Sports', 'Nature']\", \"['Beach']\", \"['Sports']\"], 87649: [\"['Gastro', 'Nightlf']\", \"['Events', 'Culture']\", \"['Nightlf']\", \"['Gastro']\", \"['Nightlf']\"], 25319: [\"['Shop']\", \"['Nature', 'Relax']\", \"['Beach']\", \"['Gastro']\", \"['Sports', 'Events']\"], 680: [\"['Events', 'Culture']\", \"['Nightlf']\"], 42944: [\"['Gastro', 'Culture']\", \"['Shop', 'Relax']\", \"['Beach']\", \"['Sports']\", \"['Sports', 'Nature']\", \"['Shop']\"], 61625: [\"['Sports', 'Events']\", \"['Gastro', 'Nightlf']\", \"['Gastro', 'Culture']\", \"['Beach']\"], 37377: [\"['Sports', 'Nature']\", \"['Gastro']\", \"['Gastro', 'Culture']\"], 11511: [\"['Culture']\", \"['Relax']\"], 77839: [\"['Events', 'Culture']\", \"['Relax']\", \"['Beach']\"], 63444: [\"['Shop', 'Relax']\", \"['Beach']\", \"['Relax']\", \"['Nightlf']\"], 81233: [\"['Gastro', 'Nightlf']\", \"['Beach']\", \"['Nature', 'Relax']\"], 76033: [\"['Beach']\", \"['Gastro']\", \"['Sports', 'Nature']\", \"['Beach']\", \"['Sports']\"], 1064: [\"['Shop']\", \"['Beach']\", \"['Beach']\", \"['Sports']\"], 98103: [\"['Nature', 'Relax']\", \"['Gastro']\", \"['Beach']\", \"['Nightlf']\", \"['Shop', 'Relax']\"], 54589: [\"['Events', 'Culture']\", \"['Sports', 'Events']\", \"['Shop', 'Relax']\", \"['Culture']\", \"['Sports']\", \"['Nightlf']\"], 10643: [\"['Nature', 'Relax']\"], 9222: [\"['Gastro', 'Culture']\", \"['Sports', 'Events']\", \"['Beach']\", \"['Culture']\", \"['Relax']\"], 38165: [\"['Sports']\"], 17901: [\"['Nature', 'Relax']\"], 63687: [\"['Sports', 'Nature']\", \"['Events', 'Culture']\", \"['Nature', 'Relax']\"], 26657: [\"['Nightlf']\", \"['Relax']\", \"['Shop']\", \"['Beach']\"], 83533: [\"['Beach']\", \"['Gastro', 'Nightlf']\", \"['Nature', 'Relax']\", \"['Themeprk']\", \"['Sports', 'Nature']\"], 21982: [\"['Gastro', 'Nightlf']\", \"['Sports', 'Events']\", \"['Gastro', 'Culture']\", \"['Gastro']\", \"['Shop', 'Relax']\"], 97058: [\"['Beach']\", \"['Sports', 'Events']\", \"['Sports', 'Nature']\", \"['Gastro']\"], 24566: [\"['Nature', 'Relax']\", \"['Culture']\", \"['Gastro']\", \"['Sports', 'Events']\", \"['Sports', 'Nature']\", \"['Relax']\", \"['Beach']\", \"['Gastro']\", \"['Beach']\", \"['Shop']\"], 8307: [\"['Sports']\", \"['Nightlf']\", \"['Sports', 'Nature']\", \"['Nature', 'Relax']\"], 5369: [\"['Sports', 'Events']\", \"['Shop', 'Relax']\", \"['Events', 'Culture']\", \"['Sports', 'Nature']\"], 14243: [\"['Nightlf']\", \"['Shop']\", \"['Sports']\"], 37783: [\"['Relax']\", \"['Beach']\"], 57674: [\"['Sports', 'Nature']\", \"['Sports']\", \"['Sports', 'Events']\", \"['Nightlf']\"], 27954: [\"['Sports', 'Nature']\", \"['Gastro', 'Culture']\", \"['Nature', 'Relax']\"], 54495: [\"['Gastro']\"], 8310: [\"['Sports', 'Events']\"], 28624: [\"['Sports']\", \"['Relax']\", \"['Events', 'Culture']\", \"['Sports', 'Nature']\", \"['Nightlf']\", \"['Shop']\"], 42882: [\"['Sports', 'Nature']\", \"['Nightlf']\", \"['Nightlf']\"], 71345: [\"['Relax']\", \"['Gastro', 'Nightlf']\", \"['Gastro', 'Culture']\", \"['Beach']\"], 69437: [\"['Themeprk']\", \"['Gastro', 'Nightlf']\", \"['Gastro']\", \"['Nature', 'Relax']\"], 2008: [\"['Sports']\", \"['Gastro', 'Nightlf']\", \"['Events', 'Culture']\"], 49948: [\"['Gastro']\", \"['Beach']\", \"['Sports']\"], 54886: [\"['Gastro']\", \"['Shop']\", \"['Sports']\"], 69791: [\"['Culture']\", \"['Beach']\", \"['Sports', 'Events']\", \"['Themeprk']\", \"['Sports', 'Events']\"], 10680: [\"['Sports']\", \"['Gastro']\"], 77123: [\"['Gastro']\", \"['Nightlf']\", \"['Relax']\", \"['Nature', 'Relax']\"], 38202: [\"['Sports']\", \"['Gastro']\", \"['Sports']\"], 1428: [\"['Events', 'Culture']\", \"['Gastro']\", \"['Themeprk']\", \"['Gastro', 'Culture']\", \"['Beach']\"], 65367: [\"['Events', 'Culture']\", \"['Relax']\", \"['Culture']\", \"['Sports']\", \"['Gastro', 'Culture']\"], 45692: [\"['Relax']\", \"['Beach']\", \"['Culture']\"], 50943: [\"['Sports', 'Events']\", \"['Shop']\", \"['Nightlf']\", \"['Nature', 'Relax']\"], 49732: [\"['Relax']\", \"['Events', 'Culture']\", \"['Sports', 'Nature']\"], 75850: [\"['Gastro', 'Culture']\", \"['Relax']\"], 86820: [\"['Nightlf']\", \"['Sports']\", \"['Shop']\", \"['Gastro', 'Culture']\", \"['Themeprk']\", \"['Relax']\"], 3732: [\"['Culture']\", \"['Nightlf']\", \"['Events', 'Culture']\", \"['Nightlf']\"], 23331: [\"['Relax']\", \"['Shop']\", \"['Sports', 'Nature']\"], 68398: [\"['Gastro']\", \"['Gastro', 'Culture']\", \"['Relax']\"], 61887: [\"['Sports', 'Nature']\", \"['Sports']\", \"['Gastro', 'Nightlf']\"], 18108: [\"['Culture']\", \"['Sports']\", \"['Sports', 'Events']\", \"['Sports', 'Events']\", \"['Events', 'Culture']\", \"['Nightlf']\", \"['Shop', 'Relax']\"], 87696: [\"['Events', 'Culture']\", \"['Nightlf']\", \"['Gastro']\", \"['Events', 'Culture']\", \"['Nightlf']\"], 75010: [\"['Sports', 'Nature']\", \"['Events', 'Culture']\", \"['Sports', 'Events']\"], 48799: [\"['Sports']\"], 77726: [\"['Events', 'Culture']\", \"['Sports']\", \"['Culture']\", \"['Sports', 'Nature']\"], 76274: [\"['Culture']\", \"['Nightlf']\", \"['Sports', 'Nature']\", \"['Relax']\"], 63129: [\"['Relax']\"], 39800: [\"['Themeprk']\", \"['Gastro', 'Nightlf']\"], 15124: [\"['Sports', 'Events']\", \"['Gastro']\", \"['Sports', 'Nature']\", \"['Culture']\"], 28703: [\"['Gastro', 'Nightlf']\", \"['Nature', 'Relax']\", \"['Sports', 'Events']\", \"['Gastro']\"], 70579: [\"['Culture']\", \"['Gastro', 'Nightlf']\"], 78734: [\"['Relax']\", \"['Beach']\", \"['Culture']\", \"['Shop']\", \"['Shop', 'Relax']\"], 23657: [\"['Nightlf']\", \"['Culture']\", \"['Sports', 'Nature']\", \"['Culture']\"], 47347: [\"['Nightlf']\", \"['Sports', 'Events']\", \"['Shop']\", \"['Shop', 'Relax']\", \"['Events', 'Culture']\", \"['Gastro', 'Nightlf']\", \"['Gastro']\"], 4541: [\"['Events', 'Culture']\", \"['Nightlf']\", \"['Beach']\"], 31861: [\"['Relax']\", \"['Events', 'Culture']\", \"['Sports']\", \"['Beach']\", \"['Sports', 'Events']\", \"['Nature', 'Relax']\"], 88772: [\"['Shop', 'Relax']\", \"['Gastro', 'Culture']\"], 90553: [\"['Shop']\", \"['Gastro', 'Nightlf']\", \"['Events', 'Culture']\", \"['Events', 'Culture']\", \"['Sports', 'Events']\"], 17994: [\"['Culture']\", \"['Nightlf']\", \"['Gastro']\"], 9441: [\"['Sports']\", \"['Gastro', 'Nightlf']\", \"['Shop']\"], 12816: [\"['Sports', 'Nature']\", \"['Culture']\", \"['Nightlf']\", \"['Relax']\"], 54234: [\"['Nightlf']\", \"['Gastro']\", \"['Gastro', 'Nightlf']\", \"['Relax']\", \"['Sports', 'Events']\", \"['Sports', 'Nature']\", \"['Shop']\", \"['Themeprk']\"], 76060: [\"['Shop']\", \"['Sports', 'Nature']\", \"['Nightlf']\", \"['Culture']\", \"['Shop', 'Relax']\", \"['Relax']\"], 11542: [\"['Events', 'Culture']\", \"['Culture']\", \"['Relax']\", \"['Gastro', 'Culture']\"], 81687: [\"['Beach']\", \"['Sports']\", \"['Culture']\", \"['Sports']\", \"['Sports', 'Events']\"], 49213: [\"['Beach']\", \"['Sports', 'Nature']\", \"['Themeprk']\"], 85707: [\"['Gastro', 'Nightlf']\", \"['Culture']\", \"['Gastro']\", \"['Relax']\", \"['Culture']\"], 47792: [\"['Sports']\", \"['Sports', 'Nature']\"], 73441: [\"['Gastro', 'Nightlf']\", \"['Sports']\", \"['Beach']\", \"['Beach']\", \"['Nightlf']\", \"['Culture']\", \"['Gastro', 'Culture']\"], 37379: [\"['Gastro']\", \"['Shop']\"], 25517: [\"['Sports', 'Events']\", \"['Sports']\", \"['Beach']\", \"['Nightlf']\"], 36806: [\"['Beach']\", \"['Gastro', 'Nightlf']\", \"['Nature', 'Relax']\"], 87373: [\"['Gastro', 'Culture']\", \"['Nightlf']\", \"['Events', 'Culture']\"], 90215: [\"['Gastro', 'Culture']\", \"['Gastro', 'Nightlf']\", \"['Events', 'Culture']\"], 21504: [\"['Shop', 'Relax']\", \"['Sports', 'Nature']\"], 95814: [\"['Culture']\", \"['Beach']\"], 86636: [\"['Nightlf']\", \"['Sports']\", \"['Sports', 'Events']\", \"['Sports', 'Nature']\"], 83001: [\"['Sports', 'Nature']\", \"['Relax']\"], 50027: [\"['Gastro', 'Nightlf']\", \"['Themeprk']\", \"['Nightlf']\"], 13198: [\"['Shop']\", \"['Events', 'Culture']\"], 12332: [\"['Culture']\", \"['Sports']\", \"['Gastro', 'Culture']\", \"['Events', 'Culture']\", \"['Gastro', 'Nightlf']\", \"['Sports', 'Events']\", \"['Themeprk']\"], 76269: [\"['Sports']\", \"['Sports']\", \"['Culture']\", \"['Gastro', 'Culture']\", \"['Beach']\", \"['Nature', 'Relax']\"], 12289: [\"['Sports']\", \"['Gastro']\", \"['Events', 'Culture']\", \"['Sports', 'Events']\", \"['Nightlf']\", \"['Shop', 'Relax']\"], 24099: [\"['Sports']\", \"['Beach']\", \"['Themeprk']\"], 40383: [\"['Sports', 'Nature']\", \"['Gastro']\", \"['Events', 'Culture']\"], 39664: [\"['Beach']\", \"['Themeprk']\", \"['Gastro']\", \"['Sports', 'Events']\", \"['Culture']\"], 53917: [\"['Gastro']\", \"['Nature', 'Relax']\"], 6230: [\"['Nature', 'Relax']\", \"['Events', 'Culture']\", \"['Sports', 'Nature']\", \"['Sports', 'Events']\", \"['Beach']\", \"['Themeprk']\", \"['Shop']\"], 76043: [\"['Sports', 'Nature']\"], 93470: [\"['Culture']\", \"['Sports']\"], 84002: [\"['Themeprk']\", \"['Relax']\"], 78509: [\"['Gastro', 'Culture']\", \"['Gastro']\", \"['Gastro', 'Nightlf']\"], 85605: [\"['Nightlf']\", \"['Beach']\"], 70763: [\"['Beach']\", \"['Sports', 'Events']\", \"['Gastro']\", \"['Themeprk']\"], 48749: [\"['Events', 'Culture']\", \"['Gastro']\", \"['Shop']\", \"['Sports', 'Nature']\"], 34218: [\"['Nightlf']\", \"['Sports', 'Events']\", \"['Sports']\", \"['Nature', 'Relax']\"], 29288: [\"['Culture']\", \"['Relax']\"], 20414: [\"['Sports', 'Events']\", \"['Gastro', 'Nightlf']\", \"['Shop']\", \"['Nightlf']\"], 99710: [\"['Themeprk']\", \"['Gastro', 'Nightlf']\", \"['Sports']\", \"['Shop', 'Relax']\", \"['Beach']\"], 82866: [\"['Themeprk']\", \"['Gastro']\", \"['Culture']\", \"['Events', 'Culture']\"], 62849: [\"['Shop', 'Relax']\", \"['Sports', 'Events']\", \"['Events', 'Culture']\"], 79376: [\"['Gastro', 'Culture']\", \"['Sports', 'Nature']\", \"['Sports', 'Events']\"], 91032: [\"['Sports', 'Nature']\", \"['Events', 'Culture']\", \"['Nature', 'Relax']\"], 1047: [\"['Sports', 'Nature']\", \"['Beach']\", \"['Sports']\", \"['Gastro', 'Nightlf']\", \"['Nightlf']\"], 2581: [\"['Relax']\", \"['Events', 'Culture']\"], 81324: [\"['Events', 'Culture']\"], 42866: [\"['Themeprk']\", \"['Beach']\", \"['Beach']\"], 39688: [\"['Sports', 'Nature']\", \"['Beach']\", \"['Nightlf']\", \"['Shop']\", \"['Events', 'Culture']\"], 6038: [\"['Beach']\", \"['Nightlf']\", \"['Gastro', 'Nightlf']\"], 90515: [\"['Nightlf']\", \"['Gastro', 'Culture']\", \"['Sports', 'Nature']\", \"['Themeprk']\", \"['Gastro', 'Nightlf']\", \"['Events', 'Culture']\"], 32543: [\"['Sports', 'Nature']\", \"['Shop', 'Relax']\", \"['Events', 'Culture']\", \"['Relax']\"], 70100: [\"['Culture']\", \"['Relax']\", \"['Sports', 'Nature']\"], 24361: [\"['Shop']\", \"['Relax']\", \"['Events', 'Culture']\"], 10281: [\"['Shop', 'Relax']\", \"['Shop']\", \"['Sports']\"], 39258: [\"['Nature', 'Relax']\"], 9772: [\"['Nightlf']\", \"['Sports']\", \"['Sports']\", \"['Sports', 'Nature']\", \"['Gastro', 'Nightlf']\"], 67652: [\"['Gastro']\", \"['Nightlf']\", \"['Shop', 'Relax']\"], 23062: [\"['Events', 'Culture']\", \"['Gastro', 'Culture']\", \"['Sports', 'Nature']\", \"['Sports', 'Events']\"], 99571: [\"['Events', 'Culture']\", \"['Shop']\", \"['Culture']\"], 69613: [\"['Relax']\", \"['Sports', 'Nature']\", \"['Sports', 'Events']\", \"['Sports']\"], 19762: [\"['Sports', 'Nature']\", \"['Gastro', 'Nightlf']\"], 33251: [\"['Relax']\", \"['Sports', 'Events']\", \"['Sports']\", \"['Sports']\"], 68343: [\"['Themeprk']\", \"['Sports']\", \"['Shop']\", \"['Nightlf']\"], 69751: [\"['Sports', 'Events']\", \"['Nightlf']\", \"['Relax']\", \"['Shop']\", \"['Nature', 'Relax']\"], 15589: [\"['Shop', 'Relax']\", \"['Beach']\", \"['Culture']\", \"['Beach']\"], 75096: [\"['Sports', 'Nature']\", \"['Beach']\", \"['Nature', 'Relax']\", \"['Culture']\"], 59197: [\"['Gastro']\", \"['Beach']\", \"['Sports']\", \"['Gastro', 'Nightlf']\"], 44193: [\"['Sports', 'Nature']\", \"['Sports', 'Events']\"], 61735: [\"['Themeprk']\", \"['Beach']\", \"['Gastro']\"], 6899: [\"['Events', 'Culture']\", \"['Sports']\", \"['Nightlf']\", \"['Shop']\", \"['Nightlf']\", \"['Sports', 'Nature']\"], 76449: [\"['Sports']\", \"['Themeprk']\", \"['Events', 'Culture']\", \"['Gastro', 'Nightlf']\", \"['Shop', 'Relax']\"], 20311: [\"['Sports', 'Nature']\", \"['Events', 'Culture']\", \"['Sports', 'Events']\"], 83418: [\"['Gastro', 'Culture']\", \"['Themeprk']\", \"['Events', 'Culture']\", \"['Relax']\", \"['Culture']\", \"['Gastro']\", \"['Sports', 'Nature']\", \"['Sports', 'Events']\", \"['Shop']\", \"['Sports', 'Nature']\"], 21198: [\"['Culture']\", \"['Sports']\", \"['Nightlf']\", \"['Gastro', 'Nightlf']\"], 11741: [\"['Culture']\", \"['Sports']\", \"['Nature', 'Relax']\"], 5002: [\"['Themeprk']\", \"['Culture']\"], 91844: [\"['Sports']\", \"['Nature', 'Relax']\", \"['Gastro']\", \"['Relax']\", \"['Sports', 'Events']\"], 57738: [\"['Nightlf']\"], 66324: [\"['Sports', 'Nature']\", \"['Beach']\", \"['Sports', 'Events']\", \"['Nature', 'Relax']\"], 34648: [\"['Themeprk']\", \"['Gastro', 'Nightlf']\", \"['Gastro']\"], 56910: [\"['Events', 'Culture']\", \"['Nature', 'Relax']\", \"['Sports']\", \"['Gastro', 'Nightlf']\", \"['Nightlf']\", \"['Culture']\", \"['Culture']\"], 13449: [\"['Beach']\", \"['Nightlf']\", \"['Events', 'Culture']\", \"['Gastro']\", \"['Sports', 'Nature']\"], 84614: [\"['Shop']\", \"['Events', 'Culture']\"], 6877: [\"['Themeprk']\", \"['Culture']\", \"['Sports', 'Events']\", \"['Sports', 'Nature']\"], 880: [\"['Nightlf']\", \"['Sports']\", \"['Sports', 'Nature']\", \"['Sports', 'Events']\"], 47611: [\"['Nightlf']\", \"['Culture']\", \"['Culture']\", \"['Shop', 'Relax']\"], 53529: [\"['Sports', 'Events']\", \"['Beach']\", \"['Events', 'Culture']\", \"['Nightlf']\", \"['Shop']\"], 92688: [\"['Sports', 'Nature']\", \"['Gastro', 'Nightlf']\"], 9666: [\"['Sports']\", \"['Shop']\", \"['Gastro', 'Culture']\", \"['Shop', 'Relax']\", \"['Gastro']\"], 49380: [\"['Shop', 'Relax']\"], 197: [\"['Nightlf']\", \"['Sports']\", \"['Beach']\"], 47232: [\"['Sports', 'Nature']\", \"['Culture']\", \"['Sports']\", \"['Nightlf']\", \"['Shop', 'Relax']\"], 14378: [\"['Themeprk']\", \"['Shop']\", \"['Nature', 'Relax']\", \"['Gastro']\", \"['Gastro', 'Culture']\"], 86392: [\"['Themeprk']\", \"['Beach']\"], 53875: [\"['Beach']\", \"['Gastro', 'Culture']\", \"['Shop']\", \"['Culture']\", \"['Sports', 'Nature']\"], 25142: [\"['Relax']\", \"['Events', 'Culture']\", \"['Gastro', 'Culture']\"], 32060: [\"['Culture']\", \"['Sports', 'Nature']\", \"['Shop']\"], 46489: [\"['Culture']\", \"['Sports', 'Events']\", \"['Gastro', 'Nightlf']\", \"['Shop']\"], 6120: [\"['Shop']\", \"['Sports']\", \"['Beach']\", \"['Sports', 'Events']\", \"['Nightlf']\"], 22: [\"['Relax']\", \"['Beach']\", \"['Shop', 'Relax']\"], 18546: [\"['Events', 'Culture']\", \"['Beach']\", \"['Nightlf']\"], 10491: [\"['Shop']\", \"['Nature', 'Relax']\", \"['Sports', 'Events']\"], 34721: [\"['Nightlf']\", \"['Nature', 'Relax']\", \"['Relax']\"], 27085: [\"['Sports', 'Events']\", \"['Events', 'Culture']\", \"['Events', 'Culture']\", \"['Sports']\"], 18391: [\"['Culture']\", \"['Gastro']\"], 95254: [\"['Culture']\", \"['Gastro', 'Culture']\", \"['Nature', 'Relax']\"], 78494: [\"['Beach']\", \"['Themeprk']\"], 80543: [\"['Shop']\", \"['Nightlf']\", \"['Themeprk']\", \"['Sports']\"], 92514: [\"['Gastro', 'Culture']\", \"['Culture']\", \"['Nightlf']\", \"['Shop']\"], 82726: [\"['Events', 'Culture']\", \"['Gastro', 'Culture']\", \"['Gastro', 'Nightlf']\", \"['Sports', 'Nature']\"], 29962: [\"['Beach']\", \"['Sports', 'Nature']\"], 35960: [\"['Sports']\", \"['Gastro']\", \"['Themeprk']\", \"['Culture']\"], 49178: [\"['Sports']\", \"['Gastro']\", \"['Beach']\", \"['Beach']\", \"['Sports', 'Events']\"], 66996: [\"['Gastro', 'Nightlf']\", \"['Culture']\", \"['Relax']\", \"['Events', 'Culture']\", \"['Gastro', 'Culture']\"], 68464: [\"['Sports', 'Events']\", \"['Sports', 'Nature']\", \"['Events', 'Culture']\"], 83031: [\"['Sports']\", \"['Events', 'Culture']\", \"['Shop']\", \"['Sports', 'Nature']\", \"['Sports']\", \"['Shop', 'Relax']\", \"['Gastro']\"], 47858: [\"['Gastro']\", \"['Themeprk']\", \"['Events', 'Culture']\", \"['Gastro', 'Nightlf']\", \"['Shop', 'Relax']\"], 94269: [\"['Sports', 'Nature']\", \"['Nightlf']\", \"['Themeprk']\", \"['Shop']\", \"['Culture']\"], 27301: [\"['Beach']\", \"['Sports']\", \"['Sports', 'Events']\", \"['Shop']\"], 22852: [\"['Sports']\", \"['Gastro', 'Nightlf']\"], 81993: [\"['Culture']\", \"['Sports']\", \"['Sports', 'Nature']\", \"['Beach']\", \"['Gastro']\"], 63720: [\"['Culture']\", \"['Sports', 'Nature']\", \"['Gastro']\"], 44472: [\"['Nightlf']\", \"['Events', 'Culture']\", \"['Sports']\"], 98549: [\"['Nightlf']\", \"['Sports']\", \"['Shop', 'Relax']\", \"['Culture']\", \"['Nightlf']\", \"['Gastro']\"], 4242: [\"['Sports', 'Events']\", \"['Events', 'Culture']\", \"['Sports']\"], 77147: [\"['Events', 'Culture']\", \"['Relax']\", \"['Nature', 'Relax']\"], 82384: [\"['Sports', 'Events']\", \"['Nightlf']\", \"['Nightlf']\"], 96244: [\"['Gastro']\"], 95243: [\"['Relax']\", \"['Events', 'Culture']\", \"['Culture']\", \"['Sports', 'Nature']\", \"['Themeprk']\", \"['Culture']\", \"['Shop', 'Relax']\"], 1737: [\"['Nightlf']\", \"['Gastro', 'Nightlf']\", \"['Events', 'Culture']\", \"['Culture']\", \"['Nature', 'Relax']\"], 34896: [\"['Sports', 'Nature']\", \"['Sports']\", \"['Gastro']\", \"['Events', 'Culture']\"], 73988: [\"['Gastro', 'Culture']\", \"['Themeprk']\"], 20271: [\"['Culture']\", \"['Nightlf']\", \"['Culture']\", \"['Gastro', 'Nightlf']\"], 97197: [\"['Gastro']\", \"['Sports', 'Events']\", \"['Sports', 'Nature']\"], 72097: [\"['Nightlf']\"], 53974: [\"['Nightlf']\", \"['Events', 'Culture']\", \"['Gastro']\", \"['Beach']\", \"['Nature', 'Relax']\"], 85184: [\"['Shop']\", \"['Shop', 'Relax']\", \"['Culture']\", \"['Gastro']\"], 28520: [\"['Themeprk']\", \"['Nature', 'Relax']\", \"['Beach']\", \"['Nightlf']\"], 43993: [\"['Beach']\", \"['Culture']\", \"['Gastro']\"], 91168: [\"['Sports', 'Nature']\", \"['Events', 'Culture']\"], 83525: [\"['Gastro', 'Culture']\", \"['Nightlf']\", \"['Themeprk']\", \"['Culture']\", \"['Shop', 'Relax']\"], 12023: [\"['Nature', 'Relax']\", \"['Gastro', 'Nightlf']\", \"['Culture']\"], 85051: [\"['Sports', 'Events']\", \"['Gastro']\", \"['Relax']\"], 45037: [\"['Gastro']\", \"['Events', 'Culture']\", \"['Nightlf']\", \"['Gastro']\", \"['Gastro', 'Nightlf']\"], 70931: [\"['Gastro', 'Culture']\", \"['Culture']\", \"['Nightlf']\", \"['Gastro', 'Nightlf']\", \"['Events', 'Culture']\", \"['Gastro']\"], 66074: [\"['Nightlf']\", \"['Shop', 'Relax']\", \"['Themeprk']\", \"['Shop']\"], 54377: [\"['Relax']\", \"['Nightlf']\", \"['Beach']\", \"['Sports', 'Events']\", \"['Shop', 'Relax']\"], 57236: [\"['Culture']\", \"['Gastro', 'Nightlf']\", \"['Shop', 'Relax']\", \"['Beach']\"], 77616: [\"['Sports']\", \"['Culture']\", \"['Sports', 'Nature']\", \"['Nightlf']\", \"['Gastro']\", \"['Relax']\"], 37526: [\"['Sports', 'Events']\"], 7699: [\"['Culture']\", \"['Relax']\"], 89777: [\"['Relax']\", \"['Beach']\", \"['Events', 'Culture']\"], 54986: [\"['Relax']\", \"['Culture']\", \"['Nature', 'Relax']\"], 83077: [\"['Beach']\", \"['Nightlf']\", \"['Sports', 'Events']\", \"['Events', 'Culture']\"], 98088: [\"['Gastro']\", \"['Shop', 'Relax']\", \"['Shop']\", \"['Nightlf']\"], 39223: [\"['Sports']\", \"['Sports', 'Events']\", \"['Sports', 'Events']\", \"['Events', 'Culture']\"], 88238: [\"['Relax']\", \"['Sports', 'Events']\", \"['Culture']\", \"['Sports', 'Events']\", \"['Sports', 'Nature']\", \"['Sports']\"], 93995: [\"['Beach']\"], 62928: [\"['Events', 'Culture']\", \"['Gastro']\"], 32752: [\"['Events', 'Culture']\", \"['Beach']\", \"['Relax']\", \"['Shop']\"], 17046: [\"['Relax']\", \"['Culture']\"], 9728: [\"['Culture']\", \"['Shop', 'Relax']\", \"['Sports', 'Nature']\"], 20840: [\"['Sports', 'Nature']\", \"['Shop', 'Relax']\", \"['Events', 'Culture']\", \"['Sports', 'Nature']\", \"['Events', 'Culture']\", \"['Sports', 'Events']\", \"['Themeprk']\"], 38039: [\"['Culture']\", \"['Gastro', 'Nightlf']\", \"['Culture']\", \"['Beach']\"], 15226: [\"['Sports', 'Events']\", \"['Beach']\"], 9325: [\"['Sports']\", \"['Nightlf']\", \"['Relax']\"], 61974: [\"['Culture']\"], 97989: [\"['Sports', 'Events']\", \"['Shop']\", \"['Gastro', 'Nightlf']\", \"['Relax']\"], 50646: [\"['Sports', 'Nature']\", \"['Culture']\", \"['Events', 'Culture']\"], 27405: [\"['Sports', 'Nature']\", \"['Beach']\", \"['Nightlf']\"], 12626: [\"['Nightlf']\", \"['Events', 'Culture']\", \"['Beach']\"], 82994: [\"['Beach']\", \"['Gastro', 'Culture']\", \"['Events', 'Culture']\"], 64955: [\"['Nightlf']\", \"['Sports', 'Events']\", \"['Sports']\", \"['Gastro']\", \"['Nature', 'Relax']\"], 62608: [\"['Shop']\", \"['Gastro']\", \"['Gastro', 'Nightlf']\", \"['Sports', 'Events']\", \"['Nightlf']\", \"['Nature', 'Relax']\"], 31232: [\"['Themeprk']\", \"['Events', 'Culture']\", \"['Culture']\", \"['Sports']\", \"['Sports']\", \"['Gastro']\", \"['Culture']\"], 69276: [\"['Nightlf']\", \"['Sports', 'Events']\"], 10425: [\"['Nightlf']\", \"['Sports', 'Events']\", \"['Sports', 'Nature']\", \"['Events', 'Culture']\", \"['Gastro', 'Nightlf']\"], 61517: [\"['Sports']\", \"['Events', 'Culture']\", \"['Shop']\", \"['Gastro']\", \"['Sports', 'Nature']\"], 2361: [\"['Shop', 'Relax']\", \"['Beach']\", \"['Sports']\", \"['Sports', 'Nature']\", \"['Gastro']\"], 46501: [\"['Nightlf']\", \"['Events', 'Culture']\", \"['Sports', 'Events']\"], 67246: [\"['Sports', 'Nature']\", \"['Shop']\", \"['Relax']\", \"['Sports', 'Nature']\"], 27292: [\"['Sports', 'Events']\", \"['Relax']\", \"['Nature', 'Relax']\", \"['Culture']\"], 7425: [\"['Themeprk']\", \"['Sports', 'Nature']\", \"['Shop', 'Relax']\"], 54308: [\"['Culture']\", \"['Nightlf']\", \"['Relax']\", \"['Sports']\"], 84246: [\"['Gastro', 'Culture']\", \"['Events', 'Culture']\", \"['Beach']\", \"['Sports', 'Nature']\", \"['Relax']\"], 68222: [\"['Nightlf']\", \"['Relax']\"], 60767: [\"['Themeprk']\", \"['Events', 'Culture']\", \"['Nightlf']\", \"['Nature', 'Relax']\"], 75029: [\"['Gastro']\", \"['Sports', 'Nature']\"], 49511: [\"['Relax']\", \"['Events', 'Culture']\", \"['Beach']\", \"['Themeprk']\"], 74971: [\"['Nightlf']\", \"['Sports', 'Nature']\"], 81823: [\"['Culture']\", \"['Sports', 'Events']\", \"['Sports']\", \"['Nightlf']\", \"['Gastro', 'Nightlf']\", \"['Sports', 'Nature']\", \"['Sports', 'Nature']\"], 42339: [\"['Relax']\", \"['Shop', 'Relax']\", \"['Nightlf']\"], 32658: [\"['Relax']\", \"['Sports']\"], 90014: [\"['Shop', 'Relax']\", \"['Gastro', 'Culture']\", \"['Shop']\"], 30054: [\"['Shop', 'Relax']\", \"['Beach']\", \"['Gastro', 'Culture']\", \"['Events', 'Culture']\", \"['Gastro', 'Nightlf']\", \"['Sports']\"], 62665: [\"['Culture']\", \"['Themeprk']\"], 24658: [\"['Sports']\", \"['Shop', 'Relax']\", \"['Gastro', 'Nightlf']\", \"['Sports', 'Events']\"], 35087: [\"['Sports', 'Events']\", \"['Shop', 'Relax']\", \"['Culture']\"], 40784: [\"['Gastro', 'Culture']\", \"['Sports']\", \"['Gastro', 'Nightlf']\"], 70249: [\"['Gastro']\", \"['Gastro']\", \"['Sports', 'Nature']\", \"['Culture']\"], 17: [\"['Sports', 'Nature']\", \"['Nature', 'Relax']\", \"['Gastro', 'Culture']\"], 90238: [\"['Nightlf']\"], 43926: [\"['Sports', 'Events']\", \"['Relax']\"], 17076: [\"['Culture']\", \"['Shop', 'Relax']\", \"['Sports']\"], 86569: [\"['Sports', 'Nature']\", \"['Gastro']\", \"['Shop']\"], 89842: [\"['Events', 'Culture']\", \"['Gastro', 'Nightlf']\", \"['Sports', 'Events']\"], 89852: [\"['Events', 'Culture']\", \"['Sports', 'Nature']\", \"['Gastro']\", \"['Themeprk']\"], 8829: [\"['Sports', 'Events']\"], 69068: [\"['Sports', 'Events']\", \"['Themeprk']\", \"['Gastro']\"], 36878: [\"['Sports', 'Nature']\", \"['Themeprk']\", \"['Gastro', 'Culture']\", \"['Nature', 'Relax']\", \"['Sports']\"], 28281: [\"['Shop', 'Relax']\", \"['Gastro', 'Culture']\", \"['Sports', 'Events']\", \"['Gastro']\"], 83766: [\"['Culture']\", \"['Sports']\"], 6444: [\"['Relax']\", \"['Gastro', 'Nightlf']\", \"['Shop']\", \"['Sports']\", \"['Gastro', 'Culture']\", \"['Culture']\"], 38583: [\"['Shop', 'Relax']\", \"['Gastro']\", \"['Nightlf']\"], 1562: [\"['Sports', 'Nature']\", \"['Gastro']\", \"['Sports', 'Events']\", \"['Sports', 'Events']\"], 21479: [\"['Events', 'Culture']\", \"['Sports', 'Nature']\"], 37325: [\"['Events', 'Culture']\", \"['Sports', 'Nature']\", \"['Gastro']\"], 24833: [\"['Sports', 'Events']\", \"['Themeprk']\", \"['Sports', 'Nature']\", \"['Shop', 'Relax']\"], 81543: [\"['Gastro', 'Culture']\", \"['Beach']\", \"['Nightlf']\", \"['Sports']\", \"['Events', 'Culture']\"], 66285: [\"['Nightlf']\", \"['Events', 'Culture']\", \"['Events', 'Culture']\"], 27284: [\"['Nightlf']\", \"['Events', 'Culture']\", \"['Gastro', 'Culture']\", \"['Themeprk']\", \"['Beach']\"], 88346: [\"['Beach']\", \"['Gastro']\", \"['Events', 'Culture']\", \"['Gastro', 'Culture']\"], 73241: [\"['Shop']\", \"['Events', 'Culture']\"], 99433: [\"['Sports', 'Events']\", \"['Shop', 'Relax']\", \"['Culture']\", \"['Sports', 'Nature']\"], 39148: [\"['Gastro', 'Nightlf']\", \"['Shop', 'Relax']\", \"['Gastro', 'Culture']\", \"['Sports', 'Nature']\"], 65997: [\"['Relax']\", \"['Beach']\", \"['Sports', 'Nature']\"], 4648: [\"['Beach']\", \"['Beach']\", \"['Sports', 'Nature']\", \"['Themeprk']\", \"['Relax']\"], 88182: [\"['Events', 'Culture']\"], 61311: [\"['Gastro']\", \"['Shop']\"], 80713: [\"['Gastro', 'Culture']\", \"['Events', 'Culture']\"], 56950: [\"['Culture']\", \"['Gastro', 'Nightlf']\", \"['Sports', 'Events']\", \"['Sports', 'Nature']\", \"['Beach']\", \"['Gastro']\"], 94411: [\"['Gastro', 'Culture']\", \"['Sports']\", \"['Culture']\", \"['Gastro']\", \"['Sports', 'Events']\", \"['Shop', 'Relax']\", \"['Events', 'Culture']\"], 54240: [\"['Gastro']\", \"['Sports']\"], 93963: [\"['Nature', 'Relax']\", \"['Sports', 'Nature']\", \"['Beach']\", \"['Sports']\"], 56937: [\"['Culture']\", \"['Shop']\", \"['Sports', 'Nature']\"], 35395: [\"['Beach']\", \"['Culture']\", \"['Sports', 'Nature']\", \"['Gastro', 'Nightlf']\", \"['Shop', 'Relax']\", \"['Nightlf']\", \"['Sports', 'Events']\"], 15143: [\"['Culture']\", \"['Sports', 'Events']\", \"['Gastro', 'Culture']\", \"['Beach']\", \"['Relax']\"], 76237: [\"['Nature', 'Relax']\", \"['Relax']\", \"['Gastro', 'Nightlf']\", \"['Culture']\"], 59209: [\"['Culture']\", \"['Gastro']\"], 65933: [\"['Sports']\", \"['Shop', 'Relax']\", \"['Sports']\", \"['Sports', 'Events']\", \"['Gastro', 'Nightlf']\", \"['Nature', 'Relax']\", \"['Culture']\"], 58352: [\"['Nightlf']\", \"['Relax']\", \"['Shop']\"], 40312: [\"['Gastro', 'Nightlf']\", \"['Culture']\", \"['Sports']\", \"['Beach']\", \"['Sports', 'Events']\"], 56319: [\"['Nature', 'Relax']\", \"['Sports']\", \"['Shop']\", \"['Beach']\", \"['Sports', 'Events']\"], 15195: [\"['Nature', 'Relax']\", \"['Sports', 'Events']\", \"['Culture']\", \"['Sports', 'Nature']\"], 44339: [\"['Sports', 'Nature']\", \"['Sports', 'Events']\", \"['Themeprk']\", \"['Events', 'Culture']\", \"['Nightlf']\", \"['Culture']\"], 95496: [\"['Themeprk']\"], 53427: [\"['Sports', 'Nature']\", \"['Gastro']\"], 77377: [\"['Culture']\", \"['Nature', 'Relax']\", \"['Gastro', 'Culture']\", \"['Relax']\"], 8712: [\"['Nature', 'Relax']\", \"['Gastro']\", \"['Events', 'Culture']\", \"['Beach']\"], 48959: [\"['Themeprk']\", \"['Sports', 'Events']\"], 59925: [\"['Relax']\", \"['Beach']\"], 8369: [\"['Gastro']\", \"['Nightlf']\", \"['Sports', 'Events']\", \"['Sports', 'Nature']\"], 19740: [\"['Nightlf']\", \"['Events', 'Culture']\", \"['Beach']\", \"['Gastro', 'Nightlf']\"], 83723: [\"['Gastro', 'Nightlf']\", \"['Beach']\", \"['Nightlf']\", \"['Gastro', 'Culture']\"], 39217: [\"['Sports', 'Nature']\", \"['Gastro', 'Culture']\", \"['Culture']\", \"['Gastro']\"], 57333: [\"['Nightlf']\", \"['Themeprk']\", \"['Gastro']\", \"['Beach']\"], 10556: [\"['Events', 'Culture']\", \"['Sports']\"], 67219: [\"['Sports']\", \"['Shop', 'Relax']\"], 87962: [\"['Themeprk']\", \"['Culture']\", \"['Culture']\", \"['Nightlf']\"], 23449: [\"['Shop', 'Relax']\", \"['Relax']\"], 36332: [\"['Nightlf']\", \"['Sports', 'Events']\", \"['Events', 'Culture']\", \"['Culture']\", \"['Sports']\", \"['Nature', 'Relax']\", \"['Sports']\"], 17629: [\"['Gastro', 'Culture']\", \"['Sports', 'Events']\", \"['Sports', 'Nature']\", \"['Relax']\"], 43862: [\"['Sports']\", \"['Sports', 'Nature']\", \"['Events', 'Culture']\", \"['Gastro', 'Nightlf']\", \"['Gastro']\"], 67493: [\"['Culture']\", \"['Nightlf']\", \"['Gastro']\", \"['Relax']\", \"['Gastro', 'Culture']\", \"['Sports']\"], 43634: [\"['Sports', 'Events']\", \"['Nature', 'Relax']\"], 45060: [\"['Sports', 'Events']\", \"['Sports']\", \"['Relax']\", \"['Sports', 'Nature']\", \"['Nightlf']\", \"['Shop']\"], 84589: [\"['Sports']\", \"['Sports', 'Nature']\", \"['Events', 'Culture']\", \"['Nature', 'Relax']\"], 66271: [\"['Relax']\", \"['Beach']\", \"['Nightlf']\", \"['Gastro', 'Culture']\", \"['Sports']\"], 73674: [\"['Sports', 'Nature']\", \"['Nature', 'Relax']\", \"['Relax']\", \"['Sports', 'Nature']\"], 99465: [\"['Culture']\", \"['Sports']\", \"['Beach']\"], 27128: [\"['Culture']\", \"['Relax']\", \"['Events', 'Culture']\", \"['Beach']\"], 93705: [\"['Themeprk']\", \"['Sports']\", \"['Nightlf']\", \"['Sports', 'Nature']\", \"['Gastro']\", \"['Beach']\"], 16966: [\"['Beach']\", \"['Gastro']\", \"['Nature', 'Relax']\", \"['Shop', 'Relax']\"], 36521: [\"['Gastro', 'Nightlf']\", \"['Gastro', 'Culture']\", \"['Shop']\"], 10524: [\"['Beach']\", \"['Sports', 'Nature']\", \"['Sports', 'Events']\", \"['Nightlf']\"], 63277: [\"['Gastro', 'Nightlf']\", \"['Themeprk']\", \"['Nature', 'Relax']\", \"['Gastro']\"], 33366: [\"['Sports']\", \"['Beach']\", \"['Culture']\"], 2676: [\"['Events', 'Culture']\", \"['Shop', 'Relax']\", \"['Sports', 'Nature']\", \"['Gastro']\", \"['Shop']\", \"['Culture']\"], 28838: [\"['Beach']\", \"['Sports']\", \"['Sports']\", \"['Nature', 'Relax']\"], 54154: [\"['Culture']\", \"['Sports', 'Events']\", \"['Beach']\"], 72361: [\"['Shop']\", \"['Sports']\", \"['Nature', 'Relax']\"], 63756: [\"['Shop']\", \"['Shop', 'Relax']\", \"['Gastro', 'Nightlf']\"], 16965: [\"['Themeprk']\", \"['Gastro', 'Nightlf']\", \"['Beach']\"], 73384: [\"['Relax']\", \"['Gastro']\", \"['Nightlf']\", \"['Sports', 'Nature']\", \"['Shop', 'Relax']\", \"['Culture']\"], 83712: [\"['Nature', 'Relax']\", \"['Beach']\"], 64276: [\"['Sports']\", \"['Nightlf']\", \"['Gastro']\"], 26369: [\"['Relax']\", \"['Sports', 'Events']\"], 64224: [\"['Shop']\", \"['Nature', 'Relax']\", \"['Nightlf']\", \"['Gastro', 'Culture']\", \"['Themeprk']\", \"['Relax']\", \"['Culture']\", \"['Shop', 'Relax']\"], 32514: [\"['Nature', 'Relax']\", \"['Events', 'Culture']\", \"['Sports', 'Events']\", \"['Culture']\"], 91746: [\"['Shop']\", \"['Sports', 'Nature']\", \"['Beach']\", \"['Sports', 'Events']\", \"['Gastro']\"], 51378: [\"['Sports', 'Events']\", \"['Events', 'Culture']\", \"['Culture']\"], 47560: [\"['Beach']\", \"['Sports', 'Events']\", \"['Beach']\"], 43996: [\"['Culture']\", \"['Sports']\", \"['Sports', 'Nature']\", \"['Nature', 'Relax']\", \"['Sports']\", \"['Events', 'Culture']\"], 81422: [\"['Shop', 'Relax']\"], 43941: [\"['Themeprk']\", \"['Nightlf']\", \"['Nature', 'Relax']\", \"['Culture']\"], 37344: [\"['Events', 'Culture']\", \"['Culture']\", \"['Themeprk']\"], 62616: [\"['Sports']\", \"['Gastro', 'Culture']\", \"['Nightlf']\"], 4308: [\"['Gastro', 'Culture']\", \"['Sports']\", \"['Beach']\", \"['Sports', 'Events']\"], 6593: [\"['Culture']\", \"['Themeprk']\", \"['Sports', 'Events']\", \"['Shop']\"], 63613: [\"['Nightlf']\", \"['Culture']\", \"['Gastro', 'Nightlf']\", \"['Relax']\"], 37104: [\"['Relax']\", \"['Events', 'Culture']\", \"['Beach']\", \"['Nature', 'Relax']\"], 14360: [\"['Sports', 'Nature']\", \"['Gastro', 'Culture']\", \"['Events', 'Culture']\", \"['Beach']\", \"['Themeprk']\", \"['Culture']\", \"['Gastro', 'Nightlf']\"], 62879: [\"['Nightlf']\", \"['Events', 'Culture']\", \"['Gastro']\"], 57223: [\"['Gastro']\", \"['Sports', 'Events']\", \"['Shop']\"], 7946: [\"['Nightlf']\", \"['Gastro', 'Culture']\", \"['Sports', 'Nature']\", \"['Relax']\"], 41890: [\"['Gastro']\", \"['Shop']\", \"['Nature', 'Relax']\", \"['Sports', 'Nature']\"], 62161: [\"['Beach']\", \"['Relax']\", \"['Nightlf']\"], 19529: [\"['Relax']\", \"['Sports', 'Events']\", \"['Nightlf']\", \"['Sports', 'Events']\", \"['Gastro']\"], 18179: [\"['Culture']\", \"['Shop', 'Relax']\"], 8323: [\"['Events', 'Culture']\", \"['Sports', 'Nature']\", \"['Sports', 'Nature']\", \"['Sports']\"], 57013: [\"['Sports']\", \"['Gastro']\", \"['Sports', 'Events']\"], 59381: [\"['Nature', 'Relax']\"], 56276: [\"['Sports']\", \"['Gastro']\", \"['Events', 'Culture']\"], 95818: [\"['Events', 'Culture']\", \"['Sports', 'Nature']\", \"['Nature', 'Relax']\"], 87308: [\"['Sports']\", \"['Sports', 'Nature']\", \"['Relax']\", \"['Sports', 'Nature']\", \"['Themeprk']\"], 69845: [\"['Nature', 'Relax']\", \"['Beach']\", \"['Events', 'Culture']\", \"['Gastro']\", \"['Themeprk']\"], 71724: [\"['Gastro', 'Culture']\", \"['Sports', 'Nature']\", \"['Shop']\"], 39941: [\"['Events', 'Culture']\", \"['Sports', 'Events']\", \"['Relax']\", \"['Nightlf']\", \"['Sports', 'Nature']\"], 56184: [\"['Gastro', 'Nightlf']\", \"['Nightlf']\", \"['Culture']\", \"['Nature', 'Relax']\", \"['Gastro']\", \"['Shop', 'Relax']\", \"['Shop']\"], 38169: [\"['Culture']\", \"['Nightlf']\", \"['Themeprk']\"], 55538: [\"['Culture']\", \"['Events', 'Culture']\", \"['Relax']\", \"['Gastro', 'Nightlf']\"], 71309: [\"['Nightlf']\", \"['Shop', 'Relax']\"], 18836: [\"['Culture']\", \"['Nightlf']\", \"['Gastro', 'Culture']\", \"['Gastro', 'Nightlf']\", \"['Shop', 'Relax']\"], 22495: [\"['Shop']\", \"['Beach']\", \"['Beach']\"], 61255: [\"['Culture']\", \"['Events', 'Culture']\", \"['Gastro']\"], 69920: [\"['Beach']\", \"['Sports']\", \"['Events', 'Culture']\", \"['Beach']\"], 16828: [\"['Sports', 'Nature']\", \"['Sports', 'Events']\", \"['Beach']\", \"['Shop']\"], 51479: [\"['Sports', 'Events']\"], 40888: [\"['Sports', 'Events']\", \"['Nightlf']\", \"['Relax']\", \"['Sports']\"], 67663: [\"['Events', 'Culture']\", \"['Gastro', 'Culture']\", \"['Themeprk']\", \"['Culture']\"], 7716: [\"['Themeprk']\"], 40468: [\"['Culture']\", \"['Shop']\", \"['Beach']\"], 73141: [\"['Shop', 'Relax']\", \"['Events', 'Culture']\", \"['Gastro']\", \"['Sports', 'Nature']\", \"['Gastro', 'Culture']\", \"['Sports']\", \"['Shop']\"], 44502: [\"['Sports', 'Nature']\", \"['Sports', 'Nature']\", \"['Themeprk']\"], 14340: [\"['Events', 'Culture']\", \"['Relax']\", \"['Nightlf']\"], 8210: [\"['Beach']\", \"['Beach']\", \"['Gastro']\"], 59956: [\"['Culture']\", \"['Sports', 'Nature']\"], 24503: [\"['Sports']\", \"['Nature', 'Relax']\"], 13252: [\"['Beach']\", \"['Sports', 'Nature']\", \"['Gastro', 'Culture']\"], 71453: [\"['Nightlf']\", \"['Gastro', 'Nightlf']\", \"['Shop', 'Relax']\", \"['Events', 'Culture']\"], 83907: [\"['Nightlf']\", \"['Relax']\", \"['Beach']\", \"['Gastro', 'Culture']\"], 1869: [\"['Sports', 'Nature']\", \"['Sports', 'Events']\", \"['Nightlf']\", \"['Shop', 'Relax']\", \"['Gastro', 'Nightlf']\"], 84815: [\"['Events', 'Culture']\", \"['Culture']\", \"['Shop']\"], 84604: [\"['Themeprk']\", \"['Nightlf']\", \"['Shop']\"], 66291: [\"['Nightlf']\", \"['Sports', 'Events']\", \"['Sports', 'Events']\"], 55654: [\"['Events', 'Culture']\", \"['Culture']\"], 93738: [\"['Beach']\", \"['Sports', 'Events']\", \"['Sports', 'Nature']\"], 22722: [\"['Themeprk']\", \"['Events', 'Culture']\", \"['Culture']\", \"['Gastro', 'Nightlf']\"], 43510: [\"['Nature', 'Relax']\", \"['Sports', 'Nature']\", \"['Gastro']\"], 64509: [\"['Shop', 'Relax']\", \"['Nightlf']\", \"['Sports']\", \"['Culture']\", \"['Events', 'Culture']\", \"['Beach']\"], 73710: [\"['Beach']\", \"['Events', 'Culture']\", \"['Shop', 'Relax']\", \"['Nature', 'Relax']\"], 60809: [\"['Shop']\", \"['Gastro']\", \"['Beach']\", \"['Sports', 'Nature']\", \"['Themeprk']\", \"['Beach']\"], 90279: [\"['Gastro']\", \"['Sports']\"], 47276: [\"['Sports', 'Events']\", \"['Sports', 'Events']\"], 69584: [\"['Gastro', 'Culture']\", \"['Gastro']\"], 44694: [\"['Sports', 'Nature']\"], 6585: [\"['Gastro']\", \"['Beach']\", \"['Culture']\", \"['Relax']\"], 6940: [\"['Culture']\"], 14945: [\"['Events', 'Culture']\", \"['Themeprk']\", \"['Gastro', 'Nightlf']\", \"['Sports', 'Nature']\"], 9273: [\"['Sports']\", \"['Shop', 'Relax']\"], 5671: [\"['Events', 'Culture']\", \"['Sports', 'Nature']\", \"['Gastro', 'Culture']\"], 31153: [\"['Culture']\", \"['Gastro']\", \"['Nightlf']\"], 60462: [\"['Sports', 'Events']\", \"['Nightlf']\"], 70742: [\"['Nature', 'Relax']\", \"['Beach']\", \"['Sports']\", \"['Sports', 'Nature']\", \"['Culture']\", \"['Beach']\", \"['Sports', 'Events']\"], 76672: [\"['Shop', 'Relax']\", \"['Themeprk']\", \"['Culture']\", \"['Gastro', 'Nightlf']\"], 87325: [\"['Gastro', 'Culture']\", \"['Events', 'Culture']\", \"['Events', 'Culture']\", \"['Gastro', 'Nightlf']\", \"['Culture']\", \"['Shop', 'Relax']\"], 74782: [\"['Nature', 'Relax']\", \"['Events', 'Culture']\", \"['Themeprk']\", \"['Sports']\", \"['Culture']\", \"['Nightlf']\", \"['Gastro', 'Culture']\", \"['Beach']\"], 24913: [\"['Beach']\", \"['Gastro', 'Nightlf']\", \"['Relax']\"], 72202: [\"['Sports', 'Events']\", \"['Sports']\"], 238: [\"['Shop', 'Relax']\", \"['Nature', 'Relax']\", \"['Gastro', 'Culture']\", \"['Relax']\"], 28317: [\"['Events', 'Culture']\", \"['Culture']\"], 17810: [\"['Shop']\", \"['Shop', 'Relax']\", \"['Culture']\", \"['Sports', 'Events']\", \"['Beach']\"], 9419: [\"['Sports']\"], 94717: [\"['Gastro']\", \"['Sports', 'Nature']\", \"['Sports', 'Nature']\", \"['Culture']\", \"['Nature', 'Relax']\", \"['Gastro', 'Nightlf']\", \"['Shop', 'Relax']\"], 96292: [\"['Shop', 'Relax']\", \"['Nature', 'Relax']\", \"['Relax']\"], 98636: [\"['Themeprk']\"], 59392: [\"['Nature', 'Relax']\", \"['Nightlf']\", \"['Sports']\", \"['Culture']\", \"['Gastro', 'Nightlf']\"], 13830: [\"['Events', 'Culture']\", \"['Shop', 'Relax']\", \"['Beach']\"], 35285: [\"['Sports', 'Nature']\", \"['Shop', 'Relax']\"], 71418: [\"['Sports', 'Nature']\", \"['Gastro']\", \"['Themeprk']\"], 66785: [\"['Culture']\", \"['Sports', 'Events']\", \"['Nature', 'Relax']\", \"['Sports']\"], 52101: [\"['Events', 'Culture']\", \"['Sports', 'Events']\", \"['Nightlf']\", \"['Beach']\"], 9337: [\"['Nightlf']\", \"['Sports', 'Events']\", \"['Nightlf']\"], 58268: [\"['Themeprk']\", \"['Nature', 'Relax']\"], 77460: [\"['Gastro', 'Nightlf']\", \"['Sports', 'Nature']\"], 76233: [\"['Events', 'Culture']\", \"['Relax']\", \"['Gastro']\", \"['Nightlf']\"], 89207: [\"['Sports']\", \"['Gastro']\", \"['Beach']\", \"['Themeprk']\"], 96623: [\"['Sports', 'Events']\", \"['Sports']\", \"['Nightlf']\", \"['Culture']\", \"['Nature', 'Relax']\", \"['Sports']\"], 1374: [\"['Culture']\", \"['Gastro', 'Nightlf']\", \"['Sports', 'Events']\", \"['Gastro']\"], 1193: [\"['Relax']\", \"['Gastro']\", \"['Beach']\", \"['Culture']\"], 11614: [\"['Shop']\", \"['Sports', 'Events']\", \"['Gastro']\"], 18144: [\"['Nature', 'Relax']\"], 32577: [\"['Sports', 'Nature']\", \"['Shop', 'Relax']\", \"['Beach']\", \"['Sports', 'Events']\", \"['Gastro', 'Culture']\"], 38374: [\"['Culture']\"], 89696: [\"['Shop']\", \"['Beach']\", \"['Sports', 'Events']\", \"['Beach']\", \"['Sports']\", \"['Relax']\"], 40070: [\"['Beach']\", \"['Themeprk']\", \"['Gastro']\"], 54902: [\"['Sports']\", \"['Shop']\", \"['Nightlf']\", \"['Sports', 'Nature']\", \"['Gastro']\"], 64162: [\"['Gastro', 'Nightlf']\", \"['Beach']\"], 76289: [\"['Gastro']\", \"['Sports']\", \"['Culture']\", \"['Shop', 'Relax']\"], 69944: [\"['Shop']\", \"['Sports', 'Events']\", \"['Nightlf']\", \"['Nightlf']\"], 17326: [\"['Sports', 'Nature']\", \"['Gastro', 'Culture']\", \"['Beach']\", \"['Events', 'Culture']\", \"['Nature', 'Relax']\"], 1727: [\"['Sports', 'Nature']\", \"['Sports']\"], 3705: [\"['Shop']\", \"['Nature', 'Relax']\", \"['Gastro', 'Nightlf']\", \"['Shop', 'Relax']\"], 48816: [\"['Nature', 'Relax']\", \"['Sports', 'Events']\", \"['Shop', 'Relax']\", \"['Sports', 'Nature']\", \"['Sports', 'Events']\", \"['Sports', 'Nature']\"], 55036: [\"['Relax']\", \"['Culture']\", \"['Beach']\", \"['Sports', 'Events']\"], 31983: [\"['Events', 'Culture']\", \"['Gastro', 'Nightlf']\", \"['Shop']\"], 41751: [\"['Culture']\", \"['Sports', 'Nature']\", \"['Beach']\", \"['Events', 'Culture']\", \"['Sports', 'Nature']\"], 35219: [\"['Beach']\", \"['Sports']\", \"['Culture']\", \"['Nature', 'Relax']\", \"['Culture']\"], 16645: [\"['Themeprk']\", \"['Shop', 'Relax']\", \"['Gastro', 'Nightlf']\", \"['Events', 'Culture']\", \"['Sports', 'Nature']\"], 77447: [\"['Beach']\"], 67977: [\"['Culture']\", \"['Themeprk']\", \"['Gastro']\"], 13511: [\"['Sports', 'Events']\", \"['Gastro', 'Nightlf']\", \"['Nature', 'Relax']\", \"['Gastro']\"], 54176: [\"['Nightlf']\", \"['Gastro']\", \"['Sports', 'Nature']\", \"['Sports', 'Events']\"], 10085: [\"['Gastro', 'Nightlf']\", \"['Culture']\", \"['Relax']\"], 98572: [\"['Sports', 'Events']\", \"['Beach']\", \"['Gastro', 'Nightlf']\"], 76137: [\"['Beach']\", \"['Culture']\", \"['Gastro', 'Culture']\", \"['Sports', 'Nature']\", \"['Themeprk']\"], 74254: [\"['Gastro']\", \"['Sports']\", \"['Gastro', 'Culture']\", \"['Beach']\", \"['Nightlf']\", \"['Sports', 'Events']\"], 86573: [\"['Beach']\", \"['Sports']\", \"['Events', 'Culture']\", \"['Gastro']\", \"['Sports', 'Events']\"], 1282: [\"['Events', 'Culture']\", \"['Culture']\", \"['Gastro']\", \"['Sports', 'Events']\"], 40859: [\"['Beach']\", \"['Nightlf']\"], 43066: [\"['Culture']\", \"['Shop']\", \"['Themeprk']\", \"['Gastro', 'Nightlf']\", \"['Nightlf']\"], 45156: [\"['Events', 'Culture']\", \"['Nightlf']\", \"['Gastro', 'Nightlf']\", \"['Culture']\"], 2359: [\"['Sports', 'Events']\", \"['Events', 'Culture']\", \"['Nature', 'Relax']\", \"['Relax']\", \"['Shop', 'Relax']\"], 99212: [\"['Events', 'Culture']\", \"['Sports', 'Events']\", \"['Culture']\", \"['Nature', 'Relax']\"], 68593: [\"['Sports', 'Events']\"], 40643: [\"['Gastro', 'Nightlf']\", \"['Culture']\", \"['Themeprk']\"], 10742: [\"['Relax']\", \"['Gastro', 'Culture']\"], 72731: [\"['Sports']\"], 41934: [\"['Beach']\", \"['Events', 'Culture']\", \"['Sports', 'Nature']\", \"['Themeprk']\", \"['Gastro']\"], 1370: [\"['Events', 'Culture']\", \"['Sports', 'Nature']\", \"['Gastro', 'Culture']\", \"['Sports']\"], 39736: [\"['Nightlf']\", \"['Sports', 'Nature']\"], 56611: [\"['Events', 'Culture']\", \"['Shop']\", \"['Gastro', 'Culture']\"], 47934: [\"['Nightlf']\", \"['Gastro', 'Culture']\", \"['Sports', 'Nature']\", \"['Events', 'Culture']\", \"['Gastro']\"], 56355: [\"['Events', 'Culture']\", \"['Culture']\"], 90833: [\"['Gastro', 'Nightlf']\", \"['Gastro', 'Culture']\", \"['Relax']\", \"['Culture']\", \"['Beach']\", \"['Gastro']\", \"['Nightlf']\"], 27123: [\"['Shop', 'Relax']\", \"['Sports']\", \"['Nature', 'Relax']\"], 72393: [\"['Sports']\", \"['Sports', 'Events']\", \"['Culture']\"], 10820: [\"['Nightlf']\", \"['Shop']\", \"['Culture']\"], 54262: [\"['Nightlf']\", \"['Gastro', 'Culture']\", \"['Sports', 'Nature']\", \"['Gastro']\", \"['Themeprk']\"], 58104: [\"['Beach']\", \"['Sports']\", \"['Nightlf']\"], 12588: [\"['Themeprk']\", \"['Culture']\", \"['Gastro', 'Culture']\"], 48703: [\"['Shop']\", \"['Nightlf']\", \"['Events', 'Culture']\", \"['Sports']\"], 40809: [\"['Culture']\", \"['Shop']\", \"['Beach']\", \"['Culture']\"], 81926: [\"['Events', 'Culture']\", \"['Gastro']\", \"['Gastro', 'Culture']\", \"['Shop', 'Relax']\"], 19709: [\"['Events', 'Culture']\", \"['Gastro']\", \"['Culture']\", \"['Gastro', 'Culture']\", \"['Shop', 'Relax']\", \"['Sports', 'Events']\", \"['Gastro']\", \"['Nature', 'Relax']\"], 58667: [\"['Gastro']\", \"['Sports']\"], 83683: [\"['Shop']\", \"['Gastro']\", \"['Relax']\", \"['Sports', 'Nature']\"], 96468: [\"['Gastro', 'Culture']\", \"['Gastro']\", \"['Relax']\"], 85580: [\"['Sports', 'Events']\", \"['Sports', 'Nature']\", \"['Gastro']\"], 31073: [\"['Beach']\", \"['Sports', 'Events']\", \"['Sports']\", \"['Sports', 'Events']\", \"['Shop', 'Relax']\"], 1348: [\"['Sports']\", \"['Nightlf']\", \"['Beach']\"], 19998: [\"['Nightlf']\", \"['Gastro', 'Culture']\", \"['Shop', 'Relax']\", \"['Gastro', 'Nightlf']\"], 56091: [\"['Nightlf']\", \"['Sports', 'Events']\", \"['Sports', 'Nature']\", \"['Sports', 'Nature']\", \"['Gastro']\"], 39879: [\"['Nature', 'Relax']\", \"['Sports', 'Nature']\"], 39139: [\"['Gastro', 'Nightlf']\", \"['Nightlf']\", \"['Sports']\", \"['Culture']\", \"['Sports', 'Nature']\", \"['Beach']\"], 95005: [\"['Sports', 'Events']\", \"['Nightlf']\", \"['Beach']\", \"['Gastro']\", \"['Sports', 'Events']\", \"['Beach']\"], 56224: [\"['Gastro', 'Nightlf']\", \"['Events', 'Culture']\", \"['Beach']\", \"['Gastro']\"], 76745: [\"['Sports', 'Nature']\", \"['Gastro', 'Nightlf']\", \"['Events', 'Culture']\", \"['Beach']\", \"['Culture']\"], 57006: [\"['Sports']\", \"['Sports', 'Events']\", \"['Nightlf']\", \"['Sports', 'Events']\", \"['Nightlf']\"], 85500: [\"['Gastro']\", \"['Nightlf']\", \"['Sports', 'Events']\", \"['Nature', 'Relax']\"], 60251: [\"['Themeprk']\", \"['Beach']\", \"['Nightlf']\", \"['Relax']\"], 40314: [\"['Sports', 'Events']\", \"['Nightlf']\"], 33388: [\"['Events', 'Culture']\", \"['Sports', 'Nature']\"], 48769: [\"['Gastro', 'Culture']\", \"['Events', 'Culture']\", \"['Nature', 'Relax']\", \"['Culture']\", \"['Relax']\", \"['Sports', 'Events']\", \"['Shop']\", \"['Sports']\"], 78786: [\"['Sports', 'Nature']\", \"['Nightlf']\", \"['Shop', 'Relax']\", \"['Culture']\", \"['Relax']\"], 27417: [\"['Gastro']\", \"['Events', 'Culture']\", \"['Sports', 'Events']\", \"['Themeprk']\", \"['Culture']\", \"['Sports']\", \"['Gastro', 'Nightlf']\"], 39137: [\"['Sports', 'Nature']\", \"['Sports']\", \"['Relax']\", \"['Culture']\", \"['Sports', 'Events']\"], 49216: [\"['Events', 'Culture']\", \"['Sports']\", \"['Sports', 'Events']\", \"['Gastro', 'Nightlf']\"], 4644: [\"['Nature', 'Relax']\", \"['Gastro']\", \"['Gastro', 'Nightlf']\", \"['Gastro', 'Culture']\", \"['Relax']\"], 71641: [\"['Nature', 'Relax']\", \"['Gastro']\"], 5608: [\"['Events', 'Culture']\", \"['Shop', 'Relax']\", \"['Sports']\", \"['Gastro']\"], 93410: [\"['Beach']\", \"['Gastro', 'Nightlf']\"], 36767: [\"['Sports', 'Events']\", \"['Gastro']\", \"['Sports', 'Events']\", \"['Shop', 'Relax']\"], 77672: [\"['Sports']\", \"['Culture']\", \"['Sports', 'Nature']\"], 50764: [\"['Shop', 'Relax']\", \"['Events', 'Culture']\", \"['Beach']\", \"['Beach']\", \"['Nature', 'Relax']\"], 27434: [\"['Sports', 'Nature']\", \"['Shop', 'Relax']\"], 45731: [\"['Relax']\", \"['Nightlf']\", \"['Nature', 'Relax']\", \"['Sports']\", \"['Culture']\", \"['Events', 'Culture']\"], 77688: [\"['Events', 'Culture']\", \"['Culture']\", \"['Relax']\"], 69582: [\"['Sports', 'Events']\"], 36087: [\"['Nightlf']\", \"['Events', 'Culture']\", \"['Sports', 'Events']\"], 12590: [\"['Sports', 'Events']\", \"['Sports']\", \"['Relax']\", \"['Sports', 'Nature']\", \"['Beach']\", \"['Events', 'Culture']\"], 82203: [\"['Sports']\", \"['Sports', 'Nature']\", \"['Nature', 'Relax']\", \"['Culture']\"], 12276: [\"['Sports', 'Nature']\", \"['Events', 'Culture']\"], 17857: [\"['Culture']\"], 77938: [\"['Beach']\", \"['Events', 'Culture']\", \"['Culture']\", \"['Sports', 'Nature']\", \"['Themeprk']\"], 65863: [\"['Beach']\", \"['Relax']\", \"['Sports', 'Nature']\", \"['Shop', 'Relax']\", \"['Culture']\"], 30070: [\"['Gastro', 'Culture']\", \"['Events', 'Culture']\", \"['Nightlf']\", \"['Shop']\", \"['Sports', 'Nature']\"], 23940: [\"['Nightlf']\", \"['Sports']\", \"['Gastro', 'Culture']\", \"['Beach']\"], 44353: [\"['Gastro', 'Culture']\", \"['Beach']\", \"['Sports', 'Nature']\", \"['Relax']\"], 16289: [\"['Sports', 'Nature']\", \"['Nature', 'Relax']\"], 45914: [\"['Beach']\", \"['Sports', 'Nature']\", \"['Nightlf']\", \"['Nature', 'Relax']\"], 97259: [\"['Culture']\", \"['Gastro', 'Culture']\"], 74143: [\"['Nature', 'Relax']\", \"['Gastro']\", \"['Sports']\", \"['Sports', 'Nature']\", \"['Gastro', 'Culture']\", \"['Gastro']\", \"['Gastro', 'Nightlf']\", \"['Culture']\"], 42077: [\"['Gastro', 'Culture']\", \"['Relax']\", \"['Gastro']\"], 14523: [\"['Sports', 'Nature']\", \"['Gastro', 'Nightlf']\", \"['Culture']\", \"['Beach']\", \"['Sports', 'Events']\"], 80855: [\"['Events', 'Culture']\"], 86274: [\"['Nightlf']\", \"['Gastro']\", \"['Culture']\", \"['Sports']\"], 44075: [\"['Sports', 'Nature']\"], 42092: [\"['Events', 'Culture']\", \"['Gastro']\", \"['Themeprk']\", \"['Culture']\"], 16656: [\"['Sports', 'Nature']\", \"['Gastro', 'Culture']\", \"['Culture']\", \"['Sports', 'Events']\"], 72780: [\"['Events', 'Culture']\", \"['Gastro']\", \"['Nature', 'Relax']\", \"['Sports']\"], 91718: [\"['Shop']\", \"['Gastro', 'Nightlf']\", \"['Relax']\", \"['Themeprk']\", \"['Sports']\", \"['Nature', 'Relax']\"], 67656: [\"['Sports', 'Events']\", \"['Sports', 'Nature']\", \"['Shop', 'Relax']\", \"['Sports', 'Events']\", \"['Themeprk']\"], 1113: [\"['Sports', 'Nature']\", \"['Sports', 'Events']\", \"['Sports', 'Events']\", \"['Beach']\"], 47777: [\"['Sports', 'Nature']\"], 28613: [\"['Sports']\", \"['Sports', 'Events']\", \"['Sports', 'Nature']\"], 46390: [\"['Sports', 'Nature']\", \"['Nightlf']\", \"['Gastro', 'Nightlf']\"], 49294: [\"['Beach']\", \"['Sports', 'Nature']\"], 7366: [\"['Sports', 'Events']\", \"['Gastro']\", \"['Gastro', 'Culture']\", \"['Culture']\"], 25845: [\"['Relax']\", \"['Sports', 'Nature']\"], 32501: [\"['Sports']\", \"['Shop', 'Relax']\"], 77050: [\"['Sports', 'Events']\", \"['Nature', 'Relax']\", \"['Gastro', 'Culture']\", \"['Shop']\"], 33045: [\"['Beach']\", \"['Sports']\"], 50709: [\"['Gastro', 'Culture']\", \"['Events', 'Culture']\", \"['Sports']\", \"['Nature', 'Relax']\"], 68129: [\"['Gastro']\", \"['Beach']\", \"['Culture']\", \"['Sports', 'Events']\", \"['Culture']\", \"['Relax']\"], 86447: [\"['Beach']\", \"['Sports', 'Events']\", \"['Culture']\"], 36972: [\"['Shop']\", \"['Themeprk']\"], 52296: [\"['Relax']\", \"['Events', 'Culture']\"], 20936: [\"['Gastro', 'Nightlf']\", \"['Beach']\"], 33759: [\"['Shop']\", \"['Sports', 'Events']\", \"['Gastro']\", \"['Nightlf']\"], 90198: [\"['Sports', 'Events']\", \"['Relax']\", \"['Beach']\", \"['Themeprk']\", \"['Gastro']\", \"['Culture']\"], 61968: [\"['Events', 'Culture']\", \"['Sports', 'Nature']\", \"['Culture']\", \"['Themeprk']\", \"['Shop', 'Relax']\", \"['Gastro', 'Nightlf']\"], 6125: [\"['Sports', 'Events']\", \"['Culture']\", \"['Shop']\"], 10383: [\"['Culture']\", \"['Events', 'Culture']\", \"['Nightlf']\"], 20474: [\"['Culture']\", \"['Nature', 'Relax']\"], 79567: [\"['Gastro', 'Culture']\"], 99145: [\"['Gastro', 'Nightlf']\", \"['Nightlf']\", \"['Culture']\", \"['Nature', 'Relax']\"], 77036: [\"['Nightlf']\", \"['Sports', 'Nature']\", \"['Sports']\"], 30263: [\"['Sports']\", \"['Shop']\", \"['Culture']\", \"['Gastro']\", \"['Nightlf']\"], 62008: [\"['Sports']\", \"['Events', 'Culture']\", \"['Sports', 'Nature']\", \"['Culture']\", \"['Beach']\", \"['Shop']\"], 12335: [\"['Culture']\", \"['Beach']\", \"['Nightlf']\", \"['Gastro']\"], 9328: [\"['Gastro', 'Culture']\", \"['Gastro']\", \"['Sports', 'Nature']\", \"['Sports', 'Nature']\", \"['Shop']\"], 76091: [\"['Events', 'Culture']\", \"['Sports', 'Nature']\", \"['Nature', 'Relax']\", \"['Themeprk']\"], 22608: [\"['Gastro']\", \"['Nightlf']\", \"['Sports', 'Nature']\"], 24838: [\"['Culture']\"], 6969: [\"['Nightlf']\", \"['Culture']\"], 96471: [\"['Events', 'Culture']\", \"['Gastro']\", \"['Shop']\", \"['Events', 'Culture']\"], 35940: [\"['Themeprk']\", \"['Gastro']\", \"['Sports', 'Events']\", \"['Beach']\"], 17098: [\"['Relax']\"], 39699: [\"['Sports']\", \"['Gastro', 'Nightlf']\", \"['Sports', 'Nature']\", \"['Relax']\", \"['Nightlf']\"], 74158: [\"['Beach']\", \"['Gastro', 'Culture']\", \"['Sports']\", \"['Beach']\"], 45906: [\"['Shop']\", \"['Themeprk']\", \"['Sports', 'Nature']\", \"['Sports', 'Events']\", \"['Nightlf']\"], 57507: [\"['Nightlf']\", \"['Gastro', 'Culture']\", \"['Culture']\"], 18339: [\"['Relax']\", \"['Sports']\", \"['Culture']\", \"['Gastro', 'Nightlf']\", \"['Nightlf']\", \"['Sports', 'Events']\"], 30351: [\"['Gastro', 'Nightlf']\", \"['Sports']\", \"['Sports', 'Events']\", \"['Shop']\", \"['Gastro', 'Culture']\", \"['Beach']\"], 22284: [\"['Events', 'Culture']\", \"['Sports', 'Events']\"], 8520: [\"['Sports']\", \"['Shop']\", \"['Nightlf']\"], 16602: [\"['Events', 'Culture']\", \"['Nightlf']\", \"['Gastro', 'Culture']\"], 64229: [\"['Nightlf']\", \"['Sports', 'Nature']\", \"['Beach']\", \"['Nature', 'Relax']\"], 79868: [\"['Events', 'Culture']\", \"['Sports']\", \"['Gastro', 'Culture']\", \"['Beach']\"], 35452: [\"['Sports', 'Nature']\", \"['Shop', 'Relax']\", \"['Nightlf']\", \"['Relax']\"], 23309: [\"['Shop', 'Relax']\", \"['Sports', 'Nature']\"], 63290: [\"['Events', 'Culture']\", \"['Gastro', 'Culture']\", \"['Sports', 'Nature']\", \"['Gastro']\", \"['Sports', 'Events']\"], 5286: [\"['Events', 'Culture']\", \"['Shop']\", \"['Sports', 'Nature']\"], 30894: [\"['Sports', 'Nature']\", \"['Shop', 'Relax']\", \"['Beach']\"], 24537: [\"['Beach']\", \"['Themeprk']\", \"['Sports']\", \"['Gastro', 'Culture']\", \"['Shop']\", \"['Beach']\", \"['Nature', 'Relax']\"], 66868: [\"['Gastro', 'Nightlf']\", \"['Sports', 'Nature']\", \"['Sports', 'Events']\", \"['Shop']\"], 42759: [\"['Themeprk']\", \"['Sports', 'Nature']\", \"['Shop']\", \"['Beach']\", \"['Sports', 'Events']\", \"['Sports']\"], 80980: [\"['Sports', 'Events']\", \"['Shop']\", \"['Sports', 'Nature']\"], 65006: [\"['Nature', 'Relax']\", \"['Beach']\", \"['Culture']\", \"['Gastro']\"], 89246: [\"['Relax']\", \"['Sports', 'Nature']\", \"['Beach']\"], 21963: [\"['Gastro']\", \"['Gastro', 'Culture']\"], 89974: [\"['Shop', 'Relax']\", \"['Nightlf']\", \"['Gastro']\", \"['Beach']\", \"['Events', 'Culture']\", \"['Culture']\"], 10599: [\"['Events', 'Culture']\", \"['Sports', 'Nature']\"], 7295: [\"['Beach']\", \"['Sports']\", \"['Culture']\", \"['Gastro', 'Culture']\", \"['Sports', 'Nature']\"], 80047: [\"['Gastro']\", \"['Gastro', 'Nightlf']\", \"['Events', 'Culture']\"], 48113: [\"['Beach']\", \"['Events', 'Culture']\", \"['Culture']\", \"['Nightlf']\"], 18923: [\"['Gastro']\", \"['Culture']\", \"['Culture']\"], 32217: [\"['Beach']\", \"['Shop']\", \"['Sports', 'Nature']\"], 78091: [\"['Gastro', 'Nightlf']\", \"['Gastro']\", \"['Sports', 'Events']\"], 97949: [\"['Themeprk']\"], 3916: [\"['Themeprk']\", \"['Culture']\", \"['Sports']\", \"['Beach']\"], 51618: [\"['Events', 'Culture']\", \"['Shop', 'Relax']\", \"['Sports', 'Nature']\", \"['Sports']\", \"['Sports']\"], 27337: [\"['Events', 'Culture']\", \"['Shop']\", \"['Themeprk']\", \"['Sports', 'Nature']\", \"['Sports']\"], 10402: [\"['Gastro']\", \"['Themeprk']\"], 46186: [\"['Gastro']\", \"['Sports', 'Events']\", \"['Shop', 'Relax']\"], 43535: [\"['Nature', 'Relax']\", \"['Sports', 'Events']\", \"['Sports', 'Nature']\", \"['Culture']\", \"['Themeprk']\", \"['Culture']\", \"['Sports']\", \"['Events', 'Culture']\", \"['Nightlf']\"], 73894: [\"['Beach']\", \"['Nightlf']\", \"['Culture']\", \"['Sports', 'Events']\", \"['Relax']\"], 20356: [\"['Beach']\", \"['Sports']\", \"['Relax']\", \"['Events', 'Culture']\"], 9529: [\"['Nature', 'Relax']\", \"['Shop', 'Relax']\", \"['Nightlf']\", \"['Gastro', 'Nightlf']\"], 72542: [\"['Sports']\", \"['Sports', 'Events']\", \"['Shop', 'Relax']\"], 17521: [\"['Beach']\", \"['Sports', 'Nature']\", \"['Gastro', 'Culture']\", \"['Gastro', 'Nightlf']\", \"['Gastro']\", \"['Sports']\", \"['Sports', 'Events']\"], 35358: [\"['Events', 'Culture']\", \"['Beach']\", \"['Relax']\", \"['Nature', 'Relax']\", \"['Sports', 'Events']\", \"['Culture']\"], 87814: [\"['Sports', 'Nature']\", \"['Nightlf']\", \"['Sports', 'Events']\", \"['Beach']\", \"['Gastro']\", \"['Culture']\"], 70489: [\"['Beach']\", \"['Nature', 'Relax']\"], 71063: [\"['Sports', 'Events']\", \"['Events', 'Culture']\", \"['Relax']\", \"['Sports']\"], 63732: [\"['Gastro']\", \"['Culture']\", \"['Sports', 'Events']\"], 61651: [\"['Shop']\", \"['Shop', 'Relax']\"], 80056: [\"['Sports', 'Events']\", \"['Beach']\", \"['Themeprk']\", \"['Nature', 'Relax']\"], 49096: [\"['Sports']\", \"['Sports', 'Events']\"], 74509: [\"['Sports', 'Nature']\", \"['Nightlf']\"], 42036: [\"['Shop']\", \"['Sports']\", \"['Sports', 'Nature']\"], 57212: [\"['Relax']\", \"['Gastro']\", \"['Sports', 'Events']\"], 10017: [\"['Culture']\", \"['Sports', 'Events']\"], 87656: [\"['Events', 'Culture']\", \"['Culture']\", \"['Beach']\", \"['Sports', 'Nature']\"], 10522: [\"['Gastro', 'Culture']\"], 43822: [\"['Gastro']\", \"['Culture']\", \"['Events', 'Culture']\", \"['Sports', 'Events']\"], 40824: [\"['Sports']\", \"['Sports', 'Events']\", \"['Nature', 'Relax']\", \"['Sports', 'Events']\", \"['Shop']\", \"['Nightlf']\", \"['Events', 'Culture']\", \"['Beach']\", \"['Gastro']\"], 7577: [\"['Shop', 'Relax']\", \"['Nightlf']\", \"['Sports', 'Events']\", \"['Gastro', 'Culture']\", \"['Gastro']\", \"['Gastro', 'Nightlf']\"], 43247: [\"['Gastro']\", \"['Relax']\"], 67364: [\"['Nature', 'Relax']\", \"['Culture']\", \"['Sports']\"], 95311: [\"['Relax']\", \"['Beach']\", \"['Sports', 'Events']\", \"['Gastro']\", \"['Beach']\"], 39653: [\"['Gastro']\", \"['Beach']\"], 83685: [\"['Sports', 'Nature']\", \"['Beach']\", \"['Relax']\", \"['Sports']\", \"['Sports']\"], 614: [\"['Sports', 'Events']\", \"['Gastro']\", \"['Gastro', 'Culture']\"], 10457: [\"['Sports']\", \"['Beach']\", \"['Gastro']\"], 12110: [\"['Sports', 'Events']\", \"['Gastro', 'Nightlf']\"], 65156: [\"['Beach']\", \"['Relax']\", \"['Culture']\", \"['Sports', 'Events']\"], 64982: [\"['Nightlf']\", \"['Sports', 'Events']\", \"['Shop', 'Relax']\", \"['Gastro']\"], 59891: [\"['Sports', 'Nature']\"], 31626: [\"['Beach']\", \"['Shop']\", \"['Shop', 'Relax']\", \"['Sports', 'Nature']\"], 72789: [\"['Events', 'Culture']\", \"['Culture']\", \"['Gastro', 'Nightlf']\", \"['Shop']\", \"['Beach']\"], 38028: [\"['Gastro', 'Nightlf']\", \"['Themeprk']\", \"['Gastro', 'Culture']\", \"['Gastro']\", \"['Gastro']\", \"['Beach']\", \"['Events', 'Culture']\"], 2378: [\"['Gastro']\", \"['Sports', 'Nature']\", \"['Gastro']\"], 70076: [\"['Events', 'Culture']\", \"['Shop', 'Relax']\", \"['Beach']\"], 14470: [\"['Shop']\", \"['Shop', 'Relax']\", \"['Sports', 'Nature']\"], 765: [\"['Sports']\", \"['Relax']\", \"['Shop', 'Relax']\", \"['Sports', 'Nature']\"], 67629: [\"['Themeprk']\", \"['Shop', 'Relax']\", \"['Shop']\", \"['Beach']\"], 2984: [\"['Culture']\", \"['Nightlf']\", \"['Sports']\", \"['Culture']\"], 17260: [\"['Shop']\", \"['Beach']\"], 69323: [\"['Shop', 'Relax']\", \"['Shop']\", \"['Gastro', 'Culture']\", \"['Culture']\", \"['Nightlf']\", \"['Culture']\"], 21493: [\"['Gastro']\", \"['Events', 'Culture']\", \"['Gastro']\", \"['Sports', 'Events']\"], 71285: [\"['Sports']\", \"['Beach']\"], 12395: [\"['Sports', 'Events']\", \"['Shop', 'Relax']\", \"['Gastro', 'Culture']\"], 94168: [\"['Sports', 'Events']\", \"['Culture']\"], 28464: [\"['Gastro', 'Culture']\", \"['Nightlf']\", \"['Events', 'Culture']\"], 72452: [\"['Sports', 'Events']\", \"['Culture']\"], 51593: [\"['Nightlf']\", \"['Relax']\"], 20998: [\"['Events', 'Culture']\", \"['Beach']\", \"['Nature', 'Relax']\"], 27277: [\"['Sports']\", \"['Beach']\", \"['Culture']\", \"['Nightlf']\", \"['Themeprk']\", \"['Relax']\"], 912: [\"['Gastro', 'Nightlf']\", \"['Culture']\", \"['Nightlf']\", \"['Events', 'Culture']\"], 23017: [\"['Beach']\", \"['Sports', 'Nature']\", \"['Gastro']\"], 37501: [\"['Sports']\", \"['Relax']\", \"['Sports']\", \"['Nightlf']\", \"['Shop']\", \"['Gastro', 'Culture']\"], 78833: [\"['Gastro', 'Nightlf']\", \"['Sports']\", \"['Culture']\"], 34285: [\"['Nature', 'Relax']\", \"['Sports']\", \"['Nightlf']\", \"['Culture']\", \"['Gastro']\", \"['Themeprk']\"], 48881: [\"['Themeprk']\", \"['Gastro', 'Culture']\", \"['Sports']\", \"['Culture']\", \"['Nature', 'Relax']\"], 44074: [\"['Themeprk']\", \"['Shop']\", \"['Sports', 'Nature']\", \"['Relax']\"], 22624: [\"['Sports', 'Nature']\", \"['Shop', 'Relax']\"], 9336: [\"['Shop', 'Relax']\", \"['Gastro', 'Culture']\", \"['Nightlf']\", \"['Nightlf']\", \"['Nature', 'Relax']\", \"['Sports', 'Nature']\"], 86037: [\"['Sports']\", \"['Shop', 'Relax']\", \"['Events', 'Culture']\", \"['Sports']\"], 3241: [\"['Sports']\", \"['Beach']\", \"['Beach']\"], 1065: [\"['Sports', 'Nature']\", \"['Sports']\", \"['Sports', 'Nature']\"], 47518: [\"['Nature', 'Relax']\"], 62770: [\"['Nature', 'Relax']\", \"['Gastro', 'Nightlf']\", \"['Relax']\", \"['Events', 'Culture']\", \"['Sports']\"], 79743: [\"['Relax']\", \"['Sports', 'Events']\", \"['Beach']\"], 66234: [\"['Nature', 'Relax']\", \"['Gastro', 'Culture']\", \"['Sports', 'Nature']\", \"['Shop']\", \"['Gastro', 'Nightlf']\"], 36042: [\"['Nature', 'Relax']\", \"['Culture']\", \"['Beach']\"], 4147: [\"['Sports', 'Events']\", \"['Culture']\", \"['Culture']\", \"['Gastro', 'Culture']\", \"['Sports']\", \"['Sports']\"], 43130: [\"['Gastro', 'Culture']\", \"['Events', 'Culture']\", \"['Nature', 'Relax']\", \"['Culture']\"], 95484: [\"['Beach']\", \"['Sports', 'Events']\", \"['Sports', 'Nature']\"], 77022: [\"['Beach']\", \"['Shop']\", \"['Nightlf']\", \"['Culture']\"], 25333: [\"['Sports']\", \"['Gastro', 'Nightlf']\", \"['Sports']\", \"['Beach']\", \"['Events', 'Culture']\", \"['Sports', 'Events']\"], 14177: [\"['Culture']\", \"['Shop']\", \"['Shop', 'Relax']\", \"['Themeprk']\"], 69172: [\"['Sports', 'Events']\"], 78935: [\"['Sports']\", \"['Themeprk']\", \"['Relax']\"], 94715: [\"['Sports', 'Nature']\", \"['Sports', 'Events']\"], 54444: [\"['Gastro']\", \"['Gastro', 'Nightlf']\", \"['Gastro']\"], 73455: [\"['Sports', 'Events']\", \"['Gastro']\", \"['Nightlf']\"], 94639: [\"['Gastro']\", \"['Beach']\", \"['Shop']\"], 31135: [\"['Gastro']\", \"['Beach']\", \"['Shop', 'Relax']\", \"['Relax']\", \"['Gastro', 'Culture']\"], 40093: [\"['Events', 'Culture']\", \"['Gastro']\", \"['Gastro', 'Nightlf']\", \"['Sports']\", \"['Sports', 'Nature']\"], 16484: [\"['Shop', 'Relax']\"], 34450: [\"['Gastro', 'Culture']\", \"['Culture']\", \"['Gastro', 'Nightlf']\", \"['Gastro']\"], 82873: [\"['Gastro', 'Nightlf']\", \"['Nature', 'Relax']\", \"['Beach']\"], 45048: [\"['Gastro', 'Culture']\", \"['Events', 'Culture']\", \"['Sports']\", \"['Gastro']\", \"['Sports', 'Events']\", \"['Gastro', 'Nightlf']\"], 93062: [\"['Beach']\", \"['Sports', 'Events']\", \"['Culture']\", \"['Sports', 'Events']\", \"['Gastro']\", \"['Shop', 'Relax']\", \"['Shop']\"], 87789: [\"['Themeprk']\", \"['Culture']\", \"['Shop', 'Relax']\", \"['Culture']\", \"['Gastro']\", \"['Beach']\"], 36607: [\"['Sports', 'Nature']\", \"['Themeprk']\", \"['Sports', 'Nature']\", \"['Shop', 'Relax']\", \"['Sports']\", \"['Gastro']\"], 47606: [\"['Beach']\", \"['Culture']\", \"['Shop', 'Relax']\", \"['Beach']\"], 49190: [\"['Sports']\", \"['Shop']\"], 15854: [\"['Beach']\", \"['Gastro']\", \"['Beach']\", \"['Sports', 'Events']\", \"['Nature', 'Relax']\"], 49516: [\"['Beach']\", \"['Gastro', 'Nightlf']\", \"['Nature', 'Relax']\", \"['Gastro']\", \"['Sports', 'Nature']\", \"['Gastro']\"], 75514: [\"['Nightlf']\", \"['Sports']\", \"['Shop', 'Relax']\", \"['Events', 'Culture']\", \"['Relax']\", \"['Sports', 'Nature']\", \"['Gastro', 'Nightlf']\"], 48532: [\"['Sports']\", \"['Gastro', 'Culture']\"], 94851: [\"['Shop']\", \"['Nightlf']\", \"['Culture']\"], 42052: [\"['Sports', 'Events']\", \"['Sports', 'Nature']\"], 99258: [\"['Shop', 'Relax']\", \"['Shop']\", \"['Sports']\"], 87450: [\"['Gastro']\", \"['Sports', 'Events']\", \"['Culture']\", \"['Sports', 'Events']\", \"['Nightlf']\", \"['Events', 'Culture']\", \"['Shop']\"], 62312: [\"['Nightlf']\", \"['Nature', 'Relax']\", \"['Sports', 'Nature']\", \"['Gastro']\"], 59273: [\"['Sports']\", \"['Gastro']\", \"['Relax']\", \"['Gastro', 'Nightlf']\"], 54399: [\"['Relax']\", \"['Gastro']\"], 629: [\"['Sports']\", \"['Beach']\", \"['Events', 'Culture']\", \"['Nightlf']\"], 67970: [\"['Culture']\", \"['Sports']\", \"['Sports', 'Events']\"], 20299: [\"['Shop', 'Relax']\", \"['Sports', 'Events']\", \"['Themeprk']\", \"['Sports', 'Nature']\"], 37314: [\"['Gastro']\", \"['Events', 'Culture']\", \"['Sports', 'Events']\", \"['Shop']\", \"['Beach']\"], 28213: [\"['Sports']\", \"['Beach']\", \"['Culture']\", \"['Nightlf']\", \"['Nightlf']\", \"['Gastro']\"], 10470: [\"['Nature', 'Relax']\", \"['Gastro', 'Nightlf']\"], 3033: [\"['Sports', 'Events']\", \"['Gastro', 'Nightlf']\", \"['Sports']\"], 1403: [\"['Gastro']\", \"['Culture']\", \"['Gastro']\", \"['Sports']\", \"['Beach']\"], 81229: [\"['Sports']\", \"['Sports', 'Events']\", \"['Gastro']\", \"['Gastro']\"], 57954: [\"['Shop']\", \"['Sports', 'Events']\", \"['Beach']\", \"['Nature', 'Relax']\", \"['Events', 'Culture']\", \"['Themeprk']\"], 8436: [\"['Themeprk']\", \"['Culture']\"], 88989: [\"['Gastro', 'Nightlf']\", \"['Sports', 'Nature']\"], 16833: [\"['Gastro', 'Nightlf']\"], 15735: [\"['Shop']\", \"['Sports', 'Nature']\", \"['Shop', 'Relax']\"], 11551: [\"['Sports', 'Nature']\", \"['Sports']\", \"['Beach']\"], 82450: [\"['Events', 'Culture']\", \"['Culture']\", \"['Nightlf']\", \"['Sports']\"], 42165: [\"['Nightlf']\", \"['Sports', 'Events']\", \"['Gastro']\", \"['Sports', 'Events']\"], 83511: [\"['Gastro', 'Culture']\", \"['Nature', 'Relax']\", \"['Beach']\", \"['Sports', 'Nature']\", \"['Nightlf']\"], 98342: [\"['Sports', 'Events']\", \"['Nightlf']\", \"['Events', 'Culture']\", \"['Themeprk']\", \"['Gastro']\", \"['Shop']\", \"['Nature', 'Relax']\", \"['Sports']\"], 47436: [\"['Sports', 'Events']\", \"['Beach']\", \"['Gastro']\", \"['Gastro']\"], 47867: [\"['Sports']\", \"['Sports', 'Nature']\", \"['Sports', 'Events']\"], 55185: [\"['Sports']\", \"['Sports', 'Events']\", \"['Shop', 'Relax']\", \"['Themeprk']\"], 90410: [\"['Nature', 'Relax']\", \"['Relax']\", \"['Events', 'Culture']\"], 73459: [\"['Shop']\", \"['Themeprk']\", \"['Sports', 'Events']\", \"['Sports', 'Nature']\"], 38853: [\"['Nightlf']\", \"['Shop', 'Relax']\", \"['Relax']\"], 71906: [\"['Sports', 'Nature']\", \"['Beach']\", \"['Nightlf']\"], 57108: [\"['Sports']\", \"['Culture']\", \"['Gastro']\", \"['Sports', 'Nature']\", \"['Shop']\"], 25556: [\"['Shop']\", \"['Beach']\", \"['Sports']\", \"['Beach']\", \"['Culture']\"], 33923: [\"['Shop', 'Relax']\", \"['Shop']\", \"['Gastro']\", \"['Gastro', 'Culture']\", \"['Gastro', 'Nightlf']\"], 64671: [\"['Culture']\", \"['Gastro', 'Culture']\", \"['Nightlf']\"], 43839: [\"['Events', 'Culture']\", \"['Sports', 'Nature']\", \"['Culture']\", \"['Shop']\"], 23721: [\"['Sports', 'Events']\", \"['Gastro']\", \"['Sports', 'Nature']\", \"['Sports']\", \"['Beach']\", \"['Culture']\", \"['Beach']\"], 70924: [\"['Relax']\", \"['Sports', 'Events']\"], 72165: [\"['Gastro', 'Culture']\", \"['Gastro']\", \"['Themeprk']\", \"['Shop']\"], 40323: [\"['Sports', 'Nature']\", \"['Shop']\", \"['Culture']\", \"['Sports']\", \"['Relax']\"], 36263: [\"['Gastro']\", \"['Gastro', 'Culture']\", \"['Sports']\", \"['Beach']\", \"['Beach']\"], 4361: [\"['Culture']\", \"['Gastro', 'Culture']\", \"['Relax']\", \"['Sports']\"], 32588: [\"['Beach']\", \"['Nature', 'Relax']\", \"['Gastro', 'Culture']\", \"['Events', 'Culture']\"], 20595: [\"['Sports', 'Events']\", \"['Gastro', 'Culture']\", \"['Culture']\"], 17416: [\"['Sports']\", \"['Themeprk']\", \"['Sports', 'Nature']\"], 30195: [\"['Gastro']\", \"['Relax']\", \"['Events', 'Culture']\", \"['Nightlf']\"], 13241: [\"['Gastro', 'Nightlf']\", \"['Relax']\", \"['Gastro']\"], 22887: [\"['Nature', 'Relax']\", \"['Events', 'Culture']\"], 39929: [\"['Shop']\", \"['Beach']\", \"['Nightlf']\", \"['Culture']\", \"['Sports']\", \"['Sports']\"], 13543: [\"['Sports', 'Events']\", \"['Shop']\", \"['Sports', 'Events']\", \"['Gastro']\"], 2269: [\"['Culture']\", \"['Sports']\", \"['Gastro']\", \"['Sports', 'Nature']\"], 52343: [\"['Sports', 'Events']\", \"['Nightlf']\", \"['Culture']\"], 96905: [\"['Themeprk']\", \"['Relax']\", \"['Events', 'Culture']\"], 12730: [\"['Sports']\", \"['Gastro']\", \"['Themeprk']\", \"['Nightlf']\", \"['Culture']\", \"['Culture']\"], 57519: [\"['Sports', 'Nature']\", \"['Sports', 'Events']\"], 52302: [\"['Sports', 'Nature']\", \"['Gastro']\", \"['Sports', 'Nature']\", \"['Sports', 'Events']\"], 16758: [\"['Sports', 'Events']\", \"['Gastro', 'Culture']\"], 27427: [\"['Sports', 'Nature']\", \"['Sports']\", \"['Gastro', 'Nightlf']\", \"['Sports', 'Events']\"], 90228: [\"['Gastro']\", \"['Sports']\", \"['Beach']\", \"['Beach']\", \"['Culture']\"], 62292: [\"['Culture']\", \"['Gastro']\", \"['Nightlf']\", \"['Gastro']\"], 80970: [\"['Nightlf']\", \"['Gastro']\", \"['Sports', 'Events']\", \"['Events', 'Culture']\"], 25574: [\"['Sports', 'Events']\", \"['Gastro']\", \"['Nightlf']\", \"['Beach']\"], 83444: [\"['Shop', 'Relax']\", \"['Events', 'Culture']\"], 5720: [\"['Relax']\", \"['Shop', 'Relax']\"], 91377: [\"['Themeprk']\", \"['Nightlf']\", \"['Beach']\", \"['Sports']\"], 29633: [\"['Nature', 'Relax']\", \"['Gastro', 'Nightlf']\", \"['Nightlf']\"], 98133: [\"['Sports']\", \"['Gastro', 'Culture']\", \"['Culture']\", \"['Nightlf']\", \"['Beach']\", \"['Shop', 'Relax']\"], 32080: [\"['Nightlf']\", \"['Shop']\", \"['Gastro', 'Culture']\", \"['Nature', 'Relax']\"], 26732: [\"['Sports']\", \"['Gastro', 'Nightlf']\", \"['Nightlf']\", \"['Themeprk']\"], 48775: [\"['Nightlf']\", \"['Culture']\", \"['Events', 'Culture']\"], 27370: [\"['Sports', 'Nature']\", \"['Beach']\", \"['Nature', 'Relax']\", \"['Themeprk']\", \"['Culture']\"], 71864: [\"['Culture']\", \"['Culture']\"], 65613: [\"['Events', 'Culture']\", \"['Sports']\", \"['Nightlf']\"], 30442: [\"['Shop', 'Relax']\", \"['Relax']\", \"['Sports']\", \"['Beach']\", \"['Culture']\"], 90391: [\"['Culture']\", \"['Sports']\", \"['Beach']\", \"['Nightlf']\", \"['Shop', 'Relax']\", \"['Sports', 'Nature']\", \"['Events', 'Culture']\"], 92256: [\"['Culture']\", \"['Sports', 'Events']\", \"['Sports', 'Nature']\", \"['Culture']\", \"['Events', 'Culture']\"], 85084: [\"['Gastro', 'Culture']\", \"['Culture']\", \"['Shop', 'Relax']\", \"['Shop']\"], 7077: [\"['Sports', 'Events']\", \"['Shop']\"], 80053: [\"['Sports', 'Events']\", \"['Shop']\", \"['Nightlf']\", \"['Sports']\", \"['Culture']\"], 37838: [\"['Events', 'Culture']\", \"['Gastro', 'Nightlf']\"], 56560: [\"['Shop']\", \"['Nature', 'Relax']\", \"['Gastro']\", \"['Culture']\"], 72094: [\"['Sports', 'Events']\"], 39845: [\"['Events', 'Culture']\", \"['Sports', 'Nature']\", \"['Sports', 'Nature']\"], 45519: [\"['Nature', 'Relax']\", \"['Nightlf']\", \"['Gastro', 'Culture']\", \"['Events', 'Culture']\"], 64860: [\"['Events', 'Culture']\", \"['Shop', 'Relax']\", \"['Beach']\"], 98117: [\"['Themeprk']\", \"['Culture']\", \"['Beach']\", \"['Nature', 'Relax']\"], 37779: [\"['Gastro', 'Nightlf']\", \"['Sports']\"], 69017: [\"['Sports', 'Nature']\"], 11961: [\"['Sports', 'Nature']\", \"['Gastro', 'Culture']\", \"['Events', 'Culture']\", \"['Sports']\", \"['Relax']\", \"['Themeprk']\"], 87870: [\"['Sports', 'Nature']\", \"['Nature', 'Relax']\", \"['Sports']\"], 11156: [\"['Culture']\", \"['Gastro', 'Nightlf']\", \"['Gastro']\"], 60433: [\"['Sports', 'Events']\", \"['Nightlf']\", \"['Shop']\", \"['Gastro']\", \"['Sports', 'Nature']\"], 75386: [\"['Gastro', 'Culture']\", \"['Sports', 'Events']\", \"['Sports']\", \"['Nature', 'Relax']\", \"['Beach']\"], 97901: [\"['Shop', 'Relax']\", \"['Culture']\", \"['Gastro', 'Culture']\"], 53553: [\"['Culture']\", \"['Sports', 'Nature']\"], 24613: [\"['Sports', 'Events']\", \"['Sports', 'Events']\", \"['Events', 'Culture']\", \"['Gastro', 'Nightlf']\"], 25194: [\"['Sports', 'Nature']\", \"['Nightlf']\", \"['Beach']\"], 69391: [\"['Nightlf']\", \"['Shop']\", \"['Themeprk']\", \"['Beach']\", \"['Sports', 'Nature']\", \"['Sports', 'Events']\", \"['Gastro', 'Nightlf']\", \"['Culture']\"], 8934: [\"['Culture']\", \"['Gastro', 'Nightlf']\", \"['Shop']\", \"['Events', 'Culture']\"], 32091: [\"['Beach']\", \"['Gastro', 'Nightlf']\", \"['Events', 'Culture']\", \"['Events', 'Culture']\", \"['Nature', 'Relax']\", \"['Nightlf']\"], 41967: [\"['Sports']\", \"['Beach']\", \"['Gastro']\", \"['Gastro', 'Nightlf']\", \"['Culture']\"], 66162: [\"['Shop', 'Relax']\", \"['Sports', 'Nature']\", \"['Nightlf']\", \"['Sports', 'Nature']\", \"['Sports', 'Events']\", \"['Relax']\"], 44693: [\"['Shop', 'Relax']\", \"['Sports', 'Events']\"], 18393: [\"['Events', 'Culture']\", \"['Beach']\", \"['Events', 'Culture']\", \"['Sports']\"], 37750: [\"['Beach']\", \"['Sports', 'Nature']\", \"['Sports', 'Nature']\", \"['Shop', 'Relax']\", \"['Culture']\"], 20417: [\"['Gastro', 'Nightlf']\", \"['Sports', 'Nature']\", \"['Gastro', 'Culture']\", \"['Sports']\", \"['Sports', 'Nature']\", \"['Nature', 'Relax']\"], 15112: [\"['Nightlf']\", \"['Beach']\", \"['Sports', 'Nature']\"], 29307: [\"['Nightlf']\", \"['Themeprk']\", \"['Sports']\", \"['Gastro', 'Culture']\", \"['Sports', 'Nature']\"], 90439: [\"['Nature', 'Relax']\", \"['Sports', 'Events']\", \"['Sports']\"], 36340: [\"['Events', 'Culture']\", \"['Sports', 'Nature']\"], 80098: [\"['Shop']\", \"['Sports', 'Nature']\"], 94866: [\"['Relax']\", \"['Nature', 'Relax']\", \"['Sports', 'Nature']\", \"['Shop', 'Relax']\"], 52321: [\"['Gastro', 'Nightlf']\", \"['Shop']\", \"['Beach']\"], 26664: [\"['Nightlf']\", \"['Beach']\"], 51017: [\"['Gastro', 'Nightlf']\"], 96465: [\"['Shop', 'Relax']\", \"['Sports', 'Nature']\"], 92069: [\"['Gastro']\", \"['Gastro', 'Nightlf']\", \"['Themeprk']\"], 33876: [\"['Gastro', 'Culture']\", \"['Sports']\", \"['Sports', 'Events']\", \"['Gastro']\"], 7578: [\"['Nature', 'Relax']\", \"['Themeprk']\", \"['Culture']\"], 61092: [\"['Culture']\", \"['Sports']\"], 62627: [\"['Sports']\", \"['Sports', 'Nature']\", \"['Culture']\", \"['Shop']\"], 4440: [\"['Themeprk']\", \"['Shop']\", \"['Sports']\"], 96330: [\"['Relax']\", \"['Beach']\", \"['Gastro']\", \"['Nightlf']\"], 40385: [\"['Nightlf']\", \"['Beach']\"], 72663: [\"['Sports', 'Events']\", \"['Culture']\", \"['Shop', 'Relax']\"], 11145: [\"['Nightlf']\", \"['Sports', 'Nature']\"], 53535: [\"['Gastro', 'Nightlf']\"], 57326: [\"['Nightlf']\", \"['Nightlf']\", \"['Sports', 'Events']\"], 20987: [\"['Beach']\", \"['Nature', 'Relax']\", \"['Shop']\", \"['Sports', 'Events']\", \"['Events', 'Culture']\"], 89835: [\"['Sports', 'Events']\"], 34842: [\"['Gastro', 'Culture']\", \"['Nature', 'Relax']\", \"['Themeprk']\", \"['Beach']\"], 8051: [\"['Culture']\", \"['Shop', 'Relax']\"], 14526: [\"['Gastro']\", \"['Nightlf']\", \"['Sports']\", \"['Events', 'Culture']\", \"['Culture']\"], 76954: [\"['Relax']\", \"['Shop', 'Relax']\", \"['Gastro']\", \"['Nightlf']\", \"['Events', 'Culture']\"], 22661: [\"['Events', 'Culture']\", \"['Nature', 'Relax']\"], 76926: [\"['Nightlf']\", \"['Gastro', 'Nightlf']\", \"['Events', 'Culture']\"], 19964: [\"['Culture']\", \"['Events', 'Culture']\", \"['Beach']\"]}\n"
          ]
        }
      ]
    },
    {
      "cell_type": "code",
      "source": [
        "# function to set top user with top Categories\n",
        "def predict_user_category_ratings(user, category):\n",
        "    items_in_category = merged_df[merged_df['Category'] == category][['itemId', 'ItemName']].drop_duplicates()\n",
        "    user_ratings = []\n",
        "    for _, row in items_in_category.iterrows():\n",
        "        item_id = row['itemId']\n",
        "        item_name = row['ItemName']\n",
        "        user_ratings.append((item_id, item_name, svd.predict(user, item_id, verbose=False).est))\n",
        "    user_ratings = sorted(user_ratings, key=lambda x: x[2], reverse=True)[:5]\n",
        "    return [(user, rating[0], merged_df[merged_df['itemId'] == rating[0]]['ItemName'].iloc[0], rating[1]) for rating in user_ratings]\n",
        "\n",
        "# collect top categories\n",
        "user_top_items = {}\n",
        "for user in user_categories.keys():\n",
        "    user_top_items[user] = {}\n",
        "    for category in set(user_categories[user]):\n",
        "        user_top_items[user][category] = predict_user_category_ratings(user, category)\n",
        "\n",
        "# collect top 5 users items\n",
        "for i, (user, top_items) in enumerate(user_top_items.items()):\n",
        "    print(f\"Top 5 items for user {user}:\")\n",
        "    for category, items in top_items.items():\n",
        "        if items:\n",
        "            print(f\"\\tIn category {category}:\")\n",
        "            for item in items:\n",
        "                print(f\"\\t\\tItem Id: {item[1]} - Name: {item[2]}\")\n",
        "    print('\\n')\n",
        "    \n",
        "    if i == 4:\n",
        "        break"
      ],
      "metadata": {
        "colab": {
          "base_uri": "https://localhost:8080/"
        },
        "id": "0Edj-rg0Rnk9",
        "outputId": "5162e5f6-9599-43f9-bd0b-29bb5a5b221b"
      },
      "execution_count": 12,
      "outputs": [
        {
          "output_type": "stream",
          "name": "stdout",
          "text": [
            "Top 5 items for user 2721:\n",
            "\tIn category ['Gastro']:\n",
            "\t\tItem Id: 0 - Name: Restaurant Fake\n",
            "\t\tItem Id: 15 - Name: Best Imaginary Restaurant\n",
            "\tIn category ['Shop', 'Relax']:\n",
            "\t\tItem Id: 2 - Name: Random Shopping Mall\n",
            "\tIn category ['Shop']:\n",
            "\t\tItem Id: 14 - Name: Fake Brands Boutique\n",
            "\tIn category ['Beach']:\n",
            "\t\tItem Id: 21 - Name: Secret Beach\n",
            "\t\tItem Id: 22 - Name: Fake Beach\n",
            "\tIn category ['Themeprk']:\n",
            "\t\tItem Id: 3 - Name: Bogus Waterpark\n",
            "\n",
            "\n",
            "Top 5 items for user 22619:\n",
            "\tIn category ['Nightlf']:\n",
            "\t\tItem Id: 1 - Name: Fiction Nightclub\n",
            "\t\tItem Id: 19 - Name: Fake Klub\n",
            "\tIn category ['Nature', 'Relax']:\n",
            "\t\tItem Id: 4 - Name: Unknown Nature Route\n",
            "\tIn category ['Sports', 'Events']:\n",
            "\t\tItem Id: 5 - Name: Some Sport Event\n",
            "\t\tItem Id: 9 - Name: Another Sport Event\n",
            "\n",
            "\n",
            "Top 5 items for user 73150:\n",
            "\tIn category ['Sports']:\n",
            "\t\tItem Id: 18 - Name: Nonexisting Zipline\n",
            "\t\tItem Id: 20 - Name: Random Golf Lessons\n",
            "\tIn category ['Gastro']:\n",
            "\t\tItem Id: 0 - Name: Restaurant Fake\n",
            "\t\tItem Id: 15 - Name: Best Imaginary Restaurant\n",
            "\tIn category ['Culture']:\n",
            "\t\tItem Id: 11 - Name: Museum of Fake History\n",
            "\t\tItem Id: 17 - Name: Random Cultural Tour\n",
            "\tIn category ['Nightlf']:\n",
            "\t\tItem Id: 1 - Name: Fiction Nightclub\n",
            "\t\tItem Id: 19 - Name: Fake Klub\n",
            "\tIn category ['Shop']:\n",
            "\t\tItem Id: 14 - Name: Fake Brands Boutique\n",
            "\n",
            "\n",
            "Top 5 items for user 90550:\n",
            "\tIn category ['Relax']:\n",
            "\t\tItem Id: 16 - Name: Bogus Spa\n",
            "\tIn category ['Sports']:\n",
            "\t\tItem Id: 18 - Name: Nonexisting Zipline\n",
            "\t\tItem Id: 20 - Name: Random Golf Lessons\n",
            "\tIn category ['Nature', 'Relax']:\n",
            "\t\tItem Id: 4 - Name: Unknown Nature Route\n",
            "\tIn category ['Gastro']:\n",
            "\t\tItem Id: 0 - Name: Restaurant Fake\n",
            "\t\tItem Id: 15 - Name: Best Imaginary Restaurant\n",
            "\n",
            "\n",
            "Top 5 items for user 9589:\n",
            "\tIn category ['Shop', 'Relax']:\n",
            "\t\tItem Id: 2 - Name: Random Shopping Mall\n",
            "\tIn category ['Sports', 'Nature']:\n",
            "\t\tItem Id: 12 - Name: Fake BTT Route\n",
            "\t\tItem Id: 13 - Name: Random Surfing Lessons\n",
            "\tIn category ['Nightlf']:\n",
            "\t\tItem Id: 1 - Name: Fiction Nightclub\n",
            "\t\tItem Id: 19 - Name: Fake Klub\n",
            "\tIn category ['Events', 'Culture']:\n",
            "\t\tItem Id: 6 - Name: Never Happened Festival\n",
            "\t\tItem Id: 10 - Name: Surprise Concert\n",
            "\n",
            "\n"
          ]
        }
      ]
    },
    {
      "cell_type": "markdown",
      "source": [
        "# Hybrid Model"
      ],
      "metadata": {
        "id": "qJ4Zxe8_GtcT"
      }
    },
    {
      "cell_type": "code",
      "source": [
        "# create data for hybrid model\n",
        "data = Dataset.load_from_df(train_set[['userId', 'itemId', 'rating']], reader)\n",
        "# Build a full training set from the Dataset object.\n",
        "trainset_surprise = data.build_full_trainset()\n",
        "\n",
        "# Train the SVD model\n",
        "model_surprise = SVD(random_state=42)\n",
        "# fit svd model on training set\n",
        "model_surprise.fit(trainset_surprise)\n",
        "\n",
        "# list of tuples represent test data\n",
        "testset_surprise = [(row['userId'], row['itemId'], row['rating']) for _, row in test_set.iterrows()]\n",
        "# Predict the ratings on the testing set using the SVD model\n",
        "predictions = model_surprise.test(testset_surprise)\n",
        "# list of estimated ratings from the predictions generated by the SVD model\n",
        "y_pred_svd = np.array([pred.est for pred in predictions])\n",
        "# select independent features from train set\n",
        "X_train = train_set[['userId', 'itemId']]\n",
        "# select target feature from train set\n",
        "y_train = train_set['rating']\n",
        "# select independent features from test set\n",
        "X_test = test_set[['userId', 'itemId']]\n",
        "# select dependent feature from test set\n",
        "y_test = test_set['rating']\n",
        "# SVD model predict the ratings for all user-item pairs \n",
        "predicted_ratings = model_surprise.test(data.build_full_trainset().build_testset())\n",
        "# add SVD model predictions in train data\n",
        "X_train['predicted_rating'] = np.array([pred.est for pred in predicted_ratings])\n",
        "# add SVD model predictions in test data\n",
        "X_test['predicted_rating'] = y_pred_svd\n",
        "\n",
        "# Train the SVM model using the predicted ratings from the SVD model as features\n",
        "model_svm = SVC(random_state=42)\n",
        "model_svm.fit(X_train[:10000], y_train[:10000])\n",
        "# Test the model on the testing set and calculate accuracy and precision\n",
        "y_pred = model_svm.predict(X_test)\n",
        "\n",
        "# Evaluate the performance of the model using classification metrics\n",
        "# Accuracy\n",
        "accuracy = accuracy_score(y_test, y_pred)*100\n",
        "\n",
        "# Precision\n",
        "precision = precision_score(y_test, y_pred, average='macro')\n",
        "\n",
        "# Recall\n",
        "recall = recall_score(y_test, y_pred, average='macro')\n",
        "\n",
        "# F1 score micro\n",
        "f1_micro = f1_score(y_test, y_pred, average='micro')\n",
        "# F1 score macro\n",
        "f1_macro = f1_score(y_test, y_pred, average='macro')\n",
        "\n",
        "# Print the classification metrics\n",
        "print(f\"Hybrid Model Accuracy: {accuracy}\")\n",
        "print(f\"Hybrid Model Precision: {precision}\")\n",
        "print(f\"Hybrid Model Recall: {recall}\")\n",
        "print(f\"Hybrid Model F1 score: {f1_micro}\") \n",
        "print(f\"Hybrid Model F1 score: {f1_macro}\") "
      ],
      "metadata": {
        "id": "5OOV-cZyGKpz",
        "colab": {
          "base_uri": "https://localhost:8080/"
        },
        "outputId": "d628ba6a-d19b-4c62-d635-f1123f2529ff"
      },
      "execution_count": 13,
      "outputs": [
        {
          "output_type": "stream",
          "name": "stderr",
          "text": [
            "<ipython-input-13-2e4cdb8aafd0>:28: SettingWithCopyWarning: \n",
            "A value is trying to be set on a copy of a slice from a DataFrame.\n",
            "Try using .loc[row_indexer,col_indexer] = value instead\n",
            "\n",
            "See the caveats in the documentation: https://pandas.pydata.org/pandas-docs/stable/user_guide/indexing.html#returning-a-view-versus-a-copy\n",
            "  X_train['predicted_rating'] = np.array([pred.est for pred in predicted_ratings])\n",
            "<ipython-input-13-2e4cdb8aafd0>:30: SettingWithCopyWarning: \n",
            "A value is trying to be set on a copy of a slice from a DataFrame.\n",
            "Try using .loc[row_indexer,col_indexer] = value instead\n",
            "\n",
            "See the caveats in the documentation: https://pandas.pydata.org/pandas-docs/stable/user_guide/indexing.html#returning-a-view-versus-a-copy\n",
            "  X_test['predicted_rating'] = y_pred_svd\n"
          ]
        },
        {
          "output_type": "stream",
          "name": "stdout",
          "text": [
            "Hybrid Model Accuracy: 35.97011900280858\n",
            "Hybrid Model Precision: 0.07194023800561716\n",
            "Hybrid Model Recall: 0.2\n",
            "Hybrid Model F1 score: 0.3597011900280858\n",
            "Hybrid Model F1 score: 0.1058177172061329\n"
          ]
        },
        {
          "output_type": "stream",
          "name": "stderr",
          "text": [
            "/usr/local/lib/python3.10/dist-packages/sklearn/metrics/_classification.py:1344: UndefinedMetricWarning: Precision is ill-defined and being set to 0.0 in labels with no predicted samples. Use `zero_division` parameter to control this behavior.\n",
            "  _warn_prf(average, modifier, msg_start, len(result))\n"
          ]
        }
      ]
    },
    {
      "cell_type": "markdown",
      "source": [
        "# SVM "
      ],
      "metadata": {
        "id": "UdThETISE4fN"
      }
    },
    {
      "cell_type": "code",
      "source": [
        "# Split the dataset into training and testing sets\n",
        "X_train, X_test, y_train, y_test = train_test_split(df3[['userId', 'itemId']], df3['rating'], test_size=0.2, random_state=42)\n",
        "\n",
        "# Train the SVM model\n",
        "svm = SVC(random_state=42)\n",
        "# fit model on train X and y\n",
        "svm.fit(X_train[:10000], y_train[:10000])\n",
        "\n",
        "# Test the model on the testing set\n",
        "y_pred = svm.predict(X_test)\n",
        "\n",
        "# Evaluate the performance of the model using classification metrics\n",
        "# Accuracy\n",
        "accuracy = accuracy_score(y_test, y_pred)*100\n",
        "\n",
        "# Precision\n",
        "precision = precision_score(y_test, y_pred, average='macro')\n",
        "\n",
        "# Recall\n",
        "recall = recall_score(y_test, y_pred, average='macro')\n",
        "\n",
        "# F1 score micro\n",
        "f1_micro = f1_score(y_test, y_pred, average='micro')\n",
        "\n",
        "# F1 score macro\n",
        "f1_macro = f1_score(y_test, y_pred, average='macro')\n",
        "\n",
        "# Print the classification metrics\n",
        "print(f\"SVM Accuracy: {accuracy}\")\n",
        "print(f\"SVM Precision: {precision}\")\n",
        "print(f\"SVM Recall: {recall}\")\n",
        "print(f\"SVM Mico F1 score: {f1_micro}\")\n",
        "print(f\"SVM Maco F1 score: {f1_macro}\")"
      ],
      "metadata": {
        "id": "nOGA3h6ADlaY",
        "colab": {
          "base_uri": "https://localhost:8080/"
        },
        "outputId": "a93423ca-87b5-4477-a350-eccd40602885"
      },
      "execution_count": 14,
      "outputs": [
        {
          "output_type": "stream",
          "name": "stdout",
          "text": [
            "SVM Accuracy: 35.97011900280858\n",
            "SVM Precision: 0.07194023800561716\n",
            "SVM Recall: 0.2\n",
            "SVM Mico F1 score: 0.3597011900280858\n",
            "SVM Maco F1 score: 0.1058177172061329\n"
          ]
        },
        {
          "output_type": "stream",
          "name": "stderr",
          "text": [
            "/usr/local/lib/python3.10/dist-packages/sklearn/metrics/_classification.py:1344: UndefinedMetricWarning: Precision is ill-defined and being set to 0.0 in labels with no predicted samples. Use `zero_division` parameter to control this behavior.\n",
            "  _warn_prf(average, modifier, msg_start, len(result))\n"
          ]
        }
      ]
    },
    {
      "cell_type": "markdown",
      "source": [
        "# K-Means"
      ],
      "metadata": {
        "id": "qZVDnSZw3X7b"
      }
    },
    {
      "cell_type": "code",
      "source": [
        "from sklearn.cluster import KMeans\n",
        "\n",
        "# apply K-means clustering\n",
        "kmeans = KMeans(n_clusters=5, random_state=42)\n",
        "kmeans.fit(X_train)\n",
        "\n",
        "# get the predicted cluster labels\n",
        "y_pred = kmeans.predict(X_test)\n",
        "\n",
        "# Evaluate the performance of the model using classification metrics\n",
        "# Accuracy\n",
        "accuracy = accuracy_score(y_test, y_pred)*100\n",
        "\n",
        "# Precision\n",
        "precision = precision_score(y_test, y_pred, average='macro')\n",
        "\n",
        "# Recall\n",
        "recall = recall_score(y_test, y_pred, average='macro')\n",
        "\n",
        "# F1 score micro\n",
        "f1_micro = f1_score(y_test, y_pred, average='micro')\n",
        "# F1 score macro\n",
        "f1_macro = f1_score(y_test, y_pred, average='macro')\n",
        "\n",
        "# Print the classification metrics\n",
        "print(f\"K-Means Accuracy: {accuracy}\")\n",
        "print(f\"K-Means Precision: {precision}\")\n",
        "print(f\"K-Means Recall: {recall}\")\n",
        "print(f\"K-Means F1 score: {f1_micro}\") \n",
        "print(f\"K-Means F1 score: {f1_macro}\") "
      ],
      "metadata": {
        "id": "TIIgFhoPG3vG",
        "colab": {
          "base_uri": "https://localhost:8080/"
        },
        "outputId": "d94c8d80-d54f-4c97-c7b0-4a814edbeb2f"
      },
      "execution_count": 15,
      "outputs": [
        {
          "output_type": "stream",
          "name": "stderr",
          "text": [
            "/usr/local/lib/python3.10/dist-packages/sklearn/cluster/_kmeans.py:870: FutureWarning: The default value of `n_init` will change from 10 to 'auto' in 1.4. Set the value of `n_init` explicitly to suppress the warning\n",
            "  warnings.warn(\n"
          ]
        },
        {
          "output_type": "stream",
          "name": "stdout",
          "text": [
            "K-Means Accuracy: 18.995569968439643\n",
            "K-Means Precision: 0.1590090627528293\n",
            "K-Means Recall: 0.13422931313202568\n",
            "K-Means F1 score: 0.18995569968439643\n",
            "K-Means F1 score: 0.14002856066195005\n"
          ]
        },
        {
          "output_type": "stream",
          "name": "stderr",
          "text": [
            "/usr/local/lib/python3.10/dist-packages/sklearn/metrics/_classification.py:1344: UndefinedMetricWarning: Precision is ill-defined and being set to 0.0 in labels with no predicted samples. Use `zero_division` parameter to control this behavior.\n",
            "  _warn_prf(average, modifier, msg_start, len(result))\n",
            "/usr/local/lib/python3.10/dist-packages/sklearn/metrics/_classification.py:1344: UndefinedMetricWarning: Recall is ill-defined and being set to 0.0 in labels with no true samples. Use `zero_division` parameter to control this behavior.\n",
            "  _warn_prf(average, modifier, msg_start, len(result))\n"
          ]
        }
      ]
    },
    {
      "cell_type": "markdown",
      "source": [
        "## XGBoost"
      ],
      "metadata": {
        "id": "uxXdhTQ-WVVL"
      }
    },
    {
      "cell_type": "code",
      "source": [
        "from xgboost import XGBClassifier\n",
        "\n",
        "# Train the XGB model\n",
        "xgb = XGBClassifier()\n",
        "# fit model on train X and y\n",
        "xgb.fit(X_train, y_train-1)\n",
        "\n",
        "# Test the model on the testing set\n",
        "y_pred = xgb.predict(X_test)\n",
        "\n",
        "# Evaluate the performance of the model using classification metrics\n",
        "# Accuracy\n",
        "accuracy = accuracy_score(y_test-1, y_pred)*100\n",
        "\n",
        "# Precision\n",
        "precision = precision_score(y_test-1, y_pred, average='macro')\n",
        "\n",
        "# Recall\n",
        "recall = recall_score(y_test-1, y_pred, average='macro')\n",
        "\n",
        "# F1 score micro\n",
        "f1_micro = f1_score(y_test-1, y_pred, average='micro')\n",
        "\n",
        "# F1 score macro\n",
        "f1_macro = f1_score(y_test-1, y_pred, average='macro')\n",
        "\n",
        "# Print the classification metrics\n",
        "print(f\"XGBoost Accuracy: {accuracy}\")\n",
        "print(f\"XGBoost Precision: {precision}\")\n",
        "print(f\"XGBoost Recall: {recall}\")\n",
        "print(f\"XGBoost Mico F1 score: {f1_micro}\")\n",
        "print(f\"XGBoost Maco F1 score: {f1_macro}\")"
      ],
      "metadata": {
        "id": "tCRhAA6K3_KA",
        "colab": {
          "base_uri": "https://localhost:8080/"
        },
        "outputId": "c7da1187-96cf-4dca-b9bc-767373af5e1e"
      },
      "execution_count": 16,
      "outputs": [
        {
          "output_type": "stream",
          "name": "stdout",
          "text": [
            "XGBoost Accuracy: 46.01297159568\n",
            "XGBoost Precision: 0.42635418730701724\n",
            "XGBoost Recall: 0.33171211536220346\n",
            "XGBoost Mico F1 score: 0.46012971595679997\n",
            "XGBoost Maco F1 score: 0.32745825768569214\n"
          ]
        }
      ]
    },
    {
      "cell_type": "code",
      "source": [],
      "metadata": {
        "id": "sD_h2NWixEjq"
      },
      "execution_count": 16,
      "outputs": []
    }
  ]
}