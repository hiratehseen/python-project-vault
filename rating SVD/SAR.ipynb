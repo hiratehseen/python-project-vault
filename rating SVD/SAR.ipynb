{
 "cells": [
  {
   "attachments": {},
   "cell_type": "markdown",
   "metadata": {},
   "source": [
    "### Load Libraries"
   ]
  },
  {
   "cell_type": "code",
   "execution_count": 1,
   "metadata": {},
   "outputs": [
    {
     "name": "stdout",
     "output_type": "stream",
     "text": [
      "System version: 3.8.16 (default, Mar  2 2023, 03:18:16) [MSC v.1916 64 bit (AMD64)]\n",
      "Pandas version: 1.5.3\n"
     ]
    }
   ],
   "source": [
    "# set the environment path to find Recommenders\n",
    "import sys\n",
    "import itertools\n",
    "import logging\n",
    "import os\n",
    "import pandas as pd\n",
    "\n",
    "from recommenders.datasets.python_splitters import python_stratified_split\n",
    "from recommenders.evaluation.python_evaluation import map_at_k, ndcg_at_k, precision_at_k, recall_at_k\n",
    "from recommenders.models.sar import SAR\n",
    "\n",
    "print(\"System version: {}\".format(sys.version))\n",
    "print(\"Pandas version: {}\".format(pd.__version__))"
   ]
  },
  {
   "attachments": {},
   "cell_type": "markdown",
   "metadata": {},
   "source": [
    "### Load Dataset"
   ]
  },
  {
   "cell_type": "code",
   "execution_count": 2,
   "metadata": {},
   "outputs": [
    {
     "data": {
      "text/html": [
       "<div>\n",
       "<style scoped>\n",
       "    .dataframe tbody tr th:only-of-type {\n",
       "        vertical-align: middle;\n",
       "    }\n",
       "\n",
       "    .dataframe tbody tr th {\n",
       "        vertical-align: top;\n",
       "    }\n",
       "\n",
       "    .dataframe thead th {\n",
       "        text-align: right;\n",
       "    }\n",
       "</style>\n",
       "<table border=\"1\" class=\"dataframe\">\n",
       "  <thead>\n",
       "    <tr style=\"text-align: right;\">\n",
       "      <th></th>\n",
       "      <th>userId</th>\n",
       "      <th>itemId</th>\n",
       "      <th>rating</th>\n",
       "      <th>ItemName</th>\n",
       "      <th>Category</th>\n",
       "      <th>Quality</th>\n",
       "    </tr>\n",
       "  </thead>\n",
       "  <tbody>\n",
       "    <tr>\n",
       "      <th>0</th>\n",
       "      <td>13</td>\n",
       "      <td>0</td>\n",
       "      <td>1.533462</td>\n",
       "      <td>Restaurant Fake</td>\n",
       "      <td>5</td>\n",
       "      <td>1.647351</td>\n",
       "    </tr>\n",
       "    <tr>\n",
       "      <th>1</th>\n",
       "      <td>15</td>\n",
       "      <td>0</td>\n",
       "      <td>1.283205</td>\n",
       "      <td>Restaurant Fake</td>\n",
       "      <td>5</td>\n",
       "      <td>1.647351</td>\n",
       "    </tr>\n",
       "    <tr>\n",
       "      <th>2</th>\n",
       "      <td>17</td>\n",
       "      <td>0</td>\n",
       "      <td>1.506836</td>\n",
       "      <td>Restaurant Fake</td>\n",
       "      <td>5</td>\n",
       "      <td>1.647351</td>\n",
       "    </tr>\n",
       "    <tr>\n",
       "      <th>3</th>\n",
       "      <td>19</td>\n",
       "      <td>0</td>\n",
       "      <td>1.260289</td>\n",
       "      <td>Restaurant Fake</td>\n",
       "      <td>5</td>\n",
       "      <td>1.647351</td>\n",
       "    </tr>\n",
       "    <tr>\n",
       "      <th>4</th>\n",
       "      <td>23</td>\n",
       "      <td>0</td>\n",
       "      <td>3.203168</td>\n",
       "      <td>Restaurant Fake</td>\n",
       "      <td>5</td>\n",
       "      <td>1.647351</td>\n",
       "    </tr>\n",
       "  </tbody>\n",
       "</table>\n",
       "</div>"
      ],
      "text/plain": [
       "   userId  itemId    rating         ItemName  Category   Quality\n",
       "0      13       0  1.533462  Restaurant Fake         5  1.647351\n",
       "1      15       0  1.283205  Restaurant Fake         5  1.647351\n",
       "2      17       0  1.506836  Restaurant Fake         5  1.647351\n",
       "3      19       0  1.260289  Restaurant Fake         5  1.647351\n",
       "4      23       0  3.203168  Restaurant Fake         5  1.647351"
      ]
     },
     "execution_count": 2,
     "metadata": {},
     "output_type": "execute_result"
    }
   ],
   "source": [
    "# Load the dataset from csv file\n",
    "df1 = pd.read_csv('rats.csv')\n",
    "df2 = pd.read_csv('icat.csv')\n",
    "merged_df = pd.merge(df1, df2, on='itemId')\n",
    "\n",
    "# create new dataframe\n",
    "df3 = pd.DataFrame(merged_df)\n",
    "df3['Category'] = df3['Category'].astype('category').cat.codes\n",
    "df3.head()"
   ]
  },
  {
   "cell_type": "code",
   "execution_count": 6,
   "metadata": {},
   "outputs": [],
   "source": [
    "# Model parameters\n",
    "TOP_K = 10\n",
    "header = {\n",
    "    \"col_user\": \"userId\",\n",
    "    \"col_item\": \"itemId\",\n",
    "    \"col_rating\": \"rating\",\n",
    "    \"col_timestamp\": \"Category\",\n",
    "    \"col_prediction\": \"Prediction\",\n",
    "}"
   ]
  },
  {
   "attachments": {},
   "cell_type": "markdown",
   "metadata": {},
   "source": [
    "### Split Data"
   ]
  },
  {
   "cell_type": "code",
   "execution_count": 4,
   "metadata": {},
   "outputs": [],
   "source": [
    "train, test = python_stratified_split(df3, ratio=0.75, col_user=header[\"col_user\"], col_item=header[\"col_item\"], seed=42)"
   ]
  },
  {
   "attachments": {},
   "cell_type": "markdown",
   "metadata": {},
   "source": [
    "# SAR Model"
   ]
  },
  {
   "cell_type": "code",
   "execution_count": 7,
   "metadata": {},
   "outputs": [],
   "source": [
    "# set log level to INFO\n",
    "logging.basicConfig(level=logging.DEBUG, \n",
    "                    format='%(asctime)s %(levelname)-8s %(message)s')\n",
    "\n",
    "model = SAR(\n",
    "    similarity_type=\"jaccard\", \n",
    "    time_decay_coefficient=30, \n",
    "    time_now=None, \n",
    "    timedecay_formula=True, \n",
    "    **header\n",
    ")"
   ]
  },
  {
   "attachments": {},
   "cell_type": "markdown",
   "metadata": {},
   "source": [
    "### Model Training"
   ]
  },
  {
   "cell_type": "code",
   "execution_count": 8,
   "metadata": {},
   "outputs": [
    {
     "name": "stderr",
     "output_type": "stream",
     "text": [
      "2023-05-14 02:42:26,654 INFO     Collecting user affinity matrix\n",
      "2023-05-14 02:42:26,669 INFO     Calculating time-decayed affinities\n",
      "2023-05-14 02:42:27,163 INFO     Creating index columns\n",
      "2023-05-14 02:42:28,332 INFO     Building user affinity sparse matrix\n",
      "2023-05-14 02:42:28,362 INFO     Calculating item co-occurrence\n",
      "2023-05-14 02:42:28,450 INFO     Calculating item similarity\n",
      "2023-05-14 02:42:28,452 INFO     Using jaccard based similarity\n",
      "2023-05-14 02:42:28,456 INFO     Done training\n"
     ]
    }
   ],
   "source": [
    "model.fit(train)"
   ]
  },
  {
   "cell_type": "code",
   "execution_count": 9,
   "metadata": {},
   "outputs": [
    {
     "name": "stderr",
     "output_type": "stream",
     "text": [
      "2023-05-14 02:42:29,374 INFO     Calculating recommendation scores\n",
      "2023-05-14 02:42:29,434 INFO     Removing seen items\n"
     ]
    }
   ],
   "source": [
    "# top k items to recommend\n",
    "top_k = model.recommend_k_items(test, top_k=TOP_K, remove_seen=True)"
   ]
  },
  {
   "attachments": {},
   "cell_type": "markdown",
   "metadata": {},
   "source": [
    "## Top 10 Item Id and Name"
   ]
  },
  {
   "cell_type": "code",
   "execution_count": 10,
   "metadata": {},
   "outputs": [
    {
     "data": {
      "text/html": [
       "<div>\n",
       "<style scoped>\n",
       "    .dataframe tbody tr th:only-of-type {\n",
       "        vertical-align: middle;\n",
       "    }\n",
       "\n",
       "    .dataframe tbody tr th {\n",
       "        vertical-align: top;\n",
       "    }\n",
       "\n",
       "    .dataframe thead th {\n",
       "        text-align: right;\n",
       "    }\n",
       "</style>\n",
       "<table border=\"1\" class=\"dataframe\">\n",
       "  <thead>\n",
       "    <tr style=\"text-align: right;\">\n",
       "      <th></th>\n",
       "      <th>userId</th>\n",
       "      <th>itemId</th>\n",
       "      <th>Prediction</th>\n",
       "      <th>ItemName</th>\n",
       "    </tr>\n",
       "  </thead>\n",
       "  <tbody>\n",
       "    <tr>\n",
       "      <th>693070</th>\n",
       "      <td>99999</td>\n",
       "      <td>2</td>\n",
       "      <td>0.621051</td>\n",
       "      <td>Random Shopping Mall</td>\n",
       "    </tr>\n",
       "    <tr>\n",
       "      <th>693071</th>\n",
       "      <td>99999</td>\n",
       "      <td>1</td>\n",
       "      <td>0.619378</td>\n",
       "      <td>Fiction Nightclub</td>\n",
       "    </tr>\n",
       "    <tr>\n",
       "      <th>693072</th>\n",
       "      <td>99999</td>\n",
       "      <td>0</td>\n",
       "      <td>0.611970</td>\n",
       "      <td>Restaurant Fake</td>\n",
       "    </tr>\n",
       "    <tr>\n",
       "      <th>693073</th>\n",
       "      <td>99999</td>\n",
       "      <td>3</td>\n",
       "      <td>0.604664</td>\n",
       "      <td>Bogus Waterpark</td>\n",
       "    </tr>\n",
       "    <tr>\n",
       "      <th>693074</th>\n",
       "      <td>99999</td>\n",
       "      <td>4</td>\n",
       "      <td>0.599879</td>\n",
       "      <td>Unknown Nature Route</td>\n",
       "    </tr>\n",
       "    <tr>\n",
       "      <th>693075</th>\n",
       "      <td>99999</td>\n",
       "      <td>6</td>\n",
       "      <td>0.589236</td>\n",
       "      <td>Never Happened Festival</td>\n",
       "    </tr>\n",
       "    <tr>\n",
       "      <th>693076</th>\n",
       "      <td>99999</td>\n",
       "      <td>7</td>\n",
       "      <td>0.580514</td>\n",
       "      <td>False Tavern</td>\n",
       "    </tr>\n",
       "    <tr>\n",
       "      <th>693077</th>\n",
       "      <td>99999</td>\n",
       "      <td>8</td>\n",
       "      <td>0.552795</td>\n",
       "      <td>MakeBelieve Pub</td>\n",
       "    </tr>\n",
       "    <tr>\n",
       "      <th>693078</th>\n",
       "      <td>99999</td>\n",
       "      <td>9</td>\n",
       "      <td>0.551365</td>\n",
       "      <td>Another Sport Event</td>\n",
       "    </tr>\n",
       "    <tr>\n",
       "      <th>693079</th>\n",
       "      <td>99999</td>\n",
       "      <td>10</td>\n",
       "      <td>0.513836</td>\n",
       "      <td>Surprise Concert</td>\n",
       "    </tr>\n",
       "  </tbody>\n",
       "</table>\n",
       "</div>"
      ],
      "text/plain": [
       "        userId  itemId  Prediction                 ItemName\n",
       "693070   99999       2    0.621051     Random Shopping Mall\n",
       "693071   99999       1    0.619378        Fiction Nightclub\n",
       "693072   99999       0    0.611970          Restaurant Fake\n",
       "693073   99999       3    0.604664          Bogus Waterpark\n",
       "693074   99999       4    0.599879     Unknown Nature Route\n",
       "693075   99999       6    0.589236  Never Happened Festival\n",
       "693076   99999       7    0.580514             False Tavern\n",
       "693077   99999       8    0.552795          MakeBelieve Pub\n",
       "693078   99999       9    0.551365      Another Sport Event\n",
       "693079   99999      10    0.513836         Surprise Concert"
      ]
     },
     "metadata": {},
     "output_type": "display_data"
    }
   ],
   "source": [
    "top_k_with_titles = (top_k.join(df3[['itemId', 'ItemName']].drop_duplicates().set_index('itemId'), \n",
    "                                on='itemId', \n",
    "                                how='inner').sort_values(by=['userId', 'Prediction'], ascending=False))\n",
    "display(top_k_with_titles.head(10))"
   ]
  },
  {
   "cell_type": "code",
   "execution_count": 11,
   "metadata": {},
   "outputs": [],
   "source": [
    "# all ranking metrics have the same arguments\n",
    "args = [test, top_k]\n",
    "kwargs = dict(col_user='userId', \n",
    "              col_item='itemId', \n",
    "              col_rating='rating', \n",
    "              col_prediction='Prediction', \n",
    "              relevancy_method='top_k', \n",
    "              k=TOP_K)\n",
    "\n",
    "eval_map = map_at_k(*args, **kwargs)\n",
    "eval_ndcg = ndcg_at_k(*args, **kwargs)\n",
    "eval_precision = precision_at_k(*args, **kwargs)\n",
    "eval_recall = recall_at_k(*args, **kwargs)"
   ]
  },
  {
   "attachments": {},
   "cell_type": "markdown",
   "metadata": {},
   "source": [
    "### Results"
   ]
  },
  {
   "cell_type": "code",
   "execution_count": 13,
   "metadata": {},
   "outputs": [
    {
     "name": "stdout",
     "output_type": "stream",
     "text": [
      "Model: SAR\n",
      "Top K:\t\t 10\n",
      "MAP:\t\t 0.054901\n",
      "NDCG:\t\t 0.094697\n",
      "Precision@K:\t 0.026674\n",
      "Recall@K:\t 0.219833\n"
     ]
    }
   ],
   "source": [
    "print(f\"Model: SAR\",\n",
    "      f\"Top K:\\t\\t {TOP_K}\",\n",
    "      f\"MAP:\\t\\t {eval_map:f}\",\n",
    "      f\"NDCG:\\t\\t {eval_ndcg:f}\",\n",
    "      f\"Precision@K:\\t {eval_precision:f}\",\n",
    "      f\"Recall@K:\\t {eval_recall:f}\", sep='\\n')"
   ]
  },
  {
   "cell_type": "code",
   "execution_count": null,
   "metadata": {},
   "outputs": [],
   "source": []
  }
 ],
 "metadata": {
  "kernelspec": {
   "display_name": "recomendENV",
   "language": "python",
   "name": "python3"
  },
  "language_info": {
   "codemirror_mode": {
    "name": "ipython",
    "version": 3
   },
   "file_extension": ".py",
   "mimetype": "text/x-python",
   "name": "python",
   "nbconvert_exporter": "python",
   "pygments_lexer": "ipython3",
   "version": "3.8.16"
  },
  "orig_nbformat": 4
 },
 "nbformat": 4,
 "nbformat_minor": 2
}
