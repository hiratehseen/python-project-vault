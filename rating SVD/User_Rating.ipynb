{
  "cells": [
    {
      "cell_type": "markdown",
      "metadata": {
        "id": "3ra1SN2CFejw"
      },
      "source": [
        "## Data Preprocessing\n",
        "Import Libraries"
      ]
    },
    {
      "cell_type": "code",
      "execution_count": 1,
      "metadata": {
        "id": "GkUHm6R9_HKw"
      },
      "outputs": [],
      "source": [
        "# import libraries\n",
        "import pandas as pd\n",
        "import numpy as np\n",
        "import seaborn as sns\n",
        "import matplotlib.pyplot as plt\n",
        "from sklearn.metrics import accuracy_score, precision_score, recall_score, f1_score"
      ]
    },
    {
      "cell_type": "markdown",
      "metadata": {
        "id": "rLJc5RGSF7BN"
      },
      "source": [
        "Load Dataset"
      ]
    },
    {
      "cell_type": "code",
      "execution_count": 2,
      "metadata": {
        "colab": {
          "base_uri": "https://localhost:8080/",
          "height": 354
        },
        "id": "K_bmYo2M_iwb",
        "outputId": "ee1b55fa-fdde-4603-db5c-922f0dcdf0d1"
      },
      "outputs": [
        {
          "data": {
            "text/html": [
              "<div>\n",
              "<style scoped>\n",
              "    .dataframe tbody tr th:only-of-type {\n",
              "        vertical-align: middle;\n",
              "    }\n",
              "\n",
              "    .dataframe tbody tr th {\n",
              "        vertical-align: top;\n",
              "    }\n",
              "\n",
              "    .dataframe thead th {\n",
              "        text-align: right;\n",
              "    }\n",
              "</style>\n",
              "<table border=\"1\" class=\"dataframe\">\n",
              "  <thead>\n",
              "    <tr style=\"text-align: right;\">\n",
              "      <th></th>\n",
              "      <th>userId</th>\n",
              "      <th>itemId</th>\n",
              "      <th>rating</th>\n",
              "      <th>Age</th>\n",
              "      <th>AcDeg</th>\n",
              "      <th>Budget</th>\n",
              "      <th>Accom</th>\n",
              "      <th>Gender</th>\n",
              "      <th>Job</th>\n",
              "      <th>Region</th>\n",
              "      <th>GroupComp</th>\n",
              "      <th>Email Address</th>\n",
              "      <th>FirstName LastName</th>\n",
              "      <th>ItemName</th>\n",
              "      <th>Category</th>\n",
              "      <th>Quality</th>\n",
              "    </tr>\n",
              "  </thead>\n",
              "  <tbody>\n",
              "    <tr>\n",
              "      <th>0</th>\n",
              "      <td>13</td>\n",
              "      <td>0</td>\n",
              "      <td>1.533462</td>\n",
              "      <td>4</td>\n",
              "      <td>3</td>\n",
              "      <td>2</td>\n",
              "      <td>2</td>\n",
              "      <td>Female</td>\n",
              "      <td>blue collar</td>\n",
              "      <td>North Europe</td>\n",
              "      <td>1Adlt</td>\n",
              "      <td>Eryn_Calderwood9648@gompie.com</td>\n",
              "      <td>Eryn Calderwood</td>\n",
              "      <td>Restaurant Fake</td>\n",
              "      <td>['Gastro']</td>\n",
              "      <td>1.647351</td>\n",
              "    </tr>\n",
              "    <tr>\n",
              "      <th>1</th>\n",
              "      <td>15</td>\n",
              "      <td>0</td>\n",
              "      <td>1.283205</td>\n",
              "      <td>4</td>\n",
              "      <td>4</td>\n",
              "      <td>2</td>\n",
              "      <td>2</td>\n",
              "      <td>Male</td>\n",
              "      <td>blue collar</td>\n",
              "      <td>South Europe</td>\n",
              "      <td>2Adlt</td>\n",
              "      <td>Alex_Hall6434@twace.org</td>\n",
              "      <td>Alex Hall</td>\n",
              "      <td>Restaurant Fake</td>\n",
              "      <td>['Gastro']</td>\n",
              "      <td>1.647351</td>\n",
              "    </tr>\n",
              "    <tr>\n",
              "      <th>2</th>\n",
              "      <td>17</td>\n",
              "      <td>0</td>\n",
              "      <td>1.506836</td>\n",
              "      <td>4</td>\n",
              "      <td>4</td>\n",
              "      <td>2</td>\n",
              "      <td>2</td>\n",
              "      <td>Female</td>\n",
              "      <td>blue collar</td>\n",
              "      <td>East Europe</td>\n",
              "      <td>1Adlt</td>\n",
              "      <td>Jacqueline_Vaughn7868@cispeto.com</td>\n",
              "      <td>Jacqueline Vaughn</td>\n",
              "      <td>Restaurant Fake</td>\n",
              "      <td>['Gastro']</td>\n",
              "      <td>1.647351</td>\n",
              "    </tr>\n",
              "    <tr>\n",
              "      <th>3</th>\n",
              "      <td>19</td>\n",
              "      <td>0</td>\n",
              "      <td>1.260289</td>\n",
              "      <td>2</td>\n",
              "      <td>1</td>\n",
              "      <td>1</td>\n",
              "      <td>1</td>\n",
              "      <td>Male</td>\n",
              "      <td>blue collar</td>\n",
              "      <td>Asia</td>\n",
              "      <td>2Adlt</td>\n",
              "      <td>Domenic_Howard3974@twipet.com</td>\n",
              "      <td>Domenic Howard</td>\n",
              "      <td>Restaurant Fake</td>\n",
              "      <td>['Gastro']</td>\n",
              "      <td>1.647351</td>\n",
              "    </tr>\n",
              "    <tr>\n",
              "      <th>4</th>\n",
              "      <td>23</td>\n",
              "      <td>0</td>\n",
              "      <td>3.203168</td>\n",
              "      <td>3</td>\n",
              "      <td>3</td>\n",
              "      <td>1</td>\n",
              "      <td>1</td>\n",
              "      <td>Male</td>\n",
              "      <td>white collar</td>\n",
              "      <td>Africa</td>\n",
              "      <td>1Adlt</td>\n",
              "      <td>Fred_Herbert5917@ubusive.com</td>\n",
              "      <td>Fred Herbert</td>\n",
              "      <td>Restaurant Fake</td>\n",
              "      <td>['Gastro']</td>\n",
              "      <td>1.647351</td>\n",
              "    </tr>\n",
              "  </tbody>\n",
              "</table>\n",
              "</div>"
            ],
            "text/plain": [
              "   userId  itemId    rating  Age  AcDeg  Budget  Accom  Gender           Job  \\\n",
              "0      13       0  1.533462    4      3       2      2  Female   blue collar   \n",
              "1      15       0  1.283205    4      4       2      2    Male   blue collar   \n",
              "2      17       0  1.506836    4      4       2      2  Female   blue collar   \n",
              "3      19       0  1.260289    2      1       1      1    Male   blue collar   \n",
              "4      23       0  3.203168    3      3       1      1    Male  white collar   \n",
              "\n",
              "         Region GroupComp                      Email Address  \\\n",
              "0  North Europe     1Adlt     Eryn_Calderwood9648@gompie.com   \n",
              "1  South Europe     2Adlt            Alex_Hall6434@twace.org   \n",
              "2   East Europe     1Adlt  Jacqueline_Vaughn7868@cispeto.com   \n",
              "3          Asia     2Adlt      Domenic_Howard3974@twipet.com   \n",
              "4        Africa     1Adlt       Fred_Herbert5917@ubusive.com   \n",
              "\n",
              "  FirstName LastName         ItemName    Category   Quality  \n",
              "0    Eryn Calderwood  Restaurant Fake  ['Gastro']  1.647351  \n",
              "1          Alex Hall  Restaurant Fake  ['Gastro']  1.647351  \n",
              "2  Jacqueline Vaughn  Restaurant Fake  ['Gastro']  1.647351  \n",
              "3     Domenic Howard  Restaurant Fake  ['Gastro']  1.647351  \n",
              "4       Fred Herbert  Restaurant Fake  ['Gastro']  1.647351  "
            ]
          },
          "execution_count": 2,
          "metadata": {},
          "output_type": "execute_result"
        }
      ],
      "source": [
        "# read CSV files\n",
        "df1 = pd.read_csv('icat.csv')\n",
        "df2 = pd.read_csv('rats.csv')\n",
        "df3 = pd.read_csv('ufeat.csv')\n",
        "df4 = pd.read_csv('user_info.csv')\n",
        "\n",
        "# merge the dataframes\n",
        "merged_df = pd.merge(df2, df3, on='userId')\n",
        "merged_df = pd.merge(merged_df, df4, on='userId')\n",
        "merged_df = pd.merge(merged_df, df1, on='itemId')\n",
        "\n",
        "# create new dataframe\n",
        "data = pd.DataFrame(merged_df)\n",
        "data.head()"
      ]
    },
    {
      "cell_type": "markdown",
      "metadata": {
        "id": "nurZeYkV73c-"
      },
      "source": [
        "Data Description"
      ]
    },
    {
      "cell_type": "code",
      "execution_count": 3,
      "metadata": {
        "colab": {
          "base_uri": "https://localhost:8080/"
        },
        "id": "3pJ4PuofOxTO",
        "outputId": "32e194c3-956b-40b7-cb42-7aa60a1a127b"
      },
      "outputs": [
        {
          "data": {
            "text/plain": [
              "(345368, 16)"
            ]
          },
          "execution_count": 3,
          "metadata": {},
          "output_type": "execute_result"
        }
      ],
      "source": [
        "data.shape"
      ]
    },
    {
      "cell_type": "code",
      "execution_count": 4,
      "metadata": {
        "colab": {
          "base_uri": "https://localhost:8080/",
          "height": 300
        },
        "id": "5zy_KmIp8ANV",
        "outputId": "dc3eef9b-1b92-4140-8645-dded70ae3586"
      },
      "outputs": [
        {
          "data": {
            "text/html": [
              "<div>\n",
              "<style scoped>\n",
              "    .dataframe tbody tr th:only-of-type {\n",
              "        vertical-align: middle;\n",
              "    }\n",
              "\n",
              "    .dataframe tbody tr th {\n",
              "        vertical-align: top;\n",
              "    }\n",
              "\n",
              "    .dataframe thead th {\n",
              "        text-align: right;\n",
              "    }\n",
              "</style>\n",
              "<table border=\"1\" class=\"dataframe\">\n",
              "  <thead>\n",
              "    <tr style=\"text-align: right;\">\n",
              "      <th></th>\n",
              "      <th>userId</th>\n",
              "      <th>itemId</th>\n",
              "      <th>rating</th>\n",
              "      <th>Age</th>\n",
              "      <th>AcDeg</th>\n",
              "      <th>Budget</th>\n",
              "      <th>Accom</th>\n",
              "      <th>Quality</th>\n",
              "    </tr>\n",
              "  </thead>\n",
              "  <tbody>\n",
              "    <tr>\n",
              "      <th>count</th>\n",
              "      <td>345368.000000</td>\n",
              "      <td>345368.000000</td>\n",
              "      <td>345368.000000</td>\n",
              "      <td>345368.000000</td>\n",
              "      <td>345368.000000</td>\n",
              "      <td>345368.000000</td>\n",
              "      <td>345368.000000</td>\n",
              "      <td>345368.000000</td>\n",
              "    </tr>\n",
              "    <tr>\n",
              "      <th>mean</th>\n",
              "      <td>49984.786677</td>\n",
              "      <td>10.997067</td>\n",
              "      <td>2.496675</td>\n",
              "      <td>3.084206</td>\n",
              "      <td>3.114516</td>\n",
              "      <td>1.809062</td>\n",
              "      <td>2.047677</td>\n",
              "      <td>2.729969</td>\n",
              "    </tr>\n",
              "    <tr>\n",
              "      <th>std</th>\n",
              "      <td>28888.398160</td>\n",
              "      <td>6.636583</td>\n",
              "      <td>0.987163</td>\n",
              "      <td>1.269043</td>\n",
              "      <td>0.751531</td>\n",
              "      <td>0.623599</td>\n",
              "      <td>0.673190</td>\n",
              "      <td>1.319768</td>\n",
              "    </tr>\n",
              "    <tr>\n",
              "      <th>min</th>\n",
              "      <td>0.000000</td>\n",
              "      <td>0.000000</td>\n",
              "      <td>1.134487</td>\n",
              "      <td>1.000000</td>\n",
              "      <td>1.000000</td>\n",
              "      <td>1.000000</td>\n",
              "      <td>1.000000</td>\n",
              "      <td>1.188559</td>\n",
              "    </tr>\n",
              "    <tr>\n",
              "      <th>25%</th>\n",
              "      <td>24978.000000</td>\n",
              "      <td>5.000000</td>\n",
              "      <td>1.644446</td>\n",
              "      <td>2.000000</td>\n",
              "      <td>3.000000</td>\n",
              "      <td>1.000000</td>\n",
              "      <td>2.000000</td>\n",
              "      <td>1.633559</td>\n",
              "    </tr>\n",
              "    <tr>\n",
              "      <th>50%</th>\n",
              "      <td>49968.000000</td>\n",
              "      <td>11.000000</td>\n",
              "      <td>2.362574</td>\n",
              "      <td>3.000000</td>\n",
              "      <td>3.000000</td>\n",
              "      <td>2.000000</td>\n",
              "      <td>2.000000</td>\n",
              "      <td>2.133209</td>\n",
              "    </tr>\n",
              "    <tr>\n",
              "      <th>75%</th>\n",
              "      <td>74994.000000</td>\n",
              "      <td>17.000000</td>\n",
              "      <td>3.202133</td>\n",
              "      <td>4.000000</td>\n",
              "      <td>4.000000</td>\n",
              "      <td>2.000000</td>\n",
              "      <td>2.000000</td>\n",
              "      <td>4.476363</td>\n",
              "    </tr>\n",
              "    <tr>\n",
              "      <th>max</th>\n",
              "      <td>99999.000000</td>\n",
              "      <td>22.000000</td>\n",
              "      <td>4.762430</td>\n",
              "      <td>5.000000</td>\n",
              "      <td>4.000000</td>\n",
              "      <td>3.000000</td>\n",
              "      <td>4.000000</td>\n",
              "      <td>4.984842</td>\n",
              "    </tr>\n",
              "  </tbody>\n",
              "</table>\n",
              "</div>"
            ],
            "text/plain": [
              "              userId         itemId         rating            Age  \\\n",
              "count  345368.000000  345368.000000  345368.000000  345368.000000   \n",
              "mean    49984.786677      10.997067       2.496675       3.084206   \n",
              "std     28888.398160       6.636583       0.987163       1.269043   \n",
              "min         0.000000       0.000000       1.134487       1.000000   \n",
              "25%     24978.000000       5.000000       1.644446       2.000000   \n",
              "50%     49968.000000      11.000000       2.362574       3.000000   \n",
              "75%     74994.000000      17.000000       3.202133       4.000000   \n",
              "max     99999.000000      22.000000       4.762430       5.000000   \n",
              "\n",
              "               AcDeg         Budget          Accom        Quality  \n",
              "count  345368.000000  345368.000000  345368.000000  345368.000000  \n",
              "mean        3.114516       1.809062       2.047677       2.729969  \n",
              "std         0.751531       0.623599       0.673190       1.319768  \n",
              "min         1.000000       1.000000       1.000000       1.188559  \n",
              "25%         3.000000       1.000000       2.000000       1.633559  \n",
              "50%         3.000000       2.000000       2.000000       2.133209  \n",
              "75%         4.000000       2.000000       2.000000       4.476363  \n",
              "max         4.000000       3.000000       4.000000       4.984842  "
            ]
          },
          "execution_count": 4,
          "metadata": {},
          "output_type": "execute_result"
        }
      ],
      "source": [
        "data.describe()"
      ]
    },
    {
      "cell_type": "code",
      "execution_count": 5,
      "metadata": {
        "colab": {
          "base_uri": "https://localhost:8080/",
          "height": 206
        },
        "id": "_3hGIsFmOjYM",
        "outputId": "5b6c4f56-7342-497d-fbc4-28b09fc21120"
      },
      "outputs": [
        {
          "data": {
            "text/html": [
              "<div>\n",
              "<style scoped>\n",
              "    .dataframe tbody tr th:only-of-type {\n",
              "        vertical-align: middle;\n",
              "    }\n",
              "\n",
              "    .dataframe tbody tr th {\n",
              "        vertical-align: top;\n",
              "    }\n",
              "\n",
              "    .dataframe thead th {\n",
              "        text-align: right;\n",
              "    }\n",
              "</style>\n",
              "<table border=\"1\" class=\"dataframe\">\n",
              "  <thead>\n",
              "    <tr style=\"text-align: right;\">\n",
              "      <th></th>\n",
              "      <th>itemId</th>\n",
              "      <th>rating</th>\n",
              "      <th>Age</th>\n",
              "      <th>AcDeg</th>\n",
              "      <th>Budget</th>\n",
              "      <th>Accom</th>\n",
              "      <th>Gender</th>\n",
              "      <th>Job</th>\n",
              "      <th>Region</th>\n",
              "      <th>GroupComp</th>\n",
              "      <th>ItemName</th>\n",
              "      <th>Category</th>\n",
              "      <th>Quality</th>\n",
              "    </tr>\n",
              "  </thead>\n",
              "  <tbody>\n",
              "    <tr>\n",
              "      <th>0</th>\n",
              "      <td>0</td>\n",
              "      <td>1.533462</td>\n",
              "      <td>4</td>\n",
              "      <td>3</td>\n",
              "      <td>2</td>\n",
              "      <td>2</td>\n",
              "      <td>Female</td>\n",
              "      <td>blue collar</td>\n",
              "      <td>North Europe</td>\n",
              "      <td>1Adlt</td>\n",
              "      <td>Restaurant Fake</td>\n",
              "      <td>['Gastro']</td>\n",
              "      <td>1.647351</td>\n",
              "    </tr>\n",
              "    <tr>\n",
              "      <th>1</th>\n",
              "      <td>0</td>\n",
              "      <td>1.283205</td>\n",
              "      <td>4</td>\n",
              "      <td>4</td>\n",
              "      <td>2</td>\n",
              "      <td>2</td>\n",
              "      <td>Male</td>\n",
              "      <td>blue collar</td>\n",
              "      <td>South Europe</td>\n",
              "      <td>2Adlt</td>\n",
              "      <td>Restaurant Fake</td>\n",
              "      <td>['Gastro']</td>\n",
              "      <td>1.647351</td>\n",
              "    </tr>\n",
              "    <tr>\n",
              "      <th>2</th>\n",
              "      <td>0</td>\n",
              "      <td>1.506836</td>\n",
              "      <td>4</td>\n",
              "      <td>4</td>\n",
              "      <td>2</td>\n",
              "      <td>2</td>\n",
              "      <td>Female</td>\n",
              "      <td>blue collar</td>\n",
              "      <td>East Europe</td>\n",
              "      <td>1Adlt</td>\n",
              "      <td>Restaurant Fake</td>\n",
              "      <td>['Gastro']</td>\n",
              "      <td>1.647351</td>\n",
              "    </tr>\n",
              "    <tr>\n",
              "      <th>3</th>\n",
              "      <td>0</td>\n",
              "      <td>1.260289</td>\n",
              "      <td>2</td>\n",
              "      <td>1</td>\n",
              "      <td>1</td>\n",
              "      <td>1</td>\n",
              "      <td>Male</td>\n",
              "      <td>blue collar</td>\n",
              "      <td>Asia</td>\n",
              "      <td>2Adlt</td>\n",
              "      <td>Restaurant Fake</td>\n",
              "      <td>['Gastro']</td>\n",
              "      <td>1.647351</td>\n",
              "    </tr>\n",
              "    <tr>\n",
              "      <th>4</th>\n",
              "      <td>0</td>\n",
              "      <td>3.203168</td>\n",
              "      <td>3</td>\n",
              "      <td>3</td>\n",
              "      <td>1</td>\n",
              "      <td>1</td>\n",
              "      <td>Male</td>\n",
              "      <td>white collar</td>\n",
              "      <td>Africa</td>\n",
              "      <td>1Adlt</td>\n",
              "      <td>Restaurant Fake</td>\n",
              "      <td>['Gastro']</td>\n",
              "      <td>1.647351</td>\n",
              "    </tr>\n",
              "  </tbody>\n",
              "</table>\n",
              "</div>"
            ],
            "text/plain": [
              "   itemId    rating  Age  AcDeg  Budget  Accom  Gender           Job  \\\n",
              "0       0  1.533462    4      3       2      2  Female   blue collar   \n",
              "1       0  1.283205    4      4       2      2    Male   blue collar   \n",
              "2       0  1.506836    4      4       2      2  Female   blue collar   \n",
              "3       0  1.260289    2      1       1      1    Male   blue collar   \n",
              "4       0  3.203168    3      3       1      1    Male  white collar   \n",
              "\n",
              "         Region GroupComp         ItemName    Category   Quality  \n",
              "0  North Europe     1Adlt  Restaurant Fake  ['Gastro']  1.647351  \n",
              "1  South Europe     2Adlt  Restaurant Fake  ['Gastro']  1.647351  \n",
              "2   East Europe     1Adlt  Restaurant Fake  ['Gastro']  1.647351  \n",
              "3          Asia     2Adlt  Restaurant Fake  ['Gastro']  1.647351  \n",
              "4        Africa     1Adlt  Restaurant Fake  ['Gastro']  1.647351  "
            ]
          },
          "execution_count": 5,
          "metadata": {},
          "output_type": "execute_result"
        }
      ],
      "source": [
        "# remove some columns\n",
        "data = data.drop(['userId', 'Email Address', 'FirstName LastName'], axis=1)\n",
        "data.head()"
      ]
    },
    {
      "cell_type": "markdown",
      "metadata": {
        "id": "9cOdZ3H6Agka"
      },
      "source": [
        "### Convert Feature Values to Numbers"
      ]
    },
    {
      "cell_type": "markdown",
      "metadata": {
        "id": "Htiku6d9Gp_b"
      },
      "source": [
        "Gender & Job"
      ]
    },
    {
      "cell_type": "code",
      "execution_count": 6,
      "metadata": {
        "colab": {
          "base_uri": "https://localhost:8080/"
        },
        "id": "pTnzzmE3_ztL",
        "outputId": "bb14b7cb-1322-4119-8dfe-d8eaed08344e"
      },
      "outputs": [
        {
          "name": "stdout",
          "output_type": "stream",
          "text": [
            "Male      172759\n",
            "Female    172609\n",
            "Name: Gender, dtype: int64\n",
            "white collar    220969\n",
            "blue collar     124399\n",
            "Name: Job, dtype: int64\n"
          ]
        }
      ],
      "source": [
        "# total no of values in gender and job column\n",
        "print(data['Gender'].value_counts())\n",
        "print(data['Job'].value_counts())"
      ]
    },
    {
      "cell_type": "code",
      "execution_count": 7,
      "metadata": {
        "id": "f61pG2FUG-7F"
      },
      "outputs": [],
      "source": [
        "# change gender and job into categorical feature\n",
        "data['Gender'] = data['Gender'].astype('category').cat.codes\n",
        "data['Job'] = data['Job'].astype('category').cat.codes"
      ]
    },
    {
      "cell_type": "markdown",
      "metadata": {
        "id": "U8KDW6yuLWhY"
      },
      "source": [
        "Region & GroupComp"
      ]
    },
    {
      "cell_type": "code",
      "execution_count": 8,
      "metadata": {
        "colab": {
          "base_uri": "https://localhost:8080/"
        },
        "id": "xiI3FUlxJv2W",
        "outputId": "09546c44-a0e7-486c-edc2-a59a9fdd84e7"
      },
      "outputs": [
        {
          "name": "stdout",
          "output_type": "stream",
          "text": [
            "South Europe     96150\n",
            "North Europe     95053\n",
            "Asia             38470\n",
            "Africa           38231\n",
            "North America    20012\n",
            "East Europe      19280\n",
            "Middle East      19177\n",
            "South America    18995\n",
            "Name: Region, dtype: int64\n",
            "2Adlt          132823\n",
            "2Adlt+Child    132758\n",
            "1Adlt           52946\n",
            "GrpFriends      26841\n",
            "Name: GroupComp, dtype: int64\n"
          ]
        }
      ],
      "source": [
        "print(data['Region'].value_counts())\n",
        "print(data['GroupComp'].value_counts())"
      ]
    },
    {
      "cell_type": "code",
      "execution_count": 9,
      "metadata": {
        "id": "5OeVRCbTKFbn"
      },
      "outputs": [],
      "source": [
        "data['Region'] = data['Region'].astype('category').cat.codes\n",
        "data['GroupComp'] = data['GroupComp'].astype('category').cat.codes"
      ]
    },
    {
      "cell_type": "markdown",
      "metadata": {
        "id": "D6JDDYkdLod2"
      },
      "source": [
        "ItemName & Category"
      ]
    },
    {
      "cell_type": "code",
      "execution_count": 10,
      "metadata": {
        "colab": {
          "base_uri": "https://localhost:8080/"
        },
        "id": "3sWjJkSzLuXM",
        "outputId": "0880db2c-1a7d-4154-9829-1813c2d92932"
      },
      "outputs": [
        {
          "data": {
            "text/plain": [
              "array(['Restaurant Fake', 'Random Shopping Mall', 'Bogus Waterpark',\n",
              "       'Nonexisting Zipline', 'Fake Klub', 'Surprise Concert',\n",
              "       'Museum of Fake History', 'Random Cultural Tour',\n",
              "       'Unknown Nature Route', 'False Tavern', 'Another Sport Event',\n",
              "       'Random Surfing Lessons', 'Fiction Nightclub', 'MakeBelieve Pub',\n",
              "       'Some Sport Event', 'Bogus Spa', 'Random Golf Lessons',\n",
              "       'Secret Beach', 'Fake Brands Boutique', 'Fake BTT Route',\n",
              "       'Fake Beach', 'Never Happened Festival',\n",
              "       'Best Imaginary Restaurant'], dtype=object)"
            ]
          },
          "execution_count": 10,
          "metadata": {},
          "output_type": "execute_result"
        }
      ],
      "source": [
        "data['ItemName'].unique()"
      ]
    },
    {
      "cell_type": "code",
      "execution_count": 11,
      "metadata": {
        "colab": {
          "base_uri": "https://localhost:8080/"
        },
        "id": "zIQGyZLeMgNB",
        "outputId": "08ca1522-4d37-4746-ab6b-4528518613b1"
      },
      "outputs": [
        {
          "name": "stdout",
          "output_type": "stream",
          "text": [
            "['Beach']                30184\n",
            "['Sports', 'Nature']     30153\n",
            "['Events', 'Culture']    30125\n",
            "['Nightlf']              30121\n",
            "['Sports', 'Events']     30090\n",
            "['Sports']               30041\n",
            "['Culture']              30011\n",
            "['Gastro']               29842\n",
            "['Shop']                 15177\n",
            "['Nature', 'Relax']      15012\n",
            "['Themeprk']             14992\n",
            "['Gastro', 'Culture']    14990\n",
            "['Shop', 'Relax']        14935\n",
            "['Gastro', 'Nightlf']    14892\n",
            "['Relax']                14803\n",
            "Name: Category, dtype: int64\n"
          ]
        }
      ],
      "source": [
        "print(data['Category'].value_counts())"
      ]
    },
    {
      "cell_type": "code",
      "execution_count": 12,
      "metadata": {
        "colab": {
          "base_uri": "https://localhost:8080/",
          "height": 206
        },
        "id": "Gh88HPaeM8C2",
        "outputId": "5e554827-d603-4b38-b8f1-a758268a352b"
      },
      "outputs": [
        {
          "data": {
            "text/html": [
              "<div>\n",
              "<style scoped>\n",
              "    .dataframe tbody tr th:only-of-type {\n",
              "        vertical-align: middle;\n",
              "    }\n",
              "\n",
              "    .dataframe tbody tr th {\n",
              "        vertical-align: top;\n",
              "    }\n",
              "\n",
              "    .dataframe thead th {\n",
              "        text-align: right;\n",
              "    }\n",
              "</style>\n",
              "<table border=\"1\" class=\"dataframe\">\n",
              "  <thead>\n",
              "    <tr style=\"text-align: right;\">\n",
              "      <th></th>\n",
              "      <th>itemId</th>\n",
              "      <th>rating</th>\n",
              "      <th>Age</th>\n",
              "      <th>AcDeg</th>\n",
              "      <th>Budget</th>\n",
              "      <th>Accom</th>\n",
              "      <th>Gender</th>\n",
              "      <th>Job</th>\n",
              "      <th>Region</th>\n",
              "      <th>GroupComp</th>\n",
              "      <th>ItemName</th>\n",
              "      <th>Category</th>\n",
              "      <th>Quality</th>\n",
              "    </tr>\n",
              "  </thead>\n",
              "  <tbody>\n",
              "    <tr>\n",
              "      <th>0</th>\n",
              "      <td>0</td>\n",
              "      <td>1.533462</td>\n",
              "      <td>4</td>\n",
              "      <td>3</td>\n",
              "      <td>2</td>\n",
              "      <td>2</td>\n",
              "      <td>0</td>\n",
              "      <td>0</td>\n",
              "      <td>5</td>\n",
              "      <td>0</td>\n",
              "      <td>18</td>\n",
              "      <td>5</td>\n",
              "      <td>1.647351</td>\n",
              "    </tr>\n",
              "    <tr>\n",
              "      <th>1</th>\n",
              "      <td>0</td>\n",
              "      <td>1.283205</td>\n",
              "      <td>4</td>\n",
              "      <td>4</td>\n",
              "      <td>2</td>\n",
              "      <td>2</td>\n",
              "      <td>1</td>\n",
              "      <td>0</td>\n",
              "      <td>7</td>\n",
              "      <td>1</td>\n",
              "      <td>18</td>\n",
              "      <td>5</td>\n",
              "      <td>1.647351</td>\n",
              "    </tr>\n",
              "    <tr>\n",
              "      <th>2</th>\n",
              "      <td>0</td>\n",
              "      <td>1.506836</td>\n",
              "      <td>4</td>\n",
              "      <td>4</td>\n",
              "      <td>2</td>\n",
              "      <td>2</td>\n",
              "      <td>0</td>\n",
              "      <td>0</td>\n",
              "      <td>2</td>\n",
              "      <td>0</td>\n",
              "      <td>18</td>\n",
              "      <td>5</td>\n",
              "      <td>1.647351</td>\n",
              "    </tr>\n",
              "    <tr>\n",
              "      <th>3</th>\n",
              "      <td>0</td>\n",
              "      <td>1.260289</td>\n",
              "      <td>2</td>\n",
              "      <td>1</td>\n",
              "      <td>1</td>\n",
              "      <td>1</td>\n",
              "      <td>1</td>\n",
              "      <td>0</td>\n",
              "      <td>1</td>\n",
              "      <td>1</td>\n",
              "      <td>18</td>\n",
              "      <td>5</td>\n",
              "      <td>1.647351</td>\n",
              "    </tr>\n",
              "    <tr>\n",
              "      <th>4</th>\n",
              "      <td>0</td>\n",
              "      <td>3.203168</td>\n",
              "      <td>3</td>\n",
              "      <td>3</td>\n",
              "      <td>1</td>\n",
              "      <td>1</td>\n",
              "      <td>1</td>\n",
              "      <td>1</td>\n",
              "      <td>0</td>\n",
              "      <td>0</td>\n",
              "      <td>18</td>\n",
              "      <td>5</td>\n",
              "      <td>1.647351</td>\n",
              "    </tr>\n",
              "  </tbody>\n",
              "</table>\n",
              "</div>"
            ],
            "text/plain": [
              "   itemId    rating  Age  AcDeg  Budget  Accom  Gender  Job  Region  \\\n",
              "0       0  1.533462    4      3       2      2       0    0       5   \n",
              "1       0  1.283205    4      4       2      2       1    0       7   \n",
              "2       0  1.506836    4      4       2      2       0    0       2   \n",
              "3       0  1.260289    2      1       1      1       1    0       1   \n",
              "4       0  3.203168    3      3       1      1       1    1       0   \n",
              "\n",
              "   GroupComp  ItemName  Category   Quality  \n",
              "0          0        18         5  1.647351  \n",
              "1          1        18         5  1.647351  \n",
              "2          0        18         5  1.647351  \n",
              "3          1        18         5  1.647351  \n",
              "4          0        18         5  1.647351  "
            ]
          },
          "execution_count": 12,
          "metadata": {},
          "output_type": "execute_result"
        }
      ],
      "source": [
        "data['ItemName'] = data['ItemName'].astype('category').cat.codes\n",
        "data['Category'] = data['Category'].astype('category').cat.codes\n",
        "data.head()"
      ]
    },
    {
      "cell_type": "markdown",
      "metadata": {
        "id": "GEwHcscw8cQg"
      },
      "source": [
        "Rating"
      ]
    },
    {
      "cell_type": "code",
      "execution_count": 13,
      "metadata": {
        "colab": {
          "base_uri": "https://localhost:8080/"
        },
        "id": "8w9mQouYEVT2",
        "outputId": "5fa9422b-040a-478c-e015-cabd0a4a15c7"
      },
      "outputs": [
        {
          "data": {
            "text/plain": [
              "4.662240    2074\n",
              "4.666387     893\n",
              "1.228280     807\n",
              "4.677095     712\n",
              "1.188851     687\n",
              "            ... \n",
              "3.574407       1\n",
              "2.598941       1\n",
              "3.415163       1\n",
              "2.605091       1\n",
              "2.317777       1\n",
              "Name: rating, Length: 322762, dtype: int64"
            ]
          },
          "execution_count": 13,
          "metadata": {},
          "output_type": "execute_result"
        }
      ],
      "source": [
        "data['rating'].value_counts()"
      ]
    },
    {
      "cell_type": "code",
      "execution_count": 14,
      "metadata": {
        "colab": {
          "base_uri": "https://localhost:8080/",
          "height": 206
        },
        "id": "bRgm7ufZEgkN",
        "outputId": "262dd8e5-675c-4e7b-9c9f-89d4823d3394"
      },
      "outputs": [
        {
          "data": {
            "text/html": [
              "<div>\n",
              "<style scoped>\n",
              "    .dataframe tbody tr th:only-of-type {\n",
              "        vertical-align: middle;\n",
              "    }\n",
              "\n",
              "    .dataframe tbody tr th {\n",
              "        vertical-align: top;\n",
              "    }\n",
              "\n",
              "    .dataframe thead th {\n",
              "        text-align: right;\n",
              "    }\n",
              "</style>\n",
              "<table border=\"1\" class=\"dataframe\">\n",
              "  <thead>\n",
              "    <tr style=\"text-align: right;\">\n",
              "      <th></th>\n",
              "      <th>itemId</th>\n",
              "      <th>rating</th>\n",
              "      <th>Age</th>\n",
              "      <th>AcDeg</th>\n",
              "      <th>Budget</th>\n",
              "      <th>Accom</th>\n",
              "      <th>Gender</th>\n",
              "      <th>Job</th>\n",
              "      <th>Region</th>\n",
              "      <th>GroupComp</th>\n",
              "      <th>ItemName</th>\n",
              "      <th>Category</th>\n",
              "      <th>Quality</th>\n",
              "    </tr>\n",
              "  </thead>\n",
              "  <tbody>\n",
              "    <tr>\n",
              "      <th>0</th>\n",
              "      <td>0</td>\n",
              "      <td>2</td>\n",
              "      <td>4</td>\n",
              "      <td>3</td>\n",
              "      <td>2</td>\n",
              "      <td>2</td>\n",
              "      <td>0</td>\n",
              "      <td>0</td>\n",
              "      <td>5</td>\n",
              "      <td>0</td>\n",
              "      <td>18</td>\n",
              "      <td>5</td>\n",
              "      <td>1.647351</td>\n",
              "    </tr>\n",
              "    <tr>\n",
              "      <th>1</th>\n",
              "      <td>0</td>\n",
              "      <td>1</td>\n",
              "      <td>4</td>\n",
              "      <td>4</td>\n",
              "      <td>2</td>\n",
              "      <td>2</td>\n",
              "      <td>1</td>\n",
              "      <td>0</td>\n",
              "      <td>7</td>\n",
              "      <td>1</td>\n",
              "      <td>18</td>\n",
              "      <td>5</td>\n",
              "      <td>1.647351</td>\n",
              "    </tr>\n",
              "    <tr>\n",
              "      <th>2</th>\n",
              "      <td>0</td>\n",
              "      <td>2</td>\n",
              "      <td>4</td>\n",
              "      <td>4</td>\n",
              "      <td>2</td>\n",
              "      <td>2</td>\n",
              "      <td>0</td>\n",
              "      <td>0</td>\n",
              "      <td>2</td>\n",
              "      <td>0</td>\n",
              "      <td>18</td>\n",
              "      <td>5</td>\n",
              "      <td>1.647351</td>\n",
              "    </tr>\n",
              "    <tr>\n",
              "      <th>3</th>\n",
              "      <td>0</td>\n",
              "      <td>1</td>\n",
              "      <td>2</td>\n",
              "      <td>1</td>\n",
              "      <td>1</td>\n",
              "      <td>1</td>\n",
              "      <td>1</td>\n",
              "      <td>0</td>\n",
              "      <td>1</td>\n",
              "      <td>1</td>\n",
              "      <td>18</td>\n",
              "      <td>5</td>\n",
              "      <td>1.647351</td>\n",
              "    </tr>\n",
              "    <tr>\n",
              "      <th>4</th>\n",
              "      <td>0</td>\n",
              "      <td>3</td>\n",
              "      <td>3</td>\n",
              "      <td>3</td>\n",
              "      <td>1</td>\n",
              "      <td>1</td>\n",
              "      <td>1</td>\n",
              "      <td>1</td>\n",
              "      <td>0</td>\n",
              "      <td>0</td>\n",
              "      <td>18</td>\n",
              "      <td>5</td>\n",
              "      <td>1.647351</td>\n",
              "    </tr>\n",
              "  </tbody>\n",
              "</table>\n",
              "</div>"
            ],
            "text/plain": [
              "   itemId  rating  Age  AcDeg  Budget  Accom  Gender  Job  Region  GroupComp  \\\n",
              "0       0       2    4      3       2      2       0    0       5          0   \n",
              "1       0       1    4      4       2      2       1    0       7          1   \n",
              "2       0       2    4      4       2      2       0    0       2          0   \n",
              "3       0       1    2      1       1      1       1    0       1          1   \n",
              "4       0       3    3      3       1      1       1    1       0          0   \n",
              "\n",
              "   ItemName  Category   Quality  \n",
              "0        18         5  1.647351  \n",
              "1        18         5  1.647351  \n",
              "2        18         5  1.647351  \n",
              "3        18         5  1.647351  \n",
              "4        18         5  1.647351  "
            ]
          },
          "execution_count": 14,
          "metadata": {},
          "output_type": "execute_result"
        }
      ],
      "source": [
        "# Round the rating values to the nearest integer\n",
        "data['rating'] = data['rating'].round()\n",
        "\n",
        "# Convert the rating values to integer type\n",
        "data['rating'] = data['rating'].astype(int)\n",
        "data.head()"
      ]
    },
    {
      "attachments": {},
      "cell_type": "markdown",
      "metadata": {},
      "source": [
        "## Feature Selection"
      ]
    },
    {
      "cell_type": "code",
      "execution_count": 15,
      "metadata": {},
      "outputs": [
        {
          "name": "stdout",
          "output_type": "stream",
          "text": [
            "Correlations:\n",
            "itemId       0.055518\n",
            "Age         -0.013712\n",
            "AcDeg        0.000381\n",
            "Budget      -0.012923\n",
            "Accom       -0.009887\n",
            "Gender       0.022055\n",
            "Job          0.014191\n",
            "Region       0.034200\n",
            "GroupComp   -0.014632\n",
            "ItemName     0.039606\n",
            "Category    -0.141262\n",
            "Quality      0.473812\n",
            "dtype: float64\n",
            "Mutual information scores:\n",
            "[0.248308   0.00624647 0.0074118  0.00933659 0.01055582 0.01493454\n",
            " 0.01747767 0.00928472 0.00895851 0.24768132 0.14277082 0.24702006]\n"
          ]
        }
      ],
      "source": [
        "from sklearn.feature_selection import mutual_info_classif\n",
        "\n",
        "# Separate the features (X) and target variable (y)\n",
        "X = data.drop('rating', axis=1)\n",
        "y = data['rating']\n",
        "\n",
        "# Compute Pearson correlation coefficients\n",
        "correlations = X.corrwith(y)\n",
        "\n",
        "# Compute mutual information scores\n",
        "mutual_info = mutual_info_classif(X, y)\n",
        "\n",
        "# Print the results\n",
        "print(\"Correlations:\")\n",
        "print(correlations)\n",
        "print(\"Mutual information scores:\")\n",
        "print(mutual_info)"
      ]
    },
    {
      "cell_type": "code",
      "execution_count": 16,
      "metadata": {},
      "outputs": [
        {
          "data": {
            "text/plain": [
              "Index(['itemId', 'rating', 'Age', 'AcDeg', 'Budget', 'Accom', 'Gender', 'Job',\n",
              "       'Region', 'GroupComp', 'ItemName', 'Category', 'Quality'],\n",
              "      dtype='object')"
            ]
          },
          "execution_count": 16,
          "metadata": {},
          "output_type": "execute_result"
        }
      ],
      "source": [
        "data.columns"
      ]
    },
    {
      "cell_type": "markdown",
      "metadata": {
        "id": "wlwKzXadA0El"
      },
      "source": [
        "## Train and Test Data"
      ]
    },
    {
      "cell_type": "code",
      "execution_count": 17,
      "metadata": {
        "colab": {
          "base_uri": "https://localhost:8080/"
        },
        "id": "sHv2EkTROLo5",
        "outputId": "afe4c272-e1b8-4910-895d-a19fd3d9f711"
      },
      "outputs": [
        {
          "data": {
            "text/plain": [
              "((345368, 12), (345368,))"
            ]
          },
          "execution_count": 17,
          "metadata": {},
          "output_type": "execute_result"
        }
      ],
      "source": [
        "# Input and output variable\n",
        "X = data.drop('rating', axis=1)\n",
        "y = data['rating']\n",
        "X.shape, y.shape"
      ]
    },
    {
      "cell_type": "code",
      "execution_count": 18,
      "metadata": {
        "colab": {
          "base_uri": "https://localhost:8080/"
        },
        "id": "UBGx37tPQQ2D",
        "outputId": "667cbe09-2929-492e-ad15-5904694d79fb"
      },
      "outputs": [
        {
          "data": {
            "text/plain": [
              "((276294, 12), (69074, 12), (276294,), (69074,))"
            ]
          },
          "execution_count": 18,
          "metadata": {},
          "output_type": "execute_result"
        }
      ],
      "source": [
        "#Train , Test and  Split data\n",
        "from sklearn.model_selection import train_test_split\n",
        "X_train,X_test,y_train,y_test=train_test_split(X, y, test_size=0.20, random_state=42)\n",
        "X_train.shape, X_test.shape ,y_train.shape ,y_test.shape "
      ]
    },
    {
      "cell_type": "markdown",
      "metadata": {
        "id": "s7rWdepXBNwr"
      },
      "source": [
        "Data Scaling"
      ]
    },
    {
      "cell_type": "code",
      "execution_count": 19,
      "metadata": {
        "id": "eeF8FYWUBMfD"
      },
      "outputs": [],
      "source": [
        "from sklearn.preprocessing import StandardScaler\n",
        "\n",
        "scaler = StandardScaler()\n",
        "X_train = scaler.fit_transform(X_train)\n",
        "X_test = scaler.transform(X_test)\n"
      ]
    },
    {
      "attachments": {},
      "cell_type": "markdown",
      "metadata": {},
      "source": [
        "# Collaborating Filtering"
      ]
    },
    {
      "cell_type": "code",
      "execution_count": 21,
      "metadata": {},
      "outputs": [
        {
          "ename": "ModuleNotFoundError",
          "evalue": "No module named 'surprise'",
          "output_type": "error",
          "traceback": [
            "\u001b[1;31m---------------------------------------------------------------------------\u001b[0m",
            "\u001b[1;31mModuleNotFoundError\u001b[0m                       Traceback (most recent call last)",
            "Cell \u001b[1;32mIn[21], line 1\u001b[0m\n\u001b[1;32m----> 1\u001b[0m \u001b[39mfrom\u001b[39;00m \u001b[39msurprise\u001b[39;00m \u001b[39mimport\u001b[39;00m SVD\n\u001b[0;32m      2\u001b[0m \u001b[39mfrom\u001b[39;00m \u001b[39msurprise\u001b[39;00m \u001b[39mimport\u001b[39;00m accuracy\n\u001b[0;32m      4\u001b[0m \u001b[39m# Train SVD on X_train\u001b[39;00m\n",
            "\u001b[1;31mModuleNotFoundError\u001b[0m: No module named 'surprise'"
          ]
        }
      ],
      "source": [
        "from surprise import SVD\n",
        "from surprise import accuracy\n",
        "\n",
        "# Train SVD on X_train\n",
        "algo_X = SVD()\n",
        "trainset_X = data.build_full_trainset(X_train)\n",
        "algo_X.fit(trainset_X)\n",
        "\n",
        "# Make predictions on X_test\n",
        "X_test_pred = algo_X.test(X_test)\n",
        "\n",
        "# Evaluate performance on X_test\n",
        "X_test_rmse = accuracy.rmse(X_test_pred)\n",
        "\n",
        "# Train SVD on y_train\n",
        "algo_y = SVD()\n",
        "trainset_y = data.build_full_trainset(y_train)\n",
        "algo_y.fit(trainset_y)\n",
        "\n",
        "# Make predictions on y_test\n",
        "y_test_pred = algo_y.test(y_test)\n",
        "\n",
        "# Evaluate performance on y_test\n",
        "y_test_rmse = accuracy.rmse(y_test_pred)"
      ]
    },
    {
      "cell_type": "markdown",
      "metadata": {
        "id": "fpOw6jwHHxlU"
      },
      "source": [
        "# SVM"
      ]
    },
    {
      "cell_type": "code",
      "execution_count": null,
      "metadata": {
        "id": "pK-EvuBRHO-U"
      },
      "outputs": [],
      "source": [
        "# Fit the model SVC\n",
        "from sklearn.svm import SVC\n",
        "# SVM model building\n",
        "svc = SVC()\n",
        "svc.fit(X_train[:50000],y_train[:50000])\n",
        "\n",
        "# Predic the y_test data\n",
        "y_pred=svc.predict(X_test[:50000])\n",
        "print(y_pred)\n",
        "\n",
        "# comparing actual response values (y_test) with predicted response values (y_pred)\n",
        "print(\"SVM model accuracy(in %):\", accuracy_score(y_test[:50000], y_pred)*100)\n",
        "\n",
        "# precision_score\n",
        "precision_score_svc = precision_score(y_test[:50000], y_pred, average='macro')\n",
        "print(precision_score_svc)\n",
        "\n",
        "# recall score\n",
        "recall_score_svc = recall_score(y_test[:50000], y_pred, average='macro')\n",
        "print(recall_score_svc)\n",
        "\n",
        "# F1 score macro\n",
        "f1_score_svc = f1_score(y_test[:50000], y_pred, average='macro')\n",
        "print(f1_score_svc)\n",
        "# F1 score micro\n",
        "f1_score_svc = f1_score(y_test[:50000], y_pred, average='micro')\n",
        "print(f1_score_svc)"
      ]
    },
    {
      "attachments": {},
      "cell_type": "markdown",
      "metadata": {
        "id": "jvpr4R70_1DI"
      },
      "source": [
        "# K- Means Clustering"
      ]
    },
    {
      "cell_type": "code",
      "execution_count": null,
      "metadata": {
        "id": "2-uB5K8nAA52"
      },
      "outputs": [],
      "source": [
        "from sklearn.cluster import KMeans\n",
        "\n",
        "# apply K-means clustering\n",
        "kmeans = KMeans(n_clusters=5, random_state=42)\n",
        "kmeans.fit(X_train)\n",
        "\n",
        "# get the predicted cluster labels\n",
        "y_pred = kmeans.predict(X_test)\n",
        "\n",
        "# calculate evaluation metrics\n",
        "accuracy = accuracy_score(y_test, y_pred)\n",
        "print(\"Accuracy:\", accuracy)\n",
        "\n",
        "precision = precision_score(y_test, y_pred, average='macro')\n",
        "print(\"Precision:\", precision)\n",
        "\n",
        "recall = recall_score(y_test, y_pred, average='macro')\n",
        "print(\"Recall:\", recall)\n",
        "\n",
        "f1 = f1_score(y_test, y_pred, average='macro')\n",
        "print(\"F1-score Macro:\", f1)\n",
        "\n",
        "f1 = f1_score(y_test, y_pred, average='micro')\n",
        "print(\"F1-score Micro:\", f1)"
      ]
    },
    {
      "cell_type": "code",
      "execution_count": null,
      "metadata": {
        "id": "bkhKsw_cABK3"
      },
      "outputs": [],
      "source": []
    }
  ],
  "metadata": {
    "colab": {
      "provenance": []
    },
    "gpuClass": "standard",
    "kernelspec": {
      "display_name": "Python 3",
      "name": "python3"
    },
    "language_info": {
      "codemirror_mode": {
        "name": "ipython",
        "version": 3
      },
      "file_extension": ".py",
      "mimetype": "text/x-python",
      "name": "python",
      "nbconvert_exporter": "python",
      "pygments_lexer": "ipython3",
      "version": "3.10.2"
    }
  },
  "nbformat": 4,
  "nbformat_minor": 0
}
