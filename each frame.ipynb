{
  "cells": [
    {
      "cell_type": "code",
      "execution_count": 1,
      "metadata": {
        "colab": {
          "base_uri": "https://localhost:8080/",
          "height": 1000
        },
        "id": "MMQE6WtuKfgb",
        "outputId": "d1bb6738-6772-40e3-8787-775ec400de54"
      },
      "outputs": [],
      "source": [
        "import cv2\n",
        "import os\n",
        "\n",
        "def save_frames(video_path, output_folder):\n",
        "    # Open the video file\n",
        "    video_capture = cv2.VideoCapture(video_path)\n",
        "\n",
        "    # Create the output folder if it doesn't exist\n",
        "    if not os.path.exists(output_folder):\n",
        "        os.makedirs(output_folder)\n",
        "\n",
        "    frame_count = 0\n",
        "\n",
        "    while True:\n",
        "        # Read each frame from the video stream\n",
        "        ret, frame = video_capture.read()\n",
        "\n",
        "        if not ret:\n",
        "            break\n",
        "\n",
        "        # Generate a unique filename for each frame\n",
        "        filename = os.path.join(output_folder, f\"frame_{frame_count}.jpg\")\n",
        "\n",
        "        # Save the frame as an image\n",
        "        cv2.imwrite(filename, frame)\n",
        "\n",
        "        frame_count += 1\n",
        "\n",
        "    # Release the video capture\n",
        "    video_capture.release()\n",
        "\n",
        "# Path to the video file\n",
        "video_path = \"video.mp4\"\n",
        "\n",
        "# Output folder to save the frames\n",
        "output_folder = \"img\"\n",
        "\n",
        "# Call the function to save frames from the video\n",
        "save_frames(video_path, output_folder)"
      ]
    },
    {
      "cell_type": "code",
      "execution_count": null,
      "metadata": {
        "id": "HhJF-2ATLIt1"
      },
      "outputs": [],
      "source": []
    }
  ],
  "metadata": {
    "colab": {
      "provenance": []
    },
    "kernelspec": {
      "display_name": "Python 3",
      "name": "python3"
    },
    "language_info": {
      "codemirror_mode": {
        "name": "ipython",
        "version": 3
      },
      "file_extension": ".py",
      "mimetype": "text/x-python",
      "name": "python",
      "nbconvert_exporter": "python",
      "pygments_lexer": "ipython3",
      "version": "3.10.2"
    }
  },
  "nbformat": 4,
  "nbformat_minor": 0
}
