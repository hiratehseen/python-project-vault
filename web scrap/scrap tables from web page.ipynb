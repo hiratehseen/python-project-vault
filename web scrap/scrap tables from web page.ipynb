{
 "cells": [
  {
   "cell_type": "code",
   "execution_count": 1,
   "metadata": {},
   "outputs": [],
   "source": [
    "import requests\n",
    "from bs4 import BeautifulSoup\n",
    "import pandas as pd"
   ]
  },
  {
   "cell_type": "markdown",
   "metadata": {},
   "source": [
    "# Get htmal file from url"
   ]
  },
  {
   "cell_type": "code",
   "execution_count": 2,
   "metadata": {},
   "outputs": [],
   "source": [
    "r = requests.get('https://www.psx.com.pk/market-summary/')\n",
    "htmlContent = r.content\n",
    "# print(htmlContent)"
   ]
  },
  {
   "cell_type": "code",
   "execution_count": 3,
   "metadata": {},
   "outputs": [],
   "source": [
    "# get html code of url\n",
    "# print(soup.prettify())"
   ]
  },
  {
   "cell_type": "markdown",
   "metadata": {},
   "source": [
    "# Set html code in BeautifulSoup"
   ]
  },
  {
   "cell_type": "code",
   "execution_count": 4,
   "metadata": {},
   "outputs": [],
   "source": [
    "soup = BeautifulSoup(htmlContent)\n",
    "class_of_table = soup.find('div', {'class' : 'inner-content-box'})\n",
    "# class_of_table"
   ]
  },
  {
   "cell_type": "markdown",
   "metadata": {},
   "source": [
    "# get links from url"
   ]
  },
  {
   "cell_type": "code",
   "execution_count": 5,
   "metadata": {},
   "outputs": [],
   "source": [
    "# for links in soup.find_all('a'):\n",
    "#     # if href not write then its give with tags\n",
    "#     link = links.get('href')\n",
    "#     print(link)"
   ]
  },
  {
   "cell_type": "markdown",
   "metadata": {},
   "source": [
    "# Collect current values from all tables"
   ]
  },
  {
   "cell_type": "code",
   "execution_count": 6,
   "metadata": {},
   "outputs": [],
   "source": [
    "# first_col = []\n",
    "# current_val = []\n",
    "\n",
    "# datas = class_of_table('div', {'class' : \"table-responsive\"})\n",
    "\n",
    "# stockTables = datas[1:]\n",
    "# # print(stockTables)\n",
    "# for table in stockTables:\n",
    "#     tableRows = [[td.text for td in row.find_all(\"td\")] for row in table.find_all(\"tr\")[2:]]\n",
    "#     for row in tableRows:\n",
    "#         first_col.append(row[0])\n",
    "#         current_val.append(row[5])\n",
    "\n",
    "# # print(current_val)"
   ]
  },
  {
   "cell_type": "markdown",
   "metadata": {},
   "source": [
    "# Build df from lists"
   ]
  },
  {
   "cell_type": "code",
   "execution_count": 7,
   "metadata": {
    "scrolled": true
   },
   "outputs": [],
   "source": [
    "# df = pd.DataFrame(current_val[0:], first_col[:])\n",
    "# print(df)"
   ]
  },
  {
   "cell_type": "markdown",
   "metadata": {},
   "source": [
    "# Get table names"
   ]
  },
  {
   "cell_type": "code",
   "execution_count": 8,
   "metadata": {},
   "outputs": [],
   "source": [
    "# list_of_heading = []\n",
    "# for th in stockTables:\n",
    "#     name_heading = [heading.text for heading in th.find_all('th')]\n",
    "#     for t in name_heading:\n",
    "#         list_of_heading.append(t.lower())\n",
    "# print(list_of_heading)"
   ]
  },
  {
   "cell_type": "markdown",
   "metadata": {},
   "source": [
    "# Function of table names"
   ]
  },
  {
   "cell_type": "code",
   "execution_count": 9,
   "metadata": {},
   "outputs": [],
   "source": [
    "def get_table_headers(table):\n",
    "    headers = [th.text.strip().lower() for th in table.find(\"tr\").find_all(\"th\")]\n",
    "    return headers"
   ]
  },
  {
   "cell_type": "markdown",
   "metadata": {},
   "source": [
    "# Function of get data from rows"
   ]
  },
  {
   "cell_type": "code",
   "execution_count": 10,
   "metadata": {},
   "outputs": [],
   "source": [
    "def get_table_rows(table):\n",
    "    rows0 = []\n",
    "    rows5 = []\n",
    "    for tr in table.find_all(\"tr\")[2:]:\n",
    "        cells = []\n",
    "        # grab all td tags in this table row\n",
    "        tds = tr.find_all(\"td\")\n",
    "        if len(tds) == 0:\n",
    "            for th in tr.find_all(\"th\"):\n",
    "                cells.append(th.text.strip())\n",
    "        else:\n",
    "            # use td tags\n",
    "            for td in tds:\n",
    "                cells.append(td.text.strip())\n",
    "        rows0.append(cells[0])\n",
    "        rows5.append(cells[5])\n",
    "    return rows0, rows5"
   ]
  },
  {
   "cell_type": "markdown",
   "metadata": {},
   "source": [
    "# Function of build csv files"
   ]
  },
  {
   "cell_type": "code",
   "execution_count": 11,
   "metadata": {},
   "outputs": [],
   "source": [
    "# def save_as_csv(hn, cv, cn):\n",
    "#     pd.DataFrame(cv, cn).to_csv(f\"{str(hn)[1:-1]}.csv\")"
   ]
  },
  {
   "cell_type": "markdown",
   "metadata": {},
   "source": [
    "# Main area to get tables from web page"
   ]
  },
  {
   "cell_type": "code",
   "execution_count": 12,
   "metadata": {},
   "outputs": [],
   "source": [
    "tables = soup.find_all(\"table\")[1:]\n",
    "for i in tables:\n",
    "    header_name = get_table_headers(i)\n",
    "    column_name, current_values = get_table_rows(i)\n",
    "#     print(h)\n",
    "#     if header_name == ['inv. banks / inv. cos. / securities cos.']:\n",
    "#         save_as_csv('inv. banks', current_values, column_name)\n",
    "#     else:\n",
    "#         save_as_csv(header_name,current_values, column_name)"
   ]
  },
  {
   "cell_type": "code",
   "execution_count": null,
   "metadata": {},
   "outputs": [],
   "source": []
  }
 ],
 "metadata": {
  "kernelspec": {
   "display_name": "Python 3 (ipykernel)",
   "language": "python",
   "name": "python3"
  },
  "language_info": {
   "codemirror_mode": {
    "name": "ipython",
    "version": 3
   },
   "file_extension": ".py",
   "mimetype": "text/x-python",
   "name": "python",
   "nbconvert_exporter": "python",
   "pygments_lexer": "ipython3",
   "version": "3.9.12"
  }
 },
 "nbformat": 4,
 "nbformat_minor": 4
}
