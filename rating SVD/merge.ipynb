{
 "cells": [
  {
   "cell_type": "code",
   "execution_count": 1,
   "metadata": {},
   "outputs": [],
   "source": [
    "import sys\n",
    "import pandas as pd\n",
    "import logging\n",
    "\n",
    "# set the environment path to find Recommenders\n",
    "from recommenders.utils.timer import Timer\n",
    "from recommenders.models.deeprec.models.graphrec.lightgcn import LightGCN\n",
    "from recommenders.models.deeprec.DataModel.ImplicitCF import ImplicitCF\n",
    "from recommenders.datasets.python_splitters import python_stratified_split\n",
    "from recommenders.evaluation.python_evaluation import map_at_k, ndcg_at_k, precision_at_k, recall_at_k\n",
    "from recommenders.utils.constants import SEED as DEFAULT_SEED\n",
    "from recommenders.models.deeprec.deeprec_utils import prepare_hparams\n",
    "from recommenders.models.sar import SAR\n",
    "\n",
    "# set the environment for Surprise\n",
    "from surprise import Dataset, Reader, SVD, accuracy\n",
    "from sklearn.model_selection import train_test_split"
   ]
  },
  {
   "cell_type": "code",
   "execution_count": 2,
   "metadata": {},
   "outputs": [
    {
     "data": {
      "text/html": [
       "<div>\n",
       "<style scoped>\n",
       "    .dataframe tbody tr th:only-of-type {\n",
       "        vertical-align: middle;\n",
       "    }\n",
       "\n",
       "    .dataframe tbody tr th {\n",
       "        vertical-align: top;\n",
       "    }\n",
       "\n",
       "    .dataframe thead th {\n",
       "        text-align: right;\n",
       "    }\n",
       "</style>\n",
       "<table border=\"1\" class=\"dataframe\">\n",
       "  <thead>\n",
       "    <tr style=\"text-align: right;\">\n",
       "      <th></th>\n",
       "      <th>rating</th>\n",
       "      <th>ItemName</th>\n",
       "      <th>Category</th>\n",
       "      <th>Quality</th>\n",
       "      <th>userID</th>\n",
       "      <th>itemID</th>\n",
       "    </tr>\n",
       "  </thead>\n",
       "  <tbody>\n",
       "    <tr>\n",
       "      <th>0</th>\n",
       "      <td>1.533462</td>\n",
       "      <td>Restaurant Fake</td>\n",
       "      <td>5</td>\n",
       "      <td>1.647351</td>\n",
       "      <td>13</td>\n",
       "      <td>0</td>\n",
       "    </tr>\n",
       "    <tr>\n",
       "      <th>1</th>\n",
       "      <td>1.283205</td>\n",
       "      <td>Restaurant Fake</td>\n",
       "      <td>5</td>\n",
       "      <td>1.647351</td>\n",
       "      <td>15</td>\n",
       "      <td>0</td>\n",
       "    </tr>\n",
       "    <tr>\n",
       "      <th>2</th>\n",
       "      <td>1.506836</td>\n",
       "      <td>Restaurant Fake</td>\n",
       "      <td>5</td>\n",
       "      <td>1.647351</td>\n",
       "      <td>17</td>\n",
       "      <td>0</td>\n",
       "    </tr>\n",
       "    <tr>\n",
       "      <th>3</th>\n",
       "      <td>1.260289</td>\n",
       "      <td>Restaurant Fake</td>\n",
       "      <td>5</td>\n",
       "      <td>1.647351</td>\n",
       "      <td>19</td>\n",
       "      <td>0</td>\n",
       "    </tr>\n",
       "    <tr>\n",
       "      <th>4</th>\n",
       "      <td>3.203168</td>\n",
       "      <td>Restaurant Fake</td>\n",
       "      <td>5</td>\n",
       "      <td>1.647351</td>\n",
       "      <td>23</td>\n",
       "      <td>0</td>\n",
       "    </tr>\n",
       "  </tbody>\n",
       "</table>\n",
       "</div>"
      ],
      "text/plain": [
       "     rating         ItemName  Category   Quality  userID  itemID\n",
       "0  1.533462  Restaurant Fake         5  1.647351      13       0\n",
       "1  1.283205  Restaurant Fake         5  1.647351      15       0\n",
       "2  1.506836  Restaurant Fake         5  1.647351      17       0\n",
       "3  1.260289  Restaurant Fake         5  1.647351      19       0\n",
       "4  3.203168  Restaurant Fake         5  1.647351      23       0"
      ]
     },
     "execution_count": 2,
     "metadata": {},
     "output_type": "execute_result"
    }
   ],
   "source": [
    "# Load the dataset from csv file\n",
    "df1 = pd.read_csv('rats.csv')\n",
    "df2 = pd.read_csv('icat.csv')\n",
    "merged_df = pd.merge(df1, df2, on='itemId')\n",
    "\n",
    "# create new dataframe\n",
    "df3 = pd.DataFrame(merged_df)\n",
    "df3['Category'] = df3['Category'].astype('category').cat.codes\n",
    "df3['userID'] = df3['userId']\n",
    "df3['itemID'] = df3['itemId']\n",
    "df3 = df3.drop(['userId', 'itemId'], axis=1)\n",
    "df3.head()"
   ]
  },
  {
   "cell_type": "code",
   "execution_count": 3,
   "metadata": {},
   "outputs": [],
   "source": [
    "# top k items to recommend\n",
    "TOP_K = 10\n",
    "\n",
    "# Model parameters\n",
    "EPOCHS = 15\n",
    "BATCH_SIZE = 1024\n",
    "\n",
    "SEED = DEFAULT_SEED  # Set None for non-deterministic results\n",
    "\n",
    "yaml_file = \"lightgcn.yaml\"\n",
    "\n",
    "header = {\n",
    "    \"col_user\": \"userID\",\n",
    "    \"col_item\": \"itemID\",\n",
    "    \"col_rating\": \"rating\",\n",
    "    \"col_timestamp\": \"Category\"\n",
    "}"
   ]
  },
  {
   "cell_type": "code",
   "execution_count": 4,
   "metadata": {},
   "outputs": [],
   "source": [
    "train, test = python_stratified_split(df3, ratio=0.75, col_user=header[\"col_user\"], col_item=header[\"col_item\"], seed=42)"
   ]
  },
  {
   "attachments": {},
   "cell_type": "markdown",
   "metadata": {},
   "source": [
    "# SAR Model"
   ]
  },
  {
   "cell_type": "code",
   "execution_count": 5,
   "metadata": {},
   "outputs": [],
   "source": [
    "# set log level to INFO\n",
    "logging.basicConfig(level=logging.DEBUG, \n",
    "                    format='%(asctime)s %(levelname)-8s %(message)s')\n",
    "\n",
    "model = SAR(\n",
    "    similarity_type=\"jaccard\", \n",
    "    time_decay_coefficient=30, \n",
    "    time_now=None, \n",
    "    timedecay_formula=True, \n",
    "    **header\n",
    ")"
   ]
  },
  {
   "cell_type": "code",
   "execution_count": 6,
   "metadata": {},
   "outputs": [
    {
     "name": "stderr",
     "output_type": "stream",
     "text": [
      "2023-05-15 13:34:47,350 INFO     Collecting user affinity matrix\n",
      "2023-05-15 13:34:47,357 INFO     Calculating time-decayed affinities\n",
      "2023-05-15 13:34:47,540 INFO     Creating index columns\n",
      "2023-05-15 13:34:47,879 INFO     Building user affinity sparse matrix\n",
      "2023-05-15 13:34:47,894 INFO     Calculating item co-occurrence\n",
      "2023-05-15 13:34:47,929 INFO     Calculating item similarity\n",
      "2023-05-15 13:34:47,930 INFO     Using jaccard based similarity\n",
      "2023-05-15 13:34:47,932 INFO     Done training\n"
     ]
    }
   ],
   "source": [
    "model.fit(train)"
   ]
  },
  {
   "cell_type": "code",
   "execution_count": 7,
   "metadata": {},
   "outputs": [
    {
     "name": "stderr",
     "output_type": "stream",
     "text": [
      "2023-05-15 13:44:27,543 INFO     Calculating recommendation scores\n",
      "2023-05-15 13:44:27,640 INFO     Removing seen items\n"
     ]
    }
   ],
   "source": [
    "# top k items to recommend\n",
    "top_k = model.recommend_k_items(test, top_k=TOP_K, remove_seen=True)"
   ]
  },
  {
   "cell_type": "code",
   "execution_count": 12,
   "metadata": {},
   "outputs": [
    {
     "data": {
      "text/html": [
       "<div>\n",
       "<style scoped>\n",
       "    .dataframe tbody tr th:only-of-type {\n",
       "        vertical-align: middle;\n",
       "    }\n",
       "\n",
       "    .dataframe tbody tr th {\n",
       "        vertical-align: top;\n",
       "    }\n",
       "\n",
       "    .dataframe thead th {\n",
       "        text-align: right;\n",
       "    }\n",
       "</style>\n",
       "<table border=\"1\" class=\"dataframe\">\n",
       "  <thead>\n",
       "    <tr style=\"text-align: right;\">\n",
       "      <th></th>\n",
       "      <th>userID</th>\n",
       "      <th>itemID</th>\n",
       "      <th>prediction</th>\n",
       "      <th>ItemName</th>\n",
       "    </tr>\n",
       "  </thead>\n",
       "  <tbody>\n",
       "    <tr>\n",
       "      <th>693070</th>\n",
       "      <td>99999</td>\n",
       "      <td>2</td>\n",
       "      <td>0.621051</td>\n",
       "      <td>Random Shopping Mall</td>\n",
       "    </tr>\n",
       "    <tr>\n",
       "      <th>693071</th>\n",
       "      <td>99999</td>\n",
       "      <td>1</td>\n",
       "      <td>0.619378</td>\n",
       "      <td>Fiction Nightclub</td>\n",
       "    </tr>\n",
       "    <tr>\n",
       "      <th>693072</th>\n",
       "      <td>99999</td>\n",
       "      <td>0</td>\n",
       "      <td>0.611970</td>\n",
       "      <td>Restaurant Fake</td>\n",
       "    </tr>\n",
       "    <tr>\n",
       "      <th>693073</th>\n",
       "      <td>99999</td>\n",
       "      <td>3</td>\n",
       "      <td>0.604664</td>\n",
       "      <td>Bogus Waterpark</td>\n",
       "    </tr>\n",
       "    <tr>\n",
       "      <th>693074</th>\n",
       "      <td>99999</td>\n",
       "      <td>4</td>\n",
       "      <td>0.599879</td>\n",
       "      <td>Unknown Nature Route</td>\n",
       "    </tr>\n",
       "    <tr>\n",
       "      <th>693075</th>\n",
       "      <td>99999</td>\n",
       "      <td>6</td>\n",
       "      <td>0.589236</td>\n",
       "      <td>Never Happened Festival</td>\n",
       "    </tr>\n",
       "    <tr>\n",
       "      <th>693076</th>\n",
       "      <td>99999</td>\n",
       "      <td>7</td>\n",
       "      <td>0.580514</td>\n",
       "      <td>False Tavern</td>\n",
       "    </tr>\n",
       "    <tr>\n",
       "      <th>693077</th>\n",
       "      <td>99999</td>\n",
       "      <td>8</td>\n",
       "      <td>0.552795</td>\n",
       "      <td>MakeBelieve Pub</td>\n",
       "    </tr>\n",
       "    <tr>\n",
       "      <th>693078</th>\n",
       "      <td>99999</td>\n",
       "      <td>9</td>\n",
       "      <td>0.551365</td>\n",
       "      <td>Another Sport Event</td>\n",
       "    </tr>\n",
       "    <tr>\n",
       "      <th>693079</th>\n",
       "      <td>99999</td>\n",
       "      <td>10</td>\n",
       "      <td>0.513836</td>\n",
       "      <td>Surprise Concert</td>\n",
       "    </tr>\n",
       "  </tbody>\n",
       "</table>\n",
       "</div>"
      ],
      "text/plain": [
       "        userID  itemID  prediction                 ItemName\n",
       "693070   99999       2    0.621051     Random Shopping Mall\n",
       "693071   99999       1    0.619378        Fiction Nightclub\n",
       "693072   99999       0    0.611970          Restaurant Fake\n",
       "693073   99999       3    0.604664          Bogus Waterpark\n",
       "693074   99999       4    0.599879     Unknown Nature Route\n",
       "693075   99999       6    0.589236  Never Happened Festival\n",
       "693076   99999       7    0.580514             False Tavern\n",
       "693077   99999       8    0.552795          MakeBelieve Pub\n",
       "693078   99999       9    0.551365      Another Sport Event\n",
       "693079   99999      10    0.513836         Surprise Concert"
      ]
     },
     "metadata": {},
     "output_type": "display_data"
    }
   ],
   "source": [
    "top_k_with_titles = (top_k.join(df3[['itemID', 'ItemName']].drop_duplicates().set_index('itemID'), \n",
    "                                on='itemID', \n",
    "                                how='inner').sort_values(by=['userID','prediction'], ascending=False))\n",
    "display(top_k_with_titles.head(10))"
   ]
  },
  {
   "cell_type": "code",
   "execution_count": 13,
   "metadata": {},
   "outputs": [],
   "source": [
    "# all ranking metrics have the same arguments\n",
    "args = [test, top_k]\n",
    "kwargs = dict(col_user='userID', \n",
    "              col_item='itemID', \n",
    "              col_rating='rating', \n",
    "              col_prediction='prediction', \n",
    "              relevancy_method='top_k', \n",
    "              k=TOP_K)\n",
    "\n",
    "eval_map = map_at_k(*args, **kwargs)\n",
    "eval_ndcg = ndcg_at_k(*args, **kwargs)\n",
    "eval_precision = precision_at_k(*args, **kwargs)\n",
    "eval_recall = recall_at_k(*args, **kwargs)"
   ]
  },
  {
   "cell_type": "code",
   "execution_count": 14,
   "metadata": {},
   "outputs": [
    {
     "name": "stdout",
     "output_type": "stream",
     "text": [
      "Model: SAR\n",
      "Top K:\t\t 10\n",
      "MAP:\t\t 0.054901\n",
      "NDCG:\t\t 0.094697\n",
      "Precision@K:\t 0.026674\n",
      "Recall@K:\t 0.219833\n"
     ]
    }
   ],
   "source": [
    "print(f\"Model: SAR\",\n",
    "      f\"Top K:\\t\\t {TOP_K}\",\n",
    "      f\"MAP:\\t\\t {eval_map:f}\",\n",
    "      f\"NDCG:\\t\\t {eval_ndcg:f}\",\n",
    "      f\"Precision@K:\\t {eval_precision:f}\",\n",
    "      f\"Recall@K:\\t {eval_recall:f}\", sep='\\n')"
   ]
  },
  {
   "attachments": {},
   "cell_type": "markdown",
   "metadata": {},
   "source": [
    "# Light GCN Model"
   ]
  },
  {
   "cell_type": "code",
   "execution_count": 15,
   "metadata": {},
   "outputs": [
    {
     "name": "stderr",
     "output_type": "stream",
     "text": [
      "c:\\Users\\hira\\.conda\\envs\\recomendENV\\lib\\site-packages\\recommenders\\models\\deeprec\\DataModel\\ImplicitCF.py:73: FutureWarning: The frame.append method is deprecated and will be removed from pandas in a future version. Use pandas.concat instead.\n",
      "  df = train if test is None else train.append(test)\n"
     ]
    }
   ],
   "source": [
    "data = ImplicitCF(train=train, test=test, seed=SEED)"
   ]
  },
  {
   "cell_type": "code",
   "execution_count": 18,
   "metadata": {},
   "outputs": [],
   "source": [
    "hparams = prepare_hparams(yaml_file,\n",
    "                          n_layers=3,\n",
    "                          batch_size=BATCH_SIZE,\n",
    "                          epochs=EPOCHS,\n",
    "                          learning_rate=0.015,\n",
    "                          eval_epoch=5,\n",
    "                          top_k=TOP_K,\n",
    "                          decay = 0.0001,\n",
    "                          embed_size = 64\n",
    "                         )"
   ]
  },
  {
   "cell_type": "code",
   "execution_count": 19,
   "metadata": {},
   "outputs": [
    {
     "name": "stdout",
     "output_type": "stream",
     "text": [
      "Already create adjacency matrix.\n",
      "Already normalize adjacency matrix.\n",
      "Using xavier initialization.\n"
     ]
    }
   ],
   "source": [
    "model = LightGCN(hparams, data, seed=SEED)"
   ]
  },
  {
   "cell_type": "code",
   "execution_count": 20,
   "metadata": {},
   "outputs": [
    {
     "name": "stdout",
     "output_type": "stream",
     "text": [
      "Epoch 1 (train)196.5s: train loss = 0.03209 = (mf)0.03114 + (embed)0.00095\n",
      "Epoch 2 (train)175.9s: train loss = 0.00060 = (mf)0.00026 + (embed)0.00034\n",
      "Epoch 3 (train)175.7s: train loss = 0.00046 = (mf)0.00014 + (embed)0.00032\n",
      "Epoch 4 (train)174.7s: train loss = 0.00040 = (mf)0.00007 + (embed)0.00032\n",
      "Epoch 5 (train)178.2s + (eval)25.6s: train loss = 0.00037 = (mf)0.00006 + (embed)0.00031, recall = 0.44415, ndcg = 0.20566, precision = 0.05273, map = 0.12741\n",
      "Epoch 6 (train)182.1s: train loss = 0.00037 = (mf)0.00007 + (embed)0.00031\n",
      "Epoch 7 (train)176.3s: train loss = 0.00036 = (mf)0.00006 + (embed)0.00030\n",
      "Epoch 8 (train)176.6s: train loss = 0.00033 = (mf)0.00004 + (embed)0.00029\n",
      "Epoch 9 (train)175.9s: train loss = 0.00034 = (mf)0.00006 + (embed)0.00028\n",
      "Epoch 10 (train)177.2s + (eval)24.8s: train loss = 0.00031 = (mf)0.00004 + (embed)0.00027, recall = 0.46330, ndcg = 0.21596, precision = 0.05525, map = 0.13466\n",
      "Epoch 11 (train)180.1s: train loss = 0.00029 = (mf)0.00003 + (embed)0.00026\n",
      "Epoch 12 (train)157.4s: train loss = 0.00027 = (mf)0.00003 + (embed)0.00024\n",
      "Epoch 13 (train)157.9s: train loss = 0.00027 = (mf)0.00003 + (embed)0.00024\n",
      "Epoch 14 (train)163.6s: train loss = 0.00026 = (mf)0.00003 + (embed)0.00023\n",
      "Epoch 15 (train)178.6s + (eval)26.6s: train loss = 0.00026 = (mf)0.00003 + (embed)0.00023, recall = 0.42033, ndcg = 0.19337, precision = 0.05044, map = 0.11886\n",
      "Took 2703.5797429000004 seconds for training.\n"
     ]
    }
   ],
   "source": [
    "with Timer() as train_time:\n",
    "    model.fit()\n",
    "\n",
    "print(\"Took {} seconds for training.\".format(train_time.interval))"
   ]
  },
  {
   "cell_type": "code",
   "execution_count": 23,
   "metadata": {},
   "outputs": [
    {
     "data": {
      "text/html": [
       "<div>\n",
       "<style scoped>\n",
       "    .dataframe tbody tr th:only-of-type {\n",
       "        vertical-align: middle;\n",
       "    }\n",
       "\n",
       "    .dataframe tbody tr th {\n",
       "        vertical-align: top;\n",
       "    }\n",
       "\n",
       "    .dataframe thead th {\n",
       "        text-align: right;\n",
       "    }\n",
       "</style>\n",
       "<table border=\"1\" class=\"dataframe\">\n",
       "  <thead>\n",
       "    <tr style=\"text-align: right;\">\n",
       "      <th></th>\n",
       "      <th>userID</th>\n",
       "      <th>itemID</th>\n",
       "      <th>prediction</th>\n",
       "    </tr>\n",
       "  </thead>\n",
       "  <tbody>\n",
       "    <tr>\n",
       "      <th>0</th>\n",
       "      <td>0</td>\n",
       "      <td>0</td>\n",
       "      <td>-0.707872</td>\n",
       "    </tr>\n",
       "    <tr>\n",
       "      <th>1</th>\n",
       "      <td>0</td>\n",
       "      <td>9</td>\n",
       "      <td>-0.784956</td>\n",
       "    </tr>\n",
       "    <tr>\n",
       "      <th>2</th>\n",
       "      <td>0</td>\n",
       "      <td>7</td>\n",
       "      <td>-0.894916</td>\n",
       "    </tr>\n",
       "    <tr>\n",
       "      <th>3</th>\n",
       "      <td>0</td>\n",
       "      <td>12</td>\n",
       "      <td>-1.025794</td>\n",
       "    </tr>\n",
       "    <tr>\n",
       "      <th>4</th>\n",
       "      <td>0</td>\n",
       "      <td>2</td>\n",
       "      <td>-1.049443</td>\n",
       "    </tr>\n",
       "    <tr>\n",
       "      <th>5</th>\n",
       "      <td>0</td>\n",
       "      <td>4</td>\n",
       "      <td>-1.128146</td>\n",
       "    </tr>\n",
       "    <tr>\n",
       "      <th>6</th>\n",
       "      <td>0</td>\n",
       "      <td>8</td>\n",
       "      <td>-1.315912</td>\n",
       "    </tr>\n",
       "    <tr>\n",
       "      <th>7</th>\n",
       "      <td>0</td>\n",
       "      <td>3</td>\n",
       "      <td>-1.326609</td>\n",
       "    </tr>\n",
       "    <tr>\n",
       "      <th>8</th>\n",
       "      <td>0</td>\n",
       "      <td>13</td>\n",
       "      <td>-1.546036</td>\n",
       "    </tr>\n",
       "    <tr>\n",
       "      <th>9</th>\n",
       "      <td>0</td>\n",
       "      <td>6</td>\n",
       "      <td>-1.555954</td>\n",
       "    </tr>\n",
       "  </tbody>\n",
       "</table>\n",
       "</div>"
      ],
      "text/plain": [
       "   userID  itemID  prediction\n",
       "0       0       0   -0.707872\n",
       "1       0       9   -0.784956\n",
       "2       0       7   -0.894916\n",
       "3       0      12   -1.025794\n",
       "4       0       2   -1.049443\n",
       "5       0       4   -1.128146\n",
       "6       0       8   -1.315912\n",
       "7       0       3   -1.326609\n",
       "8       0      13   -1.546036\n",
       "9       0       6   -1.555954"
      ]
     },
     "execution_count": 23,
     "metadata": {},
     "output_type": "execute_result"
    }
   ],
   "source": [
    "topk_scores = model.recommend_k_items(test, top_k=TOP_K, remove_seen=True)\n",
    "topk_scores.head(10)"
   ]
  },
  {
   "cell_type": "code",
   "execution_count": 22,
   "metadata": {},
   "outputs": [
    {
     "name": "stdout",
     "output_type": "stream",
     "text": [
      "Model: Light GCN\n",
      "MAP:\t0.118860\n",
      "NDCG:\t0.193370\n",
      "Precision@K:\t0.050437\n",
      "Recall@K:\t0.420329\n"
     ]
    }
   ],
   "source": [
    "eval_map = map_at_k(test, topk_scores, k=TOP_K)\n",
    "eval_ndcg = ndcg_at_k(test, topk_scores, k=TOP_K)\n",
    "eval_precision = precision_at_k(test, topk_scores, k=TOP_K)\n",
    "eval_recall = recall_at_k(test, topk_scores, k=TOP_K)\n",
    "\n",
    "print(\"Model: Light GCN\",\n",
    "      \"MAP:\\t%f\" % eval_map,\n",
    "      \"NDCG:\\t%f\" % eval_ndcg,\n",
    "      \"Precision@K:\\t%f\" % eval_precision,\n",
    "      \"Recall@K:\\t%f\" % eval_recall, sep='\\n')"
   ]
  },
  {
   "attachments": {},
   "cell_type": "markdown",
   "metadata": {},
   "source": [
    "# SVD Model"
   ]
  },
  {
   "cell_type": "code",
   "execution_count": null,
   "metadata": {},
   "outputs": [],
   "source": []
  }
 ],
 "metadata": {
  "kernelspec": {
   "display_name": "recomendENV",
   "language": "python",
   "name": "python3"
  },
  "language_info": {
   "codemirror_mode": {
    "name": "ipython",
    "version": 3
   },
   "file_extension": ".py",
   "mimetype": "text/x-python",
   "name": "python",
   "nbconvert_exporter": "python",
   "pygments_lexer": "ipython3",
   "version": "3.8.16"
  },
  "orig_nbformat": 4
 },
 "nbformat": 4,
 "nbformat_minor": 2
}
